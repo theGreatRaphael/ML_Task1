{
 "cells": [
  {
   "cell_type": "markdown",
   "source": [
    "# Chose 3 different classification techniques"
   ],
   "metadata": {
    "collapsed": false
   }
  },
  {
   "cell_type": "markdown",
   "source": [
    "## Read data\n",
    "Only `learn` file relevant for training:\n",
    "`data/breast_cancer/breast-cancer-diagnostic.shuf.lrn.csv`\n",
    "Only `test` file relevant for testing:\n",
    "`data/breast_cancer/breast-cancer-diagnostic.shuf.test.csv`"
   ],
   "metadata": {
    "collapsed": false
   }
  },
  {
   "cell_type": "code",
   "execution_count": 2,
   "outputs": [],
   "source": [
    "import pandas as pd\n",
    "from sklearn.model_selection import train_test_split\n",
    "\n",
    "import matplotlib.pyplot as plt\n",
    "import seaborn as sns\n",
    "import numpy as np\n"
   ],
   "metadata": {
    "collapsed": false,
    "pycharm": {
     "name": "#%%\n",
     "is_executing": false
    }
   }
  },
  {
   "cell_type": "code",
   "execution_count": 181,
   "outputs": [],
   "source": [
    "breast_cancer = pd.read_csv('data/breast_cancer/breast-cancer-diagnostic.shuf.lrn.csv')\n",
    "breast_cancer_full_test = pd.read_csv('data/breast_cancer/breast-cancer-diagnostic.shuf.tes.csv')"
   ],
   "metadata": {
    "collapsed": false,
    "pycharm": {
     "name": "#%%\n",
     "is_executing": false
    }
   }
  },
  {
   "cell_type": "markdown",
   "source": [
    "### Check data\n",
    "`info()` method shows if there are missing values\n",
    "it shows that there aren't any missing values (non-null for every feature)"
   ],
   "metadata": {
    "collapsed": false
   }
  },
  {
   "cell_type": "code",
   "execution_count": 4,
   "outputs": [
    {
     "name": "stdout",
     "text": [
      "<class 'pandas.core.frame.DataFrame'>\nRangeIndex: 285 entries, 0 to 284\nData columns (total 32 columns):\nID                         285 non-null int64\nclass                      285 non-null object\nradiusMean                 285 non-null float64\n textureMean               285 non-null float64\n perimeterMean             285 non-null float64\n areaMean                  285 non-null float64\n smoothnessMean            285 non-null float64\n compactnessMean           285 non-null float64\n concavityMean             285 non-null float64\n concavePointsMean         285 non-null float64\n symmetryMean              285 non-null float64\n fractalDimensionMean      285 non-null float64\n radiusStdErr              285 non-null float64\n textureStdErr             285 non-null float64\n perimeterStdErr           285 non-null float64\n areaStdErr                285 non-null float64\n smoothnessStdErr          285 non-null float64\n compactnessStdErr         285 non-null float64\n concavityStdErr           285 non-null float64\n concavePointsStdErr       285 non-null float64\n symmetryStdErr            285 non-null float64\n fractalDimensionStdErr    285 non-null float64\n radiusWorst               285 non-null float64\n textureWorst              285 non-null float64\n perimeterWorst            285 non-null float64\n areaWorst                 285 non-null float64\n smoothnessWorst           285 non-null float64\n compactnessWorst          285 non-null float64\n concavityWorst            285 non-null float64\n concavePointsWorst        285 non-null float64\n symmetryWorst             285 non-null float64\n fractalDimensionWorst     285 non-null float64\ndtypes: float64(30), int64(1), object(1)\nmemory usage: 71.4+ KB\n"
     ],
     "output_type": "stream"
    }
   ],
   "source": [
    "breast_cancer.info()"
   ],
   "metadata": {
    "collapsed": false,
    "pycharm": {
     "name": "#%%\n",
     "is_executing": false
    }
   }
  },
  {
   "cell_type": "code",
   "execution_count": 6,
   "outputs": [
    {
     "name": "stdout",
     "text": [
      "['B' 'M']\n"
     ],
     "output_type": "stream"
    }
   ],
   "source": [
    "print(breast_cancer['class'].unique())\n"
   ],
   "metadata": {
    "collapsed": false,
    "pycharm": {
     "name": "#%%\n",
     "is_executing": false
    }
   }
  },
  {
   "cell_type": "markdown",
   "source": [
    "## Creating train and test data \n",
    "Using a stratified approach to ensure all the classes are in the training data."
   ],
   "metadata": {
    "collapsed": false
   }
  },
  {
   "cell_type": "code",
   "execution_count": 183,
   "outputs": [],
   "source": [
    "X = breast_cancer.drop(['ID','class'], axis = 1).values\n",
    "y = breast_cancer['class'].values\n",
    "X_full_test = breast_cancer_full_test.drop(['ID'], axis=1).values"
   ],
   "metadata": {
    "collapsed": false,
    "pycharm": {
     "name": "#%%\n",
     "is_executing": false
    }
   }
  },
  {
   "cell_type": "code",
   "execution_count": 82,
   "outputs": [],
   "source": [
    "X_train, X_test, y_train, y_test = train_test_split(X, y, test_size = 0.3, random_state = 42, stratify=y)\n"
   ],
   "metadata": {
    "collapsed": false,
    "pycharm": {
     "name": "#%%\n",
     "is_executing": false
    }
   }
  },
  {
   "cell_type": "markdown",
   "source": [
    "## Starting with a simple model to:\n",
    "+ get a sense of how challenging the problem is\n",
    "+ many more things might go wrong with complex models\n",
    "+ how much signal can we pull out using basic models"
   ],
   "metadata": {
    "collapsed": false
   }
  },
  {
   "cell_type": "markdown",
   "source": [
    "## Logistic Regression\n",
    "__Score history:__  \n",
    "\n",
    "|description | accuracy | marco avg | weighted avg |\n",
    "|------------| -------- | --------- | ------------ |\n",
    "| first try | 0.34 | 0.17, 0.50, 0.25 | 0.11, 0.34, 0.17 |\n",
    "| with robustScaler | 0.98 | 0.97, 0.98, 0.97 | 0.98, 0.98, 0.98 |\n",
    "| - | - | - | - |\n"
   ],
   "metadata": {
    "collapsed": false
   }
  },
  {
   "cell_type": "markdown",
   "source": [
    "### Logistic Regression parameters\n",
    "TODO"
   ],
   "metadata": {
    "collapsed": false
   }
  },
  {
   "cell_type": "code",
   "execution_count": 83,
   "outputs": [],
   "source": [
    "from sklearn.linear_model.logistic import LogisticRegression\n",
    "from sklearn.model_selection import GridSearchCV\n",
    "from sklearn.pipeline import Pipeline\n",
    "from sklearn.preprocessing import RobustScaler\n",
    "from sklearn.metrics import classification_report, confusion_matrix  "
   ],
   "metadata": {
    "collapsed": false,
    "pycharm": {
     "name": "#%%\n",
     "is_executing": false
    }
   }
  },
  {
   "cell_type": "code",
   "execution_count": 84,
   "outputs": [],
   "source": [
    "pipe_logreg = Pipeline([\n",
    "    ('scaler', RobustScaler()),\n",
    "    ('logreg', LogisticRegression())\n",
    "])"
   ],
   "metadata": {
    "collapsed": false,
    "pycharm": {
     "name": "#%%\n",
     "is_executing": false
    }
   }
  },
  {
   "cell_type": "code",
   "execution_count": 85,
   "outputs": [],
   "source": [
    "# create parameter list for ridge regression\n",
    "params_logreg = {\n",
    "    'logreg__C':[0.5, 0.6, 0.7, 1.1],\n",
    "    'logreg__class_weight': ['balanced']\n",
    "}"
   ],
   "metadata": {
    "collapsed": false,
    "pycharm": {
     "name": "#%%\n",
     "is_executing": false
    }
   }
  },
  {
   "cell_type": "code",
   "execution_count": 86,
   "outputs": [],
   "source": [
    "# setup cross validation parameter grid search\n",
    "grid_logreg = GridSearchCV(estimator=pipe_logreg,\n",
    "    param_grid=params_logreg,\n",
    "    cv=3,\n",
    "    scoring='f1_weighted',\n",
    "    verbose=2,\n",
    "    n_jobs=-1)"
   ],
   "metadata": {
    "collapsed": false,
    "pycharm": {
     "name": "#%%\n",
     "is_executing": false
    }
   }
  },
  {
   "cell_type": "code",
   "execution_count": 87,
   "outputs": [
    {
     "name": "stdout",
     "text": [
      "Fitting 3 folds for each of 4 candidates, totalling 12 fits\n"
     ],
     "output_type": "stream"
    },
    {
     "name": "stderr",
     "text": [
      "[Parallel(n_jobs=-1)]: Using backend LokyBackend with 4 concurrent workers.\n",
      "[Parallel(n_jobs=-1)]: Done  12 out of  12 | elapsed:    2.5s remaining:    0.0s\n[Parallel(n_jobs=-1)]: Done  12 out of  12 | elapsed:    2.5s finished\nc:\\users\\redbull129\\appdata\\local\\programs\\python\\python37\\lib\\site-packages\\sklearn\\linear_model\\logistic.py:432: FutureWarning: Default solver will be changed to 'lbfgs' in 0.22. Specify a solver to silence this warning.\n  FutureWarning)\n"
     ],
     "output_type": "stream"
    },
    {
     "data": {
      "text/plain": "GridSearchCV(cv=3, error_score='raise-deprecating',\n             estimator=Pipeline(memory=None,\n                                steps=[('scaler',\n                                        RobustScaler(copy=True,\n                                                     quantile_range=(25.0,\n                                                                     75.0),\n                                                     with_centering=True,\n                                                     with_scaling=True)),\n                                       ('logreg',\n                                        LogisticRegression(C=1.0,\n                                                           class_weight=None,\n                                                           dual=False,\n                                                           fit_intercept=True,\n                                                           intercept_scaling=1,\n                                                           l1_ratio=None,\n                                                           max_iter=100,\n                                                           multi_class='warn',\n                                                           n_jobs=None,\n                                                           penalty='l2',\n                                                           random_state=None,\n                                                           solver='warn',\n                                                           tol=0.0001,\n                                                           verbose=0,\n                                                           warm_start=False))],\n                                verbose=False),\n             iid='warn', n_jobs=-1,\n             param_grid={'logreg__C': [0.5, 0.6, 0.7, 1.1],\n                         'logreg__class_weight': ['balanced']},\n             pre_dispatch='2*n_jobs', refit=True, return_train_score=False,\n             scoring='f1_weighted', verbose=2)"
     },
     "metadata": {},
     "output_type": "execute_result",
     "execution_count": 87
    }
   ],
   "source": [
    "# fitting model on training data\n",
    "grid_logreg.fit(X_train, y_train)"
   ],
   "metadata": {
    "collapsed": false,
    "pycharm": {
     "name": "#%%\n",
     "is_executing": false
    }
   }
  },
  {
   "cell_type": "code",
   "execution_count": 88,
   "outputs": [
    {
     "data": {
      "text/plain": "{'logreg__C': 0.5, 'logreg__class_weight': 'balanced'}"
     },
     "metadata": {},
     "output_type": "execute_result",
     "execution_count": 88
    }
   ],
   "source": [
    "# extracting best parameters (can be used for finer hyper parameter tuning)\n",
    "grid_logreg.best_params_"
   ],
   "metadata": {
    "collapsed": false,
    "pycharm": {
     "name": "#%%\n",
     "is_executing": false
    }
   }
  },
  {
   "cell_type": "code",
   "execution_count": 89,
   "outputs": [
    {
     "data": {
      "text/plain": "0.9769241417497232"
     },
     "metadata": {},
     "output_type": "execute_result",
     "execution_count": 89
    }
   ],
   "source": [
    "grid_logreg.score(X_test, y_test) \n"
   ],
   "metadata": {
    "collapsed": false,
    "pycharm": {
     "name": "#%%\n",
     "is_executing": false
    }
   }
  },
  {
   "cell_type": "code",
   "execution_count": 90,
   "outputs": [],
   "source": [
    "y_pred = grid_logreg.predict(X_test)"
   ],
   "metadata": {
    "collapsed": false,
    "pycharm": {
     "name": "#%%\n",
     "is_executing": false
    }
   }
  },
  {
   "cell_type": "code",
   "execution_count": 91,
   "outputs": [
    {
     "name": "stdout",
     "text": [
      "              precision    recall  f1-score   support\n\n           B       1.00      0.96      0.98        57\n           M       0.94      1.00      0.97        29\n\n    accuracy                           0.98        86\n   macro avg       0.97      0.98      0.97        86\nweighted avg       0.98      0.98      0.98        86\n\n"
     ],
     "output_type": "stream"
    }
   ],
   "source": [
    "print(classification_report(y_test, y_pred)) "
   ],
   "metadata": {
    "collapsed": false,
    "pycharm": {
     "name": "#%%\n",
     "is_executing": false
    }
   }
  },
  {
   "cell_type": "code",
   "execution_count": 92,
   "outputs": [
    {
     "name": "stdout",
     "text": [
      "[[55  2]\n [ 0 29]]\n"
     ],
     "output_type": "stream"
    }
   ],
   "source": [
    "print(confusion_matrix(y_test, y_pred))\n",
    "cm = confusion_matrix(y_test, y_pred)"
   ],
   "metadata": {
    "collapsed": false,
    "pycharm": {
     "name": "#%%\n",
     "is_executing": false
    }
   }
  },
  {
   "cell_type": "markdown",
   "source": [
    "## KNN-Classifier\n",
    "__Score history:__\n",
    "\n",
    "|description | accuracy | marco avg | weighted avg |\n",
    "|------------| -------- | --------- | ------------ |\n",
    "| first try | 0.83 | 0.82, 0.78, 0.79 | 0.82, 0.83, 0.82 |\n",
    "| with MinMaxScaler | 0.98 | 0.98, 0.97, 0.97 | 0.98, 0.98, 0.98 |\n",
    "| - | - | - | - |"
   ],
   "metadata": {
    "collapsed": false
   }
  },
  {
   "cell_type": "markdown",
   "source": [
    "### KNN Parameters:"
   ],
   "metadata": {
    "collapsed": false
   }
  },
  {
   "cell_type": "code",
   "execution_count": 200,
   "outputs": [],
   "source": [
    "from sklearn.neighbors import KNeighborsClassifier  \n",
    "from sklearn.preprocessing import MinMaxScaler\n"
   ],
   "metadata": {
    "collapsed": false,
    "pycharm": {
     "name": "#%%\n",
     "is_executing": false
    }
   }
  },
  {
   "cell_type": "code",
   "execution_count": 201,
   "outputs": [],
   "source": [
    "pipe_knn = Pipeline([\n",
    "    ('scaler', MinMaxScaler()),\n",
    "    ('knn', KNeighborsClassifier())\n",
    "])"
   ],
   "metadata": {
    "collapsed": false,
    "pycharm": {
     "name": "#%%\n",
     "is_executing": false
    }
   }
  },
  {
   "cell_type": "code",
   "execution_count": 205,
   "outputs": [],
   "source": [
    "params_knn = {\n",
    "    'knn__n_neighbors': [x for x in range(1,50,2)], \n",
    "    'knn__p': [1, 2],\n",
    "    'knn__weights': ['uniform', 'distance']\n",
    "}\n"
   ],
   "metadata": {
    "collapsed": false,
    "pycharm": {
     "name": "#%%\n",
     "is_executing": false
    }
   }
  },
  {
   "cell_type": "code",
   "execution_count": 213,
   "outputs": [],
   "source": [
    "grid_knn = GridSearchCV(estimator=pipe_knn,\n",
    "    param_grid=params_knn,\n",
    "    cv=3,\n",
    "    #scoring='f1_weighted',\n",
    "    scoring='accuracy',\n",
    "    verbose=2,\n",
    "    n_jobs=-1)"
   ],
   "metadata": {
    "collapsed": false,
    "pycharm": {
     "name": "#%%\n",
     "is_executing": false
    }
   }
  },
  {
   "cell_type": "code",
   "execution_count": 214,
   "outputs": [
    {
     "name": "stdout",
     "text": [
      "Fitting 3 folds for each of 100 candidates, totalling 300 fits\n"
     ],
     "output_type": "stream"
    },
    {
     "name": "stderr",
     "text": [
      "[Parallel(n_jobs=-1)]: Using backend LokyBackend with 4 concurrent workers.\n",
      "[Parallel(n_jobs=-1)]: Done  35 tasks      | elapsed:    2.8s\n",
      "[Parallel(n_jobs=-1)]: Done 300 out of 300 | elapsed:    4.7s finished\nc:\\users\\redbull129\\appdata\\local\\programs\\python\\python37\\lib\\site-packages\\sklearn\\model_selection\\_search.py:814: DeprecationWarning: The default of the `iid` parameter will change from True to False in version 0.22 and will be removed in 0.24. This will change numeric results when test-set sizes are unequal.\n  DeprecationWarning)\n"
     ],
     "output_type": "stream"
    },
    {
     "data": {
      "text/plain": "GridSearchCV(cv=3, error_score='raise-deprecating',\n             estimator=Pipeline(memory=None,\n                                steps=[('scaler',\n                                        MinMaxScaler(copy=True,\n                                                     feature_range=(0, 1))),\n                                       ('knn',\n                                        KNeighborsClassifier(algorithm='auto',\n                                                             leaf_size=30,\n                                                             metric='minkowski',\n                                                             metric_params=None,\n                                                             n_jobs=None,\n                                                             n_neighbors=5, p=2,\n                                                             weights='uniform'))],\n                                verbose=False),\n             iid='warn', n_jobs=-1,\n             param_grid={'knn__n_neighbors': [1, 3, 5, 7, 9, 11, 13, 15, 17, 19,\n                                              21, 23, 25, 27, 29, 31, 33, 35,\n                                              37, 39, 41, 43, 45, 47, 49],\n                         'knn__p': [1, 2],\n                         'knn__weights': ['uniform', 'distance']},\n             pre_dispatch='2*n_jobs', refit=True, return_train_score=False,\n             scoring='accuracy', verbose=2)"
     },
     "metadata": {},
     "output_type": "execute_result",
     "execution_count": 214
    }
   ],
   "source": [
    "grid_knn.fit(X_train, y_train)"
   ],
   "metadata": {
    "collapsed": false,
    "pycharm": {
     "name": "#%%\n",
     "is_executing": false
    }
   }
  },
  {
   "cell_type": "code",
   "execution_count": 215,
   "outputs": [
    {
     "data": {
      "text/plain": "{'knn__n_neighbors': 3, 'knn__p': 1, 'knn__weights': 'uniform'}"
     },
     "metadata": {},
     "output_type": "execute_result",
     "execution_count": 215
    }
   ],
   "source": [
    "grid_knn.best_params_"
   ],
   "metadata": {
    "collapsed": false,
    "pycharm": {
     "name": "#%%\n",
     "is_executing": false
    }
   }
  },
  {
   "cell_type": "code",
   "execution_count": 216,
   "outputs": [
    {
     "data": {
      "text/plain": "0.9767441860465116"
     },
     "metadata": {},
     "output_type": "execute_result",
     "execution_count": 216
    }
   ],
   "source": [
    "grid_knn.score(X_test, y_test) "
   ],
   "metadata": {
    "collapsed": false,
    "pycharm": {
     "name": "#%%\n",
     "is_executing": false
    }
   }
  },
  {
   "cell_type": "code",
   "execution_count": 217,
   "outputs": [],
   "source": [
    "y_pred_knn = grid_knn.predict(X_test)"
   ],
   "metadata": {
    "collapsed": false,
    "pycharm": {
     "name": "#%%\n",
     "is_executing": false
    }
   }
  },
  {
   "cell_type": "code",
   "execution_count": 218,
   "outputs": [
    {
     "name": "stdout",
     "text": [
      "              precision    recall  f1-score   support\n\n           B       0.97      1.00      0.98        57\n           M       1.00      0.93      0.96        29\n\n    accuracy                           0.98        86\n   macro avg       0.98      0.97      0.97        86\nweighted avg       0.98      0.98      0.98        86\n\n"
     ],
     "output_type": "stream"
    }
   ],
   "source": [
    "print(classification_report(y_test, y_pred_knn)) "
   ],
   "metadata": {
    "collapsed": false,
    "pycharm": {
     "name": "#%%\n",
     "is_executing": false
    }
   }
  },
  {
   "cell_type": "code",
   "execution_count": 219,
   "outputs": [
    {
     "name": "stdout",
     "text": [
      "[[57  0]\n [ 2 27]]\n"
     ],
     "output_type": "stream"
    }
   ],
   "source": [
    "print(confusion_matrix(y_test, y_pred_knn))\n",
    "cm = confusion_matrix(y_test, y_pred_knn)"
   ],
   "metadata": {
    "collapsed": false,
    "pycharm": {
     "name": "#%%\n",
     "is_executing": false
    }
   }
  },
  {
   "cell_type": "markdown",
   "source": [
    "### train on full learn dataset and save output"
   ],
   "metadata": {
    "collapsed": false
   }
  },
  {
   "cell_type": "code",
   "execution_count": 220,
   "outputs": [
    {
     "name": "stdout",
     "text": [
      "Fitting 3 folds for each of 100 candidates, totalling 300 fits\n"
     ],
     "output_type": "stream"
    },
    {
     "name": "stderr",
     "text": [
      "[Parallel(n_jobs=-1)]: Using backend LokyBackend with 4 concurrent workers.\n",
      "[Parallel(n_jobs=-1)]: Done  40 tasks      | elapsed:    3.2s\n",
      "[Parallel(n_jobs=-1)]: Done 300 out of 300 | elapsed:    5.2s finished\n"
     ],
     "output_type": "stream"
    }
   ],
   "source": [
    "grid_knn.fit(X, y)\n",
    "y_full_pred_knn = grid_knn.predict(X_full_test)\n",
    "test_out_knn = pd.DataFrame()\n",
    "test_out_knn['ID'] = breast_cancer_full_test['ID']\n",
    "test_out_knn['class'] = y_full_pred_knn\n",
    "test_out_knn.to_csv('breast_cancer_test_knn.csv', index=False)"
   ],
   "metadata": {
    "collapsed": false,
    "pycharm": {
     "name": "#%%\n",
     "is_executing": false
    }
   }
  },
  {
   "cell_type": "code",
   "execution_count": 221,
   "outputs": [
    {
     "data": {
      "text/plain": "Pipeline(memory=None,\n         steps=[('scaler', MinMaxScaler(copy=True, feature_range=(0, 1))),\n                ('knn',\n                 KNeighborsClassifier(algorithm='auto', leaf_size=30,\n                                      metric='minkowski', metric_params=None,\n                                      n_jobs=None, n_neighbors=9, p=1,\n                                      weights='uniform'))],\n         verbose=False)"
     },
     "metadata": {},
     "output_type": "execute_result",
     "execution_count": 221
    }
   ],
   "source": [
    "grid_knn.best_estimator_"
   ],
   "metadata": {
    "collapsed": false,
    "pycharm": {
     "name": "#%%\n",
     "is_executing": false
    }
   }
  },
  {
   "cell_type": "markdown",
   "source": [
    "## Random Forest\n",
    "__Score history:__\n",
    "\n",
    "|description | accuracy | marco avg | weighted avg |\n",
    "|------------| -------- | --------- | ------------ |\n",
    "| first try | 1.00 | 1.00, 1.00, 1.00 | 1.00, 1.00, 1.00 |\n",
    "| - | - | - | - |"
   ],
   "metadata": {
    "collapsed": false
   }
  },
  {
   "cell_type": "markdown",
   "source": [
    "### Random Forest parameters\n",
    "- __n_estimators:__\n",
    "    - number of trees in the forest\n",
    "- __max_depth:__\n",
    "    - maximum depth of the tree\n",
    "- __min_samples_split:__\n",
    "    - the min. number of samples required to split an internal node\n",
    "- __min_samples_leaf:__\n",
    "    - the minimum number of samples required to be at a leaf node\n",
    "- __min_weight_fraction_leaf:__\n",
    "    - the minimum weighted fraction of the sum total of weights\n",
    "- __max_features:__\n",
    "    - the number of features to consider when looking for the best split\n",
    "- __min_impurity_decrease:__\n",
    "    - A node will be split if this split induces a decrease of the impurity greater than or equal to this value."
   ],
   "metadata": {
    "collapsed": false
   }
  },
  {
   "cell_type": "code",
   "execution_count": 222,
   "outputs": [],
   "source": [
    "from sklearn.ensemble import RandomForestClassifier"
   ],
   "metadata": {
    "collapsed": false,
    "pycharm": {
     "name": "#%%\n",
     "is_executing": false
    }
   }
  },
  {
   "cell_type": "code",
   "execution_count": 223,
   "outputs": [],
   "source": [
    "pipe_rf = Pipeline([\n",
    "    ('rf', RandomForestClassifier())\n",
    "])"
   ],
   "metadata": {
    "collapsed": false,
    "pycharm": {
     "name": "#%%\n",
     "is_executing": false
    }
   }
  },
  {
   "cell_type": "code",
   "execution_count": 224,
   "outputs": [],
   "source": [
    "params_rf = {\n",
    "    'rf__n_estimators': [50, 100],\n",
    "    'rf__max_depth': [None, 5, 7, 9, 10, 11, 13, 15, 20],\n",
    "    'rf__min_samples_split': [2, 3, 4, 5, 6],\n",
    "    'rf__max_leaf_nodes': [None, 5, 6, 7, 8, 9],\n",
    "    'rf__class_weight': [None, 'balanced']\n",
    "}\n"
   ],
   "metadata": {
    "collapsed": false,
    "pycharm": {
     "name": "#%%\n",
     "is_executing": false
    }
   }
  },
  {
   "cell_type": "code",
   "execution_count": 225,
   "outputs": [],
   "source": [
    "grid_rf = GridSearchCV(estimator=pipe_rf,\n",
    "    param_grid=params_rf,\n",
    "    cv=3,\n",
    "    scoring='accuracy',\n",
    "    verbose=2,\n",
    "    n_jobs=-1)\n"
   ],
   "metadata": {
    "collapsed": false,
    "pycharm": {
     "name": "#%%\n",
     "is_executing": false
    }
   }
  },
  {
   "cell_type": "code",
   "execution_count": 226,
   "outputs": [
    {
     "name": "stdout",
     "text": [
      "Fitting 3 folds for each of 1080 candidates, totalling 3240 fits\n"
     ],
     "output_type": "stream"
    },
    {
     "name": "stderr",
     "text": [
      "[Parallel(n_jobs=-1)]: Using backend LokyBackend with 4 concurrent workers.\n",
      "[Parallel(n_jobs=-1)]: Done  33 tasks      | elapsed:    4.9s\n",
      "[Parallel(n_jobs=-1)]: Done 154 tasks      | elapsed:   14.5s\n",
      "[Parallel(n_jobs=-1)]: Done 357 tasks      | elapsed:   29.3s\n",
      "[Parallel(n_jobs=-1)]: Done 640 tasks      | elapsed:   52.4s\n",
      "[Parallel(n_jobs=-1)]: Done 1005 tasks      | elapsed:  1.4min\n",
      "[Parallel(n_jobs=-1)]: Done 1450 tasks      | elapsed:  2.0min\n",
      "[Parallel(n_jobs=-1)]: Done 1977 tasks      | elapsed:  2.8min\n",
      "[Parallel(n_jobs=-1)]: Done 2584 tasks      | elapsed:  3.7min\n",
      "[Parallel(n_jobs=-1)]: Done 3240 out of 3240 | elapsed:  4.7min finished\n"
     ],
     "output_type": "stream"
    },
    {
     "data": {
      "text/plain": "GridSearchCV(cv=3, error_score='raise-deprecating',\n             estimator=Pipeline(memory=None,\n                                steps=[('rf',\n                                        RandomForestClassifier(bootstrap=True,\n                                                               class_weight=None,\n                                                               criterion='gini',\n                                                               max_depth=None,\n                                                               max_features='auto',\n                                                               max_leaf_nodes=None,\n                                                               min_impurity_decrease=0.0,\n                                                               min_impurity_split=None,\n                                                               min_samples_leaf=1,\n                                                               min_samples_split=2,\n                                                               min_weight_fraction_leaf=0.0,\n                                                               n_estimato...\n                                                               verbose=0,\n                                                               warm_start=False))],\n                                verbose=False),\n             iid='warn', n_jobs=-1,\n             param_grid={'rf__class_weight': [None, 'balanced'],\n                         'rf__max_depth': [None, 5, 7, 9, 10, 11, 13, 15, 20],\n                         'rf__max_leaf_nodes': [None, 5, 6, 7, 8, 9],\n                         'rf__min_samples_split': [2, 3, 4, 5, 6],\n                         'rf__n_estimators': [50, 100]},\n             pre_dispatch='2*n_jobs', refit=True, return_train_score=False,\n             scoring='accuracy', verbose=2)"
     },
     "metadata": {},
     "output_type": "execute_result",
     "execution_count": 226
    }
   ],
   "source": [
    "grid_rf.fit(X_train, y_train)\n"
   ],
   "metadata": {
    "collapsed": false,
    "pycharm": {
     "name": "#%%\n",
     "is_executing": false
    }
   }
  },
  {
   "cell_type": "code",
   "execution_count": 227,
   "outputs": [
    {
     "data": {
      "text/plain": "{'rf__class_weight': 'balanced',\n 'rf__max_depth': 5,\n 'rf__max_leaf_nodes': 7,\n 'rf__min_samples_split': 3,\n 'rf__n_estimators': 100}"
     },
     "metadata": {},
     "output_type": "execute_result",
     "execution_count": 227
    }
   ],
   "source": [
    "grid_rf.best_params_"
   ],
   "metadata": {
    "collapsed": false,
    "pycharm": {
     "name": "#%%\n",
     "is_executing": false
    }
   }
  },
  {
   "cell_type": "code",
   "execution_count": 228,
   "outputs": [
    {
     "data": {
      "text/plain": "1.0"
     },
     "metadata": {},
     "output_type": "execute_result",
     "execution_count": 228
    }
   ],
   "source": [
    "grid_rf.score(X_test, y_test)"
   ],
   "metadata": {
    "collapsed": false,
    "pycharm": {
     "name": "#%%\n",
     "is_executing": false
    }
   }
  },
  {
   "cell_type": "code",
   "execution_count": 229,
   "outputs": [],
   "source": [
    "y_pred_rf = grid_rf.predict(X_test)"
   ],
   "metadata": {
    "collapsed": false,
    "pycharm": {
     "name": "#%%\n",
     "is_executing": false
    }
   }
  },
  {
   "cell_type": "code",
   "execution_count": 230,
   "outputs": [
    {
     "name": "stdout",
     "text": [
      "              precision    recall  f1-score   support\n\n           B       1.00      1.00      1.00        57\n           M       1.00      1.00      1.00        29\n\n    accuracy                           1.00        86\n   macro avg       1.00      1.00      1.00        86\nweighted avg       1.00      1.00      1.00        86\n\n"
     ],
     "output_type": "stream"
    }
   ],
   "source": [
    "print(classification_report(y_test, y_pred_rf)) "
   ],
   "metadata": {
    "collapsed": false,
    "pycharm": {
     "name": "#%%\n",
     "is_executing": false
    }
   }
  },
  {
   "cell_type": "code",
   "execution_count": 231,
   "outputs": [
    {
     "name": "stdout",
     "text": [
      "[[57  0]\n [ 0 29]]\n"
     ],
     "output_type": "stream"
    }
   ],
   "source": [
    "print(confusion_matrix(y_test, y_pred_rf))\n",
    "cm = confusion_matrix(y_test, y_pred_rf)"
   ],
   "metadata": {
    "collapsed": false,
    "pycharm": {
     "name": "#%%\n",
     "is_executing": false
    }
   }
  },
  {
   "cell_type": "markdown",
   "source": [
    "### train on full learn dataset and save output"
   ],
   "metadata": {
    "collapsed": false,
    "pycharm": {
     "name": "#%% md\n"
    }
   }
  },
  {
   "cell_type": "code",
   "execution_count": 232,
   "outputs": [
    {
     "name": "stdout",
     "text": [
      "Fitting 3 folds for each of 1080 candidates, totalling 3240 fits\n"
     ],
     "output_type": "stream"
    },
    {
     "name": "stderr",
     "text": [
      "[Parallel(n_jobs=-1)]: Using backend LokyBackend with 4 concurrent workers.\n",
      "[Parallel(n_jobs=-1)]: Done  33 tasks      | elapsed:    5.2s\n",
      "[Parallel(n_jobs=-1)]: Done 154 tasks      | elapsed:   15.6s\n",
      "[Parallel(n_jobs=-1)]: Done 357 tasks      | elapsed:   33.2s\n",
      "[Parallel(n_jobs=-1)]: Done 640 tasks      | elapsed:   58.5s\n",
      "[Parallel(n_jobs=-1)]: Done 1005 tasks      | elapsed:  1.5min\n",
      "[Parallel(n_jobs=-1)]: Done 1450 tasks      | elapsed:  2.1min\n",
      "[Parallel(n_jobs=-1)]: Done 1977 tasks      | elapsed:  2.8min\n",
      "[Parallel(n_jobs=-1)]: Done 2584 tasks      | elapsed:  3.7min\n",
      "[Parallel(n_jobs=-1)]: Done 3240 out of 3240 | elapsed:  4.6min finished\n"
     ],
     "output_type": "stream"
    }
   ],
   "source": [
    "grid_rf.fit(X, y)\n",
    "y_full_pred_rf = grid_rf.predict(X_full_test)\n",
    "test_out_rf = pd.DataFrame()\n",
    "test_out_rf['ID'] = breast_cancer_full_test['ID']\n",
    "test_out_rf['class'] = y_full_pred_rf\n",
    "test_out_rf.to_csv('breast_cancer_test_rf.csv', index=False)"
   ],
   "metadata": {
    "collapsed": false,
    "pycharm": {
     "name": "#%%\n",
     "is_executing": false
    }
   }
  },
  {
   "cell_type": "code",
   "execution_count": 233,
   "outputs": [
    {
     "data": {
      "text/plain": "Pipeline(memory=None,\n         steps=[('rf',\n                 RandomForestClassifier(bootstrap=True, class_weight=None,\n                                        criterion='gini', max_depth=5,\n                                        max_features='auto',\n                                        max_leaf_nodes=None,\n                                        min_impurity_decrease=0.0,\n                                        min_impurity_split=None,\n                                        min_samples_leaf=1, min_samples_split=2,\n                                        min_weight_fraction_leaf=0.0,\n                                        n_estimators=50, n_jobs=None,\n                                        oob_score=False, random_state=None,\n                                        verbose=0, warm_start=False))],\n         verbose=False)"
     },
     "metadata": {},
     "output_type": "execute_result",
     "execution_count": 233
    }
   ],
   "source": [
    "grid_rf.best_estimator_\n"
   ],
   "metadata": {
    "collapsed": false,
    "pycharm": {
     "name": "#%%\n",
     "is_executing": false
    }
   }
  },
  {
   "cell_type": "markdown",
   "source": [
    "## Creating a GradientBoostingClassifier\n",
    "__Score history:__\n",
    "\n",
    "|description | accuracy | marco avg | weighted avg |\n",
    "|------------| -------- | --------- | ------------ |\n",
    "| first try | 1.00 | 1.00, 1.00, 1.00 | 1.00, 1.00, 1.00 |\n",
    "| - | - | - | - |"
   ],
   "metadata": {
    "collapsed": false
   }
  },
  {
   "cell_type": "code",
   "execution_count": 69,
   "outputs": [],
   "source": [
    "from sklearn.ensemble import GradientBoostingClassifier\n"
   ],
   "metadata": {
    "collapsed": false,
    "pycharm": {
     "name": "#%%\n",
     "is_executing": false
    }
   }
  },
  {
   "cell_type": "code",
   "execution_count": 70,
   "outputs": [],
   "source": [
    "pipe_gbc = Pipeline([\n",
    "    ('gbc', GradientBoostingClassifier())\n",
    "])"
   ],
   "metadata": {
    "collapsed": false,
    "pycharm": {
     "name": "#%%\n",
     "is_executing": false
    }
   }
  },
  {
   "cell_type": "code",
   "execution_count": 72,
   "outputs": [],
   "source": [
    "params_gbc = {\n",
    "    'gbc__n_estimators': [100, 200],\n",
    "    'gbc__max_depth': [4, 5, 6, 7, 9],\n",
    "    'gbc__max_features': ['log2'],\n",
    "    'gbc__learning_rate': [0.05, 0.1, 0.15, 0.3],\n",
    "    'gbc__subsample': [0.8]\n",
    "}"
   ],
   "metadata": {
    "collapsed": false,
    "pycharm": {
     "name": "#%%\n",
     "is_executing": false
    }
   }
  },
  {
   "cell_type": "code",
   "execution_count": 73,
   "outputs": [],
   "source": [
    "grid_gbc = GridSearchCV(estimator=pipe_gbc,\n",
    "    param_grid=params_gbc,\n",
    "    cv=3,\n",
    "    scoring='f1_weighted',\n",
    "    verbose=2,\n",
    "    n_jobs=-1\n",
    ")\n"
   ],
   "metadata": {
    "collapsed": false,
    "pycharm": {
     "name": "#%%\n",
     "is_executing": false
    }
   }
  },
  {
   "cell_type": "code",
   "execution_count": 74,
   "outputs": [
    {
     "name": "stdout",
     "text": [
      "Fitting 3 folds for each of 40 candidates, totalling 120 fits\n"
     ],
     "output_type": "stream"
    },
    {
     "name": "stderr",
     "text": [
      "[Parallel(n_jobs=-1)]: Using backend LokyBackend with 4 concurrent workers.\n",
      "[Parallel(n_jobs=-1)]: Done  33 tasks      | elapsed:    5.5s\n",
      "[Parallel(n_jobs=-1)]: Done 120 out of 120 | elapsed:   11.1s finished\n"
     ],
     "output_type": "stream"
    },
    {
     "data": {
      "text/plain": "GridSearchCV(cv=3, error_score='raise-deprecating',\n             estimator=Pipeline(memory=None,\n                                steps=[('gbc',\n                                        GradientBoostingClassifier(criterion='friedman_mse',\n                                                                   init=None,\n                                                                   learning_rate=0.1,\n                                                                   loss='deviance',\n                                                                   max_depth=3,\n                                                                   max_features=None,\n                                                                   max_leaf_nodes=None,\n                                                                   min_impurity_decrease=0.0,\n                                                                   min_impurity_split=None,\n                                                                   min_samples_leaf=1,\n                                                                   min_samples_split=2,\n                                                                   min_weight_fraction_...\n                                                                   tol=0.0001,\n                                                                   validation_fraction=0.1,\n                                                                   verbose=0,\n                                                                   warm_start=False))],\n                                verbose=False),\n             iid='warn', n_jobs=-1,\n             param_grid={'gbc__learning_rate': [0.05, 0.1, 0.15, 0.3],\n                         'gbc__max_depth': [4, 5, 6, 7, 9],\n                         'gbc__max_features': ['log2'],\n                         'gbc__n_estimators': [100, 200],\n                         'gbc__subsample': [0.8]},\n             pre_dispatch='2*n_jobs', refit=True, return_train_score=False,\n             scoring='f1_weighted', verbose=2)"
     },
     "metadata": {},
     "output_type": "execute_result",
     "execution_count": 74
    }
   ],
   "source": [
    "grid_gbc.fit(X_train, y_train)"
   ],
   "metadata": {
    "collapsed": false,
    "pycharm": {
     "name": "#%%\n",
     "is_executing": false
    }
   }
  },
  {
   "cell_type": "code",
   "execution_count": 75,
   "outputs": [
    {
     "data": {
      "text/plain": "{'gbc__learning_rate': 0.1,\n 'gbc__max_depth': 4,\n 'gbc__max_features': 'log2',\n 'gbc__n_estimators': 100,\n 'gbc__subsample': 0.8}"
     },
     "metadata": {},
     "output_type": "execute_result",
     "execution_count": 75
    }
   ],
   "source": [
    "grid_gbc.best_params_"
   ],
   "metadata": {
    "collapsed": false,
    "pycharm": {
     "name": "#%%\n",
     "is_executing": false
    }
   }
  },
  {
   "cell_type": "code",
   "execution_count": 76,
   "outputs": [
    {
     "data": {
      "text/plain": "1.0"
     },
     "metadata": {},
     "output_type": "execute_result",
     "execution_count": 76
    }
   ],
   "source": [
    "grid_gbc.score(X_test, y_test)"
   ],
   "metadata": {
    "collapsed": false,
    "pycharm": {
     "name": "#%%\n",
     "is_executing": false
    }
   }
  },
  {
   "cell_type": "code",
   "execution_count": 77,
   "outputs": [],
   "source": [
    "y_pred_gbc = grid_gbc.predict(X_test)"
   ],
   "metadata": {
    "collapsed": false,
    "pycharm": {
     "name": "#%%\n",
     "is_executing": false
    }
   }
  },
  {
   "cell_type": "code",
   "execution_count": 78,
   "outputs": [
    {
     "name": "stdout",
     "text": [
      "              precision    recall  f1-score   support\n\n           B       1.00      1.00      1.00        57\n           M       1.00      1.00      1.00        29\n\n    accuracy                           1.00        86\n   macro avg       1.00      1.00      1.00        86\nweighted avg       1.00      1.00      1.00        86\n\n"
     ],
     "output_type": "stream"
    }
   ],
   "source": [
    "print(classification_report(y_test, y_pred_gbc)) "
   ],
   "metadata": {
    "collapsed": false,
    "pycharm": {
     "name": "#%%\n",
     "is_executing": false
    }
   }
  },
  {
   "cell_type": "code",
   "execution_count": 79,
   "outputs": [
    {
     "name": "stdout",
     "text": [
      "[[57  0]\n [ 0 29]]\n"
     ],
     "output_type": "stream"
    }
   ],
   "source": [
    "print(confusion_matrix(y_test, y_pred_gbc))\n",
    "cm = confusion_matrix(y_test, y_pred_gbc)"
   ],
   "metadata": {
    "collapsed": false,
    "pycharm": {
     "name": "#%%\n",
     "is_executing": false
    }
   }
  },
  {
   "cell_type": "markdown",
   "source": [
    "### train on full learn dataset and save output"
   ],
   "metadata": {
    "collapsed": false
   }
  },
  {
   "cell_type": "code",
   "execution_count": 187,
   "outputs": [
    {
     "name": "stdout",
     "text": [
      "Fitting 3 folds for each of 40 candidates, totalling 120 fits\n"
     ],
     "output_type": "stream"
    },
    {
     "name": "stderr",
     "text": [
      "[Parallel(n_jobs=-1)]: Using backend LokyBackend with 4 concurrent workers.\n",
      "[Parallel(n_jobs=-1)]: Done  33 tasks      | elapsed:    6.1s\n",
      "[Parallel(n_jobs=-1)]: Done 120 out of 120 | elapsed:   12.7s finished\n"
     ],
     "output_type": "stream"
    }
   ],
   "source": [
    "grid_gbc.fit(X, y)\n",
    "y_full_pred_gbc = grid_gbc.predict(X_full_test)\n",
    "test_out_gbc = pd.DataFrame()\n",
    "test_out_gbc['ID'] = breast_cancer_full_test['ID']\n",
    "test_out_gbc['class'] = y_full_pred_gbc\n",
    "test_out_gbc.to_csv('breast_cancer_test_gbc.csv', index=False)"
   ],
   "metadata": {
    "collapsed": false,
    "pycharm": {
     "name": "#%%\n",
     "is_executing": false
    }
   }
  },
  {
   "cell_type": "code",
   "execution_count": 188,
   "outputs": [
    {
     "data": {
      "text/plain": "Pipeline(memory=None,\n         steps=[('gbc',\n                 GradientBoostingClassifier(criterion='friedman_mse', init=None,\n                                            learning_rate=0.1, loss='deviance',\n                                            max_depth=5, max_features='log2',\n                                            max_leaf_nodes=None,\n                                            min_impurity_decrease=0.0,\n                                            min_impurity_split=None,\n                                            min_samples_leaf=1,\n                                            min_samples_split=2,\n                                            min_weight_fraction_leaf=0.0,\n                                            n_estimators=200,\n                                            n_iter_no_change=None,\n                                            presort='auto', random_state=None,\n                                            subsample=0.8, tol=0.0001,\n                                            validation_fraction=0.1, verbose=0,\n                                            warm_start=False))],\n         verbose=False)"
     },
     "metadata": {},
     "output_type": "execute_result",
     "execution_count": 188
    }
   ],
   "source": [
    "grid_gbc.best_estimator_\n"
   ],
   "metadata": {
    "collapsed": false,
    "pycharm": {
     "name": "#%%\n",
     "is_executing": false
    }
   }
  },
  {
   "cell_type": "markdown",
   "source": [
    "## Creating MLP-Classifier\n",
    "\n"
   ],
   "metadata": {
    "collapsed": false,
    "pycharm": {
     "name": "#%% md\n"
    }
   }
  },
  {
   "cell_type": "code",
   "execution_count": 126,
   "outputs": [],
   "source": [
    "from sklearn.neural_network import MLPClassifier"
   ],
   "metadata": {
    "collapsed": false,
    "pycharm": {
     "name": "#%%\n",
     "is_executing": false
    }
   }
  },
  {
   "cell_type": "code",
   "execution_count": 173,
   "outputs": [],
   "source": [
    "mdl_mlp = MLPClassifier(hidden_layer_sizes=(100,), activation='relu', alpha=0.0001, \n",
    "\t\t\t\t\t\tbatch_size=400, learning_rate='constant', learning_rate_init=0.001, \n",
    "                        max_iter=300, tol=1e-6, verbose=True)\n"
   ],
   "metadata": {
    "collapsed": false,
    "pycharm": {
     "name": "#%%\n",
     "is_executing": false
    }
   }
  },
  {
   "cell_type": "code",
   "execution_count": 174,
   "outputs": [
    {
     "name": "stderr",
     "text": [
      "c:\\users\\redbull129\\appdata\\local\\programs\\python\\python37\\lib\\site-packages\\sklearn\\neural_network\\multilayer_perceptron.py:350: UserWarning: Got `batch_size` less than 1 or larger than sample size. It is going to be clipped\n  warnings.warn(\"Got `batch_size` less than 1 or larger than \"\n",
      "c:\\users\\redbull129\\appdata\\local\\programs\\python\\python37\\lib\\site-packages\\sklearn\\neural_network\\multilayer_perceptron.py:566: ConvergenceWarning: Stochastic Optimizer: Maximum iterations (300) reached and the optimization hasn't converged yet.\n  % self.max_iter, ConvergenceWarning)\n"
     ],
     "output_type": "stream"
    },
    {
     "name": "stdout",
     "text": [
      "Iteration 1, loss = inf\nIteration 2, loss = inf\nIteration 3, loss = inf\nIteration 4, loss = inf\nIteration 5, loss = inf\nIteration 6, loss = inf\nIteration 7, loss = inf\nIteration 8, loss = inf\nIteration 9, loss = inf\nIteration 10, loss = inf\nIteration 11, loss = inf\nIteration 12, loss = inf\n",
      "Iteration 13, loss = inf\nIteration 14, loss = inf\nIteration 15, loss = inf\nIteration 16, loss = inf\nIteration 17, loss = inf\n",
      "Iteration 18, loss = inf\nIteration 19, loss = inf\nIteration 20, loss = inf\nIteration 21, loss = inf\nIteration 22, loss = inf",
      "\nIteration 23, loss = inf\nIteration 24, loss = inf\nIteration 25, loss = inf\nIteration 26, loss = inf\nIteration 27, loss = inf\nIteration 28, loss = inf\nIteration 29, loss = inf\nIteration 30, loss = inf\nIteration 31, loss = inf\n",
      "Iteration 32, loss = inf\nIteration 33, loss = inf\nIteration 34, loss = inf",
      "\nIteration 35, loss = inf\nIteration 36, loss = inf\nIteration 37, loss = inf\nIteration 38, loss = inf\nIteration 39, loss = inf\nIteration 40, loss = inf\nIteration 41, loss = inf\nIteration 42, loss = inf\nIteration 43, loss = inf\nIteration 44, loss = inf\nIteration 45, loss = inf\nIteration 46, loss = inf",
      "\n",
      "Iteration 47, loss = inf\nIteration 48, loss = inf\nIteration 49, loss = inf\nIteration 50, loss = inf\nIteration 51, loss = inf\nIteration 52, loss = inf\nIteration 53, loss = inf\nIteration 54, loss = inf\nIteration 55, loss = inf\nIteration 56, loss = inf\nIteration 57, loss = inf\nIteration 58, loss = inf\n",
      "Iteration 59, loss = inf\nIteration 60, loss = inf\nIteration 61, loss = inf\nIteration 62, loss = inf\nIteration 63, loss = inf\nIteration 64, loss = inf\nIteration 65, loss = inf\nIteration 66, loss = inf\nIteration 67, loss = inf\nIteration 68, loss = inf\nIteration 69, loss = inf\nIteration 70, loss = inf\nIteration 71, loss = inf\nIteration 72, loss = inf\nIteration 73, loss = inf\n",
      "Iteration 74, loss = inf\nIteration 75, loss = inf\nIteration 76, loss = inf\nIteration 77, loss = inf\nIteration 78, loss = inf\nIteration 79, loss = inf\nIteration 80, loss = inf\nIteration 81, loss = inf\nIteration 82, loss = inf\nIteration 83, loss = inf\nIteration 84, loss = inf\nIteration 85, loss = inf\nIteration 86, loss = inf\nIteration 87, loss = inf\nIteration 88, loss = inf\nIteration 89, loss = inf\nIteration 90, loss = inf\nIteration 91, loss = inf",
      "\nIteration 92, loss = inf\nIteration 93, loss = inf\nIteration 94, loss = inf\nIteration 95, loss = inf\nIteration 96, loss = inf\nIteration 97, loss = inf\nIteration 98, loss = inf\nIteration 99, loss = inf\nIteration 100, loss = inf\nIteration 101, loss = inf\nIteration 102, loss = inf\nIteration 103, loss = inf\nIteration 104, loss = inf\nIteration 105, loss = inf\nIteration 106, loss = inf\nIteration 107, loss = inf\nIteration 108, loss = inf\nIteration 109, loss = inf\nIteration 110, loss = inf\nIteration 111, loss = inf\nIteration 112, loss = inf\nIteration 113, loss = inf\nIteration 114, loss = inf\nIteration 115, loss = inf\nIteration 116, loss = inf\nIteration 117, loss = inf\nIteration 118, loss = inf\nIteration 119, loss = inf\nIteration 120, loss = inf\nIteration 121, loss = inf\nIteration 122, loss = inf\nIteration 123, loss = inf\nIteration 124, loss = inf\nIteration 125, loss = inf\nIteration 126, loss = inf\nIteration 127, loss = inf\nIteration 128, loss = inf\nIteration 129, loss = inf\nIteration 130, loss = inf\nIteration 131, loss = inf\nIteration 132, loss = inf\nIteration 133, loss = inf\nIteration 134, loss = inf\nIteration 135, loss = inf\n",
      "Iteration 136, loss = inf\nIteration 137, loss = inf\nIteration 138, loss = inf\nIteration 139, loss = inf\nIteration 140, loss = inf\nIteration 141, loss = inf\nIteration 142, loss = inf\nIteration 143, loss = inf\nIteration 144, loss = inf\nIteration 145, loss = inf\nIteration 146, loss = inf\nIteration 147, loss = inf\nIteration 148, loss = inf\nIteration 149, loss = inf\nIteration 150, loss = inf\nIteration 151, loss = inf\nIteration 152, loss = inf\nIteration 153, loss = inf\nIteration 154, loss = inf\nIteration 155, loss = inf\nIteration 156, loss = inf\nIteration 157, loss = inf\nIteration 158, loss = inf\nIteration 159, loss = inf\nIteration 160, loss = inf\nIteration 161, loss = inf\nIteration 162, loss = inf\nIteration 163, loss = inf\nIteration 164, loss = inf\nIteration 165, loss = inf\nIteration 166, loss = inf\nIteration 167, loss = inf\nIteration 168, loss = inf\nIteration 169, loss = inf\nIteration 170, loss = inf\nIteration 171, loss = inf\nIteration 172, loss = inf\nIteration 173, loss = inf\nIteration 174, loss = inf\nIteration 175, loss = inf\nIteration 176, loss = inf\nIteration 177, loss = inf\nIteration 178, loss = inf\nIteration 179, loss = inf\nIteration 180, loss = inf\nIteration 181, loss = inf\nIteration 182, loss = inf\nIteration 183, loss = inf\nIteration 184, loss = inf\nIteration 185, loss = inf\nIteration 186, loss = inf\nIteration 187, loss = inf\nIteration 188, loss = inf\nIteration 189, loss = inf\nIteration 190, loss = inf\nIteration 191, loss = inf\nIteration 192, loss = inf\nIteration 193, loss = inf\nIteration 194, loss = inf\nIteration 195, loss = inf\nIteration 196, loss = inf\nIteration 197, loss = inf\nIteration 198, loss = inf\nIteration 199, loss = inf\nIteration 200, loss = inf",
      "\nIteration 201, loss = inf\nIteration 202, loss = inf\nIteration 203, loss = inf\nIteration 204, loss = inf\nIteration 205, loss = inf\nIteration 206, loss = inf\nIteration 207, loss = inf\nIteration 208, loss = inf\nIteration 209, loss = inf\nIteration 210, loss = inf\nIteration 211, loss = inf\nIteration 212, loss = inf\nIteration 213, loss = inf\nIteration 214, loss = inf\nIteration 215, loss = inf\nIteration 216, loss = inf\nIteration 217, loss = inf\nIteration 218, loss = inf\nIteration 219, loss = inf\nIteration 220, loss = inf\nIteration 221, loss = inf\nIteration 222, loss = inf\nIteration 223, loss = inf\nIteration 224, loss = inf\nIteration 225, loss = inf\nIteration 226, loss = inf\nIteration 227, loss = inf\nIteration 228, loss = inf\nIteration 229, loss = inf\nIteration 230, loss = inf\nIteration 231, loss = inf\nIteration 232, loss = inf\nIteration 233, loss = inf\nIteration 234, loss = inf\nIteration 235, loss = inf\n",
      "Iteration 236, loss = inf\nIteration 237, loss = inf\nIteration 238, loss = inf\nIteration 239, loss = inf\nIteration 240, loss = inf\nIteration 241, loss = inf\nIteration 242, loss = inf\nIteration 243, loss = inf\nIteration 244, loss = inf\nIteration 245, loss = inf\nIteration 246, loss = inf\nIteration 247, loss = inf\nIteration 248, loss = inf\nIteration 249, loss = inf\nIteration 250, loss = inf\nIteration 251, loss = inf\nIteration 252, loss = inf\nIteration 253, loss = inf\nIteration 254, loss = inf\nIteration 255, loss = inf\nIteration 256, loss = inf\nIteration 257, loss = inf\nIteration 258, loss = inf\nIteration 259, loss = inf\nIteration 260, loss = inf\nIteration 261, loss = inf\nIteration 262, loss = inf\nIteration 263, loss = inf\nIteration 264, loss = inf\nIteration 265, loss = inf\nIteration 266, loss = inf\nIteration 267, loss = inf\nIteration 268, loss = inf\nIteration 269, loss = inf\nIteration 270, loss = inf\nIteration 271, loss = inf\nIteration 272, loss = inf\nIteration 273, loss = inf\nIteration 274, loss = inf\nIteration 275, loss = inf\nIteration 276, loss = inf\nIteration 277, loss = inf\nIteration 278, loss = inf\nIteration 279, loss = inf\nIteration 280, loss = inf\nIteration 281, loss = inf\nIteration 282, loss = inf\nIteration 283, loss = inf\nIteration 284, loss = inf\nIteration 285, loss = inf\nIteration 286, loss = inf\nIteration 287, loss = inf\nIteration 288, loss = inf\nIteration 289, loss = inf\nIteration 290, loss = inf\nIteration 291, loss = inf",
      "\nIteration 292, loss = inf\nIteration 293, loss = inf\nIteration 294, loss = inf\nIteration 295, loss = inf\nIteration 296, loss = inf\nIteration 297, loss = inf\nIteration 298, loss = inf\nIteration 299, loss = inf\nIteration 300, loss = inf\n"
     ],
     "output_type": "stream"
    },
    {
     "data": {
      "text/plain": "MLPClassifier(activation='relu', alpha=0.0001, batch_size=400, beta_1=0.9,\n              beta_2=0.999, early_stopping=False, epsilon=1e-08,\n              hidden_layer_sizes=(100,), learning_rate='constant',\n              learning_rate_init=0.001, max_iter=300, momentum=0.9,\n              n_iter_no_change=10, nesterovs_momentum=True, power_t=0.5,\n              random_state=None, shuffle=True, solver='adam', tol=1e-06,\n              validation_fraction=0.1, verbose=True, warm_start=False)"
     },
     "metadata": {},
     "output_type": "execute_result",
     "execution_count": 174
    }
   ],
   "source": [
    "mdl_mlp.fit(X_train, y_train)"
   ],
   "metadata": {
    "collapsed": false,
    "pycharm": {
     "name": "#%%\n",
     "is_executing": false
    }
   }
  },
  {
   "cell_type": "code",
   "execution_count": 175,
   "outputs": [
    {
     "data": {
      "text/plain": "0.6627906976744186"
     },
     "metadata": {},
     "output_type": "execute_result",
     "execution_count": 175
    }
   ],
   "source": [
    "mdl_mlp.score(X_test, y_test)"
   ],
   "metadata": {
    "collapsed": false,
    "pycharm": {
     "name": "#%%\n",
     "is_executing": false
    }
   }
  },
  {
   "cell_type": "code",
   "execution_count": 176,
   "outputs": [],
   "source": [
    "y_pred_mdl = mdl_mlp.predict(X_test)"
   ],
   "metadata": {
    "collapsed": false,
    "pycharm": {
     "name": "#%%\n",
     "is_executing": false
    }
   }
  },
  {
   "cell_type": "code",
   "execution_count": 177,
   "outputs": [
    {
     "name": "stdout",
     "text": [
      "              precision    recall  f1-score   support\n\n           B       0.66      1.00      0.80        57\n           M       0.00      0.00      0.00        29\n\n    accuracy                           0.66        86\n   macro avg       0.33      0.50      0.40        86\nweighted avg       0.44      0.66      0.53        86\n\n"
     ],
     "output_type": "stream"
    },
    {
     "name": "stderr",
     "text": [
      "c:\\users\\redbull129\\appdata\\local\\programs\\python\\python37\\lib\\site-packages\\sklearn\\metrics\\classification.py:1437: UndefinedMetricWarning: Precision and F-score are ill-defined and being set to 0.0 in labels with no predicted samples.\n  'precision', 'predicted', average, warn_for)\n"
     ],
     "output_type": "stream"
    }
   ],
   "source": [
    "print(classification_report(y_test, y_pred_mdl)) "
   ],
   "metadata": {
    "collapsed": false,
    "pycharm": {
     "name": "#%%\n",
     "is_executing": false
    }
   }
  },
  {
   "cell_type": "code",
   "execution_count": 168,
   "outputs": [
    {
     "name": "stdout",
     "text": [
      "[[ 0 57]\n [ 0 29]]\n"
     ],
     "output_type": "stream"
    }
   ],
   "source": [
    "print(confusion_matrix(y_test, y_pred_mdl))\n",
    "cm = confusion_matrix(y_test, y_pred_mdl)\n",
    "\n"
   ],
   "metadata": {
    "collapsed": false,
    "pycharm": {
     "name": "#%%\n",
     "is_executing": false
    }
   }
  },
  {
   "cell_type": "code",
   "execution_count": null,
   "outputs": [],
   "source": [
    "\n"
   ],
   "metadata": {
    "collapsed": false,
    "pycharm": {
     "name": "#%%\n"
    }
   }
  }
 ],
 "metadata": {
  "kernelspec": {
   "display_name": "Python 3",
   "language": "python",
   "name": "python3"
  },
  "language_info": {
   "codemirror_mode": {
    "name": "ipython",
    "version": 2
   },
   "file_extension": ".py",
   "mimetype": "text/x-python",
   "name": "python",
   "nbconvert_exporter": "python",
   "pygments_lexer": "ipython2",
   "version": "2.7.6"
  },
  "pycharm": {
   "stem_cell": {
    "cell_type": "raw",
    "source": [],
    "metadata": {
     "collapsed": false
    }
   }
  }
 },
 "nbformat": 4,
 "nbformat_minor": 0
}