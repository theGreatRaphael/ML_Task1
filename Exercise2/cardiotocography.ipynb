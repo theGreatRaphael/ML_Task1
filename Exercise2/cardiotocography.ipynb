{
 "cells": [
  {
   "cell_type": "markdown",
   "source": [
    "# Chose 3 different classification techniques"
   ],
   "metadata": {
    "collapsed": false
   }
  },
  {
   "cell_type": "markdown",
   "source": [
    "## Read data\n",
    "There are two relevant files for training:\n",
    "`data/cardiotocography/CTG-9.csv`\n",
    "`data/cardiotocography/CTG-3.csv`\n",
    "\n",
    "CTG-9 contains the classification into 9 different classes, from calm sleep to suspect pattern.\n",
    "\n",
    "CTG-3 contains the classification into 3 different classes, normal, suspect, pathologic.\n",
    "\n",
    "Clearly the CTG-3 classification is less fine grained, but also has some different rules. "
   ],
   "metadata": {
    "collapsed": false
   }
  },
  {
   "cell_type": "code",
   "execution_count": 2,
   "outputs": [],
   "source": [
    "import pandas as pd\n",
    "from sklearn.model_selection import train_test_split\n",
    "\n",
    "import matplotlib.pyplot as plt\n",
    "import seaborn as sns\n",
    "import numpy as np\n"
   ],
   "metadata": {
    "collapsed": false,
    "pycharm": {
     "name": "#%%\n",
     "is_executing": false
    }
   }
  },
  {
   "cell_type": "code",
   "execution_count": 8,
   "outputs": [],
   "source": [
    "ctg_3 = pd.read_csv('data/cardiotocography/CTG-3.csv')\n",
    "ctg_9 = pd.read_csv('data/cardiotocography/CTG-9.csv')"
   ],
   "metadata": {
    "collapsed": false,
    "pycharm": {
     "name": "#%%\n",
     "is_executing": false
    }
   }
  },
  {
   "cell_type": "markdown",
   "source": [
    "### Check data\n",
    "`info()` method shows if there are missing values\n",
    "it shows that there aren't any missing values (non-null for every feature)"
   ],
   "metadata": {
    "collapsed": false
   }
  },
  {
   "cell_type": "code",
   "execution_count": 9,
   "outputs": [
    {
     "name": "stdout",
     "text": [
      "<class 'pandas.core.frame.DataFrame'>\nRangeIndex: 2126 entries, 0 to 2125\nData columns (total 22 columns):\nLB          2126 non-null int64\nAC          2126 non-null float64\nFM          2126 non-null float64\nUC          2126 non-null float64\nDL          2126 non-null float64\nDS          2126 non-null float64\nDP          2126 non-null float64\nASTV        2126 non-null int64\nMSTV        2126 non-null float64\nALTV        2126 non-null int64\nMLTV        2126 non-null float64\nWidth       2126 non-null int64\nMin         2126 non-null int64\nMax         2126 non-null int64\nNmax        2126 non-null int64\nNzeros      2126 non-null int64\nMode        2126 non-null int64\nMean        2126 non-null int64\nMedian      2126 non-null int64\nVariance    2126 non-null int64\nTendency    2126 non-null int64\nClass       2126 non-null int64\ndtypes: float64(8), int64(14)\nmemory usage: 365.5 KB\nNone\n"
     ],
     "output_type": "stream"
    },
    {
     "traceback": [
      "\u001b[1;31m---------------------------------------------------------------------------\u001b[0m",
      "\u001b[1;31mAttributeError\u001b[0m                            Traceback (most recent call last)",
      "\u001b[1;32m<ipython-input-9-63b3f10f8319>\u001b[0m in \u001b[0;36m<module>\u001b[1;34m\u001b[0m\n\u001b[0;32m      1\u001b[0m \u001b[0mprint\u001b[0m\u001b[1;33m(\u001b[0m\u001b[0mctg_3\u001b[0m\u001b[1;33m.\u001b[0m\u001b[0minfo\u001b[0m\u001b[1;33m(\u001b[0m\u001b[1;33m)\u001b[0m\u001b[1;33m)\u001b[0m\u001b[1;33m\u001b[0m\u001b[1;33m\u001b[0m\u001b[0m\n\u001b[1;32m----> 2\u001b[1;33m \u001b[0mprint\u001b[0m\u001b[1;33m(\u001b[0m\u001b[0mctg_9\u001b[0m\u001b[1;33m[\u001b[0m\u001b[1;34m'Class'\u001b[0m\u001b[1;33m]\u001b[0m\u001b[1;33m.\u001b[0m\u001b[0minfo\u001b[0m\u001b[1;33m(\u001b[0m\u001b[1;33m)\u001b[0m\u001b[1;33m)\u001b[0m\u001b[1;33m\u001b[0m\u001b[1;33m\u001b[0m\u001b[0m\n\u001b[0m\u001b[0;32m      3\u001b[0m \u001b[1;33m\u001b[0m\u001b[0m\n",
      "\u001b[1;32mc:\\users\\redbull129\\appdata\\local\\programs\\python\\python37\\lib\\site-packages\\pandas\\core\\generic.py\u001b[0m in \u001b[0;36m__getattr__\u001b[1;34m(self, name)\u001b[0m\n\u001b[0;32m   5177\u001b[0m             \u001b[1;32mif\u001b[0m \u001b[0mself\u001b[0m\u001b[1;33m.\u001b[0m\u001b[0m_info_axis\u001b[0m\u001b[1;33m.\u001b[0m\u001b[0m_can_hold_identifiers_and_holds_name\u001b[0m\u001b[1;33m(\u001b[0m\u001b[0mname\u001b[0m\u001b[1;33m)\u001b[0m\u001b[1;33m:\u001b[0m\u001b[1;33m\u001b[0m\u001b[1;33m\u001b[0m\u001b[0m\n\u001b[0;32m   5178\u001b[0m                 \u001b[1;32mreturn\u001b[0m \u001b[0mself\u001b[0m\u001b[1;33m[\u001b[0m\u001b[0mname\u001b[0m\u001b[1;33m]\u001b[0m\u001b[1;33m\u001b[0m\u001b[1;33m\u001b[0m\u001b[0m\n\u001b[1;32m-> 5179\u001b[1;33m             \u001b[1;32mreturn\u001b[0m \u001b[0mobject\u001b[0m\u001b[1;33m.\u001b[0m\u001b[0m__getattribute__\u001b[0m\u001b[1;33m(\u001b[0m\u001b[0mself\u001b[0m\u001b[1;33m,\u001b[0m \u001b[0mname\u001b[0m\u001b[1;33m)\u001b[0m\u001b[1;33m\u001b[0m\u001b[1;33m\u001b[0m\u001b[0m\n\u001b[0m\u001b[0;32m   5180\u001b[0m \u001b[1;33m\u001b[0m\u001b[0m\n\u001b[0;32m   5181\u001b[0m     \u001b[1;32mdef\u001b[0m \u001b[0m__setattr__\u001b[0m\u001b[1;33m(\u001b[0m\u001b[0mself\u001b[0m\u001b[1;33m,\u001b[0m \u001b[0mname\u001b[0m\u001b[1;33m,\u001b[0m \u001b[0mvalue\u001b[0m\u001b[1;33m)\u001b[0m\u001b[1;33m:\u001b[0m\u001b[1;33m\u001b[0m\u001b[1;33m\u001b[0m\u001b[0m\n",
      "\u001b[1;31mAttributeError\u001b[0m: 'Series' object has no attribute 'info'"
     ],
     "ename": "AttributeError",
     "evalue": "'Series' object has no attribute 'info'",
     "output_type": "error"
    }
   ],
   "source": [
    "print(ctg_3.info())"
   ],
   "metadata": {
    "collapsed": false,
    "pycharm": {
     "name": "#%%\n",
     "is_executing": false
    }
   }
  },
  {
   "cell_type": "markdown",
   "source": [
    "## Creating train and test data \n",
    "Using a stratified approach to ensure all the classes are in the training data."
   ],
   "metadata": {
    "collapsed": false
   }
  },
  {
   "cell_type": "code",
   "execution_count": 11,
   "outputs": [],
   "source": [
    "X = ctg_3.drop(['Class'], axis = 1).values\n",
    "y = ctg_3['Class'].values"
   ],
   "metadata": {
    "collapsed": false,
    "pycharm": {
     "name": "#%%\n",
     "is_executing": false
    }
   }
  },
  {
   "cell_type": "code",
   "execution_count": 12,
   "outputs": [],
   "source": [
    "X_train, X_test, y_train, y_test = train_test_split(X, y, test_size = 0.3, random_state = 42, stratify=y)\n"
   ],
   "metadata": {
    "collapsed": false,
    "pycharm": {
     "name": "#%%\n",
     "is_executing": false
    }
   }
  },
  {
   "cell_type": "markdown",
   "source": [
    "## Starting with a simple model to:\n",
    "+ get a sense of how challenging the problem is\n",
    "+ many more things might go wrong with complex models\n",
    "+ how much signal can we pull out using basic models"
   ],
   "metadata": {
    "collapsed": false
   }
  },
  {
   "cell_type": "markdown",
   "source": [
    "## Logistic Regression\n",
    "__Score history:__  \n",
    "\n",
    "|description | accuracy | marco avg | weighted avg |\n",
    "|------------| -------- | --------- | ------------ |\n",
    "| first try | 0.87 | 0.77, 0.81, 0.78 | 0.89, 0.87, 0.88 |\n",
    "| - | - | - | - |\n"
   ],
   "metadata": {
    "collapsed": false
   }
  },
  {
   "cell_type": "markdown",
   "source": [
    "### Logistic Regression parameters\n",
    "TODO"
   ],
   "metadata": {
    "collapsed": false
   }
  },
  {
   "cell_type": "code",
   "execution_count": 13,
   "outputs": [],
   "source": [
    "from sklearn.linear_model.logistic import LogisticRegression\n",
    "from sklearn.model_selection import GridSearchCV\n",
    "from sklearn.pipeline import Pipeline\n",
    "from sklearn.preprocessing import RobustScaler\n",
    "from sklearn.metrics import classification_report, confusion_matrix  "
   ],
   "metadata": {
    "collapsed": false,
    "pycharm": {
     "name": "#%%\n",
     "is_executing": false
    }
   }
  },
  {
   "cell_type": "code",
   "execution_count": 14,
   "outputs": [],
   "source": [
    "pipe_logreg = Pipeline([\n",
    "    ('scaler', RobustScaler()),\n",
    "    ('logreg', LogisticRegression())\n",
    "])"
   ],
   "metadata": {
    "collapsed": false,
    "pycharm": {
     "name": "#%%\n",
     "is_executing": false
    }
   }
  },
  {
   "cell_type": "code",
   "execution_count": 15,
   "outputs": [],
   "source": [
    "# create parameter list for ridge regression\n",
    "params_logreg = {\n",
    "    'logreg__C':[0.5, 0.6, 0.7, 1.1],\n",
    "    'logreg__class_weight': ['balanced']\n",
    "}"
   ],
   "metadata": {
    "collapsed": false,
    "pycharm": {
     "name": "#%%\n",
     "is_executing": false
    }
   }
  },
  {
   "cell_type": "code",
   "execution_count": 16,
   "outputs": [],
   "source": [
    "# setup cross validation parameter grid search\n",
    "grid_logreg = GridSearchCV(estimator=pipe_logreg,\n",
    "    param_grid=params_logreg,\n",
    "    cv=3,\n",
    "    scoring='f1_weighted',\n",
    "    verbose=2,\n",
    "    n_jobs=-1)"
   ],
   "metadata": {
    "collapsed": false,
    "pycharm": {
     "name": "#%%\n",
     "is_executing": false
    }
   }
  },
  {
   "cell_type": "code",
   "execution_count": 17,
   "outputs": [
    {
     "name": "stdout",
     "text": [
      "Fitting 3 folds for each of 4 candidates, totalling 12 fits\n"
     ],
     "output_type": "stream"
    },
    {
     "name": "stderr",
     "text": [
      "[Parallel(n_jobs=-1)]: Using backend LokyBackend with 4 concurrent workers.\n",
      "[Parallel(n_jobs=-1)]: Done  12 out of  12 | elapsed:    2.4s remaining:    0.0s\n[Parallel(n_jobs=-1)]: Done  12 out of  12 | elapsed:    2.4s finished\nc:\\users\\redbull129\\appdata\\local\\programs\\python\\python37\\lib\\site-packages\\sklearn\\linear_model\\logistic.py:432: FutureWarning: Default solver will be changed to 'lbfgs' in 0.22. Specify a solver to silence this warning.\n  FutureWarning)\nc:\\users\\redbull129\\appdata\\local\\programs\\python\\python37\\lib\\site-packages\\sklearn\\linear_model\\logistic.py:469: FutureWarning: Default multi_class will be changed to 'auto' in 0.22. Specify the multi_class option to silence this warning.\n  \"this warning.\", FutureWarning)\n"
     ],
     "output_type": "stream"
    },
    {
     "data": {
      "text/plain": "GridSearchCV(cv=3, error_score='raise-deprecating',\n             estimator=Pipeline(memory=None,\n                                steps=[('scaler',\n                                        RobustScaler(copy=True,\n                                                     quantile_range=(25.0,\n                                                                     75.0),\n                                                     with_centering=True,\n                                                     with_scaling=True)),\n                                       ('logreg',\n                                        LogisticRegression(C=1.0,\n                                                           class_weight=None,\n                                                           dual=False,\n                                                           fit_intercept=True,\n                                                           intercept_scaling=1,\n                                                           l1_ratio=None,\n                                                           max_iter=100,\n                                                           multi_class='warn',\n                                                           n_jobs=None,\n                                                           penalty='l2',\n                                                           random_state=None,\n                                                           solver='warn',\n                                                           tol=0.0001,\n                                                           verbose=0,\n                                                           warm_start=False))],\n                                verbose=False),\n             iid='warn', n_jobs=-1,\n             param_grid={'logreg__C': [0.5, 0.6, 0.7, 1.1],\n                         'logreg__class_weight': ['balanced']},\n             pre_dispatch='2*n_jobs', refit=True, return_train_score=False,\n             scoring='f1_weighted', verbose=2)"
     },
     "metadata": {},
     "output_type": "execute_result",
     "execution_count": 17
    }
   ],
   "source": [
    "# fitting model on training data\n",
    "grid_logreg.fit(X_train, y_train)"
   ],
   "metadata": {
    "collapsed": false,
    "pycharm": {
     "name": "#%%\n",
     "is_executing": false
    }
   }
  },
  {
   "cell_type": "code",
   "execution_count": 18,
   "outputs": [
    {
     "data": {
      "text/plain": "{'logreg__C': 1.1, 'logreg__class_weight': 'balanced'}"
     },
     "metadata": {},
     "output_type": "execute_result",
     "execution_count": 18
    }
   ],
   "source": [
    "# extracting best parameters (can be used for finer hyper parameter tuning)\n",
    "grid_logreg.best_params_"
   ],
   "metadata": {
    "collapsed": false,
    "pycharm": {
     "name": "#%%\n",
     "is_executing": false
    }
   }
  },
  {
   "cell_type": "code",
   "execution_count": 19,
   "outputs": [
    {
     "data": {
      "text/plain": "0.8782172651628045"
     },
     "metadata": {},
     "output_type": "execute_result",
     "execution_count": 19
    }
   ],
   "source": [
    "grid_logreg.score(X_test, y_test) \n"
   ],
   "metadata": {
    "collapsed": false,
    "pycharm": {
     "name": "#%%\n",
     "is_executing": false
    }
   }
  },
  {
   "cell_type": "code",
   "execution_count": 20,
   "outputs": [],
   "source": [
    "y_pred = grid_logreg.predict(X_test)"
   ],
   "metadata": {
    "collapsed": false,
    "pycharm": {
     "name": "#%%\n",
     "is_executing": false
    }
   }
  },
  {
   "cell_type": "code",
   "execution_count": 21,
   "outputs": [
    {
     "name": "stdout",
     "text": [
      "              precision    recall  f1-score   support\n\n           1       0.96      0.90      0.93       497\n           2       0.57      0.81      0.67        88\n           3       0.78      0.72      0.75        53\n\n    accuracy                           0.87       638\n   macro avg       0.77      0.81      0.78       638\nweighted avg       0.89      0.87      0.88       638\n\n"
     ],
     "output_type": "stream"
    }
   ],
   "source": [
    "print(classification_report(y_test, y_pred)) "
   ],
   "metadata": {
    "collapsed": false,
    "pycharm": {
     "name": "#%%\n",
     "is_executing": false
    }
   }
  },
  {
   "cell_type": "code",
   "execution_count": 22,
   "outputs": [
    {
     "name": "stdout",
     "text": [
      "[[447  40  10]\n [ 16  71   1]\n [  2  13  38]]\n"
     ],
     "output_type": "stream"
    }
   ],
   "source": [
    "print(confusion_matrix(y_test, y_pred))\n",
    "cm = confusion_matrix(y_test, y_pred)"
   ],
   "metadata": {
    "collapsed": false,
    "pycharm": {
     "name": "#%%\n",
     "is_executing": false
    }
   }
  },
  {
   "cell_type": "markdown",
   "source": [
    "## KNN-Classifier\n",
    "__Score history:__\n",
    "\n",
    "|description | accuracy | marco avg | weighted avg |\n",
    "|------------| -------- | --------- | ------------ |\n",
    "| first try | 0.89 | 0.81, 0.76, 0.78 | 0.89, 0.89, 0.89 |\n",
    "| - | - | - | - |"
   ],
   "metadata": {
    "collapsed": false
   }
  },
  {
   "cell_type": "markdown",
   "source": [
    "### KNN Parameters:"
   ],
   "metadata": {
    "collapsed": false
   }
  },
  {
   "cell_type": "code",
   "execution_count": 31,
   "outputs": [],
   "source": [
    "from sklearn.neighbors import KNeighborsClassifier  \n",
    "from sklearn.preprocessing import MinMaxScaler\n"
   ],
   "metadata": {
    "collapsed": false,
    "pycharm": {
     "name": "#%%\n",
     "is_executing": false
    }
   }
  },
  {
   "cell_type": "code",
   "execution_count": 32,
   "outputs": [],
   "source": [
    "pipe_knn = Pipeline([\n",
    "    ('scaler', MinMaxScaler()),\n",
    "    ('knn', KNeighborsClassifier())\n",
    "])"
   ],
   "metadata": {
    "collapsed": false,
    "pycharm": {
     "name": "#%%\n",
     "is_executing": false
    }
   }
  },
  {
   "cell_type": "code",
   "execution_count": 33,
   "outputs": [],
   "source": [
    "params_knn = {\n",
    "    'knn__n_neighbors': [x for x in range(1,50,2)], \n",
    "    'knn__p': [1, 2],\n",
    "    'knn__weights': ['uniform', 'distance']\n",
    "}\n"
   ],
   "metadata": {
    "collapsed": false,
    "pycharm": {
     "name": "#%%\n",
     "is_executing": false
    }
   }
  },
  {
   "cell_type": "code",
   "execution_count": 34,
   "outputs": [],
   "source": [
    "grid_knn = GridSearchCV(estimator=pipe_knn,\n",
    "    param_grid=params_knn,\n",
    "    cv=3,\n",
    "    #scoring='f1_weighted',\n",
    "    scoring='accuracy',\n",
    "    verbose=2,\n",
    "    n_jobs=-1)"
   ],
   "metadata": {
    "collapsed": false,
    "pycharm": {
     "name": "#%%\n",
     "is_executing": false
    }
   }
  },
  {
   "cell_type": "code",
   "execution_count": 35,
   "outputs": [
    {
     "name": "stdout",
     "text": [
      "Fitting 3 folds for each of 100 candidates, totalling 300 fits\n"
     ],
     "output_type": "stream"
    },
    {
     "name": "stderr",
     "text": [
      "[Parallel(n_jobs=-1)]: Using backend LokyBackend with 4 concurrent workers.\n",
      "[Parallel(n_jobs=-1)]: Done  33 tasks      | elapsed:    2.8s\n",
      "[Parallel(n_jobs=-1)]: Done 300 out of 300 | elapsed:    8.0s finished\n"
     ],
     "output_type": "stream"
    },
    {
     "data": {
      "text/plain": "GridSearchCV(cv=3, error_score='raise-deprecating',\n             estimator=Pipeline(memory=None,\n                                steps=[('scaler',\n                                        MinMaxScaler(copy=True,\n                                                     feature_range=(0, 1))),\n                                       ('knn',\n                                        KNeighborsClassifier(algorithm='auto',\n                                                             leaf_size=30,\n                                                             metric='minkowski',\n                                                             metric_params=None,\n                                                             n_jobs=None,\n                                                             n_neighbors=5, p=2,\n                                                             weights='uniform'))],\n                                verbose=False),\n             iid='warn', n_jobs=-1,\n             param_grid={'knn__n_neighbors': [1, 3, 5, 7, 9, 11, 13, 15, 17, 19,\n                                              21, 23, 25, 27, 29, 31, 33, 35,\n                                              37, 39, 41, 43, 45, 47, 49],\n                         'knn__p': [1, 2],\n                         'knn__weights': ['uniform', 'distance']},\n             pre_dispatch='2*n_jobs', refit=True, return_train_score=False,\n             scoring='accuracy', verbose=2)"
     },
     "metadata": {},
     "output_type": "execute_result",
     "execution_count": 35
    }
   ],
   "source": [
    "grid_knn.fit(X_train, y_train)"
   ],
   "metadata": {
    "collapsed": false,
    "pycharm": {
     "name": "#%%\n",
     "is_executing": false
    }
   }
  },
  {
   "cell_type": "code",
   "execution_count": 36,
   "outputs": [
    {
     "data": {
      "text/plain": "{'knn__n_neighbors': 3, 'knn__p': 1, 'knn__weights': 'distance'}"
     },
     "metadata": {},
     "output_type": "execute_result",
     "execution_count": 36
    }
   ],
   "source": [
    "grid_knn.best_params_"
   ],
   "metadata": {
    "collapsed": false,
    "pycharm": {
     "name": "#%%\n",
     "is_executing": false
    }
   }
  },
  {
   "cell_type": "code",
   "execution_count": 37,
   "outputs": [
    {
     "data": {
      "text/plain": "0.8949843260188087"
     },
     "metadata": {},
     "output_type": "execute_result",
     "execution_count": 37
    }
   ],
   "source": [
    "grid_knn.score(X_test, y_test) "
   ],
   "metadata": {
    "collapsed": false,
    "pycharm": {
     "name": "#%%\n",
     "is_executing": false
    }
   }
  },
  {
   "cell_type": "code",
   "execution_count": 38,
   "outputs": [],
   "source": [
    "y_pred_knn = grid_knn.predict(X_test)"
   ],
   "metadata": {
    "collapsed": false,
    "pycharm": {
     "name": "#%%\n",
     "is_executing": false
    }
   }
  },
  {
   "cell_type": "code",
   "execution_count": 39,
   "outputs": [
    {
     "name": "stdout",
     "text": [
      "              precision    recall  f1-score   support\n\n           1       0.94      0.96      0.95       497\n           2       0.65      0.66      0.66        88\n           3       0.83      0.66      0.74        53\n\n    accuracy                           0.89       638\n   macro avg       0.81      0.76      0.78       638\nweighted avg       0.89      0.89      0.89       638\n\n"
     ],
     "output_type": "stream"
    }
   ],
   "source": [
    "print(classification_report(y_test, y_pred_knn)) "
   ],
   "metadata": {
    "collapsed": false,
    "pycharm": {
     "name": "#%%\n",
     "is_executing": false
    }
   }
  },
  {
   "cell_type": "code",
   "execution_count": 40,
   "outputs": [
    {
     "name": "stdout",
     "text": [
      "[[478  17   2]\n [ 25  58   5]\n [  4  14  35]]\n"
     ],
     "output_type": "stream"
    }
   ],
   "source": [
    "print(confusion_matrix(y_test, y_pred_knn))\n",
    "cm = confusion_matrix(y_test, y_pred_knn)"
   ],
   "metadata": {
    "collapsed": false,
    "pycharm": {
     "name": "#%%\n",
     "is_executing": false
    }
   }
  },
  {
   "cell_type": "markdown",
   "source": [
    "## Random Forest\n",
    "__Score history:__\n",
    "\n",
    "|description | accuracy | marco avg | weighted avg |\n",
    "|------------| -------- | --------- | ------------ |\n",
    "| first try | 0.93 | 0.89, 0.86, 0.87 | 0.92, 0.93, 0.92 |\n",
    "| - | - | - | - |"
   ],
   "metadata": {
    "collapsed": false
   }
  },
  {
   "cell_type": "markdown",
   "source": [
    "### Random Forest parameters\n",
    "- __n_estimators:__\n",
    "    - number of trees in the forest\n",
    "- __max_depth:__\n",
    "    - maximum depth of the tree\n",
    "- __min_samples_split:__\n",
    "    - the min. number of samples required to split an internal node\n",
    "- __min_samples_leaf:__\n",
    "    - the minimum number of samples required to be at a leaf node\n",
    "- __min_weight_fraction_leaf:__\n",
    "    - the minimum weighted fraction of the sum total of weights\n",
    "- __max_features:__\n",
    "    - the number of features to consider when looking for the best split\n",
    "- __min_impurity_decrease:__\n",
    "    - A node will be split if this split induces a decrease of the impurity greater than or equal to this value."
   ],
   "metadata": {
    "collapsed": false
   }
  },
  {
   "cell_type": "code",
   "execution_count": 41,
   "outputs": [],
   "source": [
    "from sklearn.ensemble import RandomForestClassifier"
   ],
   "metadata": {
    "collapsed": false,
    "pycharm": {
     "name": "#%%\n",
     "is_executing": false
    }
   }
  },
  {
   "cell_type": "code",
   "execution_count": 42,
   "outputs": [],
   "source": [
    "pipe_rf = Pipeline([\n",
    "    ('rf', RandomForestClassifier())\n",
    "])"
   ],
   "metadata": {
    "collapsed": false,
    "pycharm": {
     "name": "#%%\n",
     "is_executing": false
    }
   }
  },
  {
   "cell_type": "code",
   "execution_count": 43,
   "outputs": [],
   "source": [
    "params_rf = {\n",
    "    'rf__n_estimators': [50, 100],\n",
    "    'rf__max_depth': [None, 5, 7, 9, 10, 11, 13, 15, 20],\n",
    "    'rf__min_samples_split': [2, 3, 4, 5, 6],\n",
    "    'rf__max_leaf_nodes': [None, 5, 6, 7, 8, 9],\n",
    "    'rf__class_weight': [None, 'balanced']\n",
    "}\n"
   ],
   "metadata": {
    "collapsed": false,
    "pycharm": {
     "name": "#%%\n",
     "is_executing": false
    }
   }
  },
  {
   "cell_type": "code",
   "execution_count": 44,
   "outputs": [],
   "source": [
    "grid_rf = GridSearchCV(estimator=pipe_rf,\n",
    "    param_grid=params_rf,\n",
    "    cv=3,\n",
    "    scoring='accuracy',\n",
    "    verbose=2,\n",
    "    n_jobs=-1)\n"
   ],
   "metadata": {
    "collapsed": false,
    "pycharm": {
     "name": "#%%\n",
     "is_executing": false
    }
   }
  },
  {
   "cell_type": "code",
   "execution_count": 45,
   "outputs": [
    {
     "name": "stdout",
     "text": [
      "Fitting 3 folds for each of 1080 candidates, totalling 3240 fits\n"
     ],
     "output_type": "stream"
    },
    {
     "name": "stderr",
     "text": [
      "[Parallel(n_jobs=-1)]: Using backend LokyBackend with 4 concurrent workers.\n",
      "[Parallel(n_jobs=-1)]: Done  33 tasks      | elapsed:    6.6s\n",
      "[Parallel(n_jobs=-1)]: Done 154 tasks      | elapsed:   18.5s\n",
      "[Parallel(n_jobs=-1)]: Done 357 tasks      | elapsed:   39.0s\n",
      "[Parallel(n_jobs=-1)]: Done 640 tasks      | elapsed:  1.1min\n",
      "[Parallel(n_jobs=-1)]: Done 1005 tasks      | elapsed:  1.7min\n",
      "[Parallel(n_jobs=-1)]: Done 1450 tasks      | elapsed:  2.4min\n",
      "[Parallel(n_jobs=-1)]: Done 1977 tasks      | elapsed:  3.3min\n",
      "[Parallel(n_jobs=-1)]: Done 2584 tasks      | elapsed:  4.3min\n",
      "[Parallel(n_jobs=-1)]: Done 3240 out of 3240 | elapsed:  5.5min finished\n"
     ],
     "output_type": "stream"
    },
    {
     "data": {
      "text/plain": "GridSearchCV(cv=3, error_score='raise-deprecating',\n             estimator=Pipeline(memory=None,\n                                steps=[('rf',\n                                        RandomForestClassifier(bootstrap=True,\n                                                               class_weight=None,\n                                                               criterion='gini',\n                                                               max_depth=None,\n                                                               max_features='auto',\n                                                               max_leaf_nodes=None,\n                                                               min_impurity_decrease=0.0,\n                                                               min_impurity_split=None,\n                                                               min_samples_leaf=1,\n                                                               min_samples_split=2,\n                                                               min_weight_fraction_leaf=0.0,\n                                                               n_estimato...\n                                                               verbose=0,\n                                                               warm_start=False))],\n                                verbose=False),\n             iid='warn', n_jobs=-1,\n             param_grid={'rf__class_weight': [None, 'balanced'],\n                         'rf__max_depth': [None, 5, 7, 9, 10, 11, 13, 15, 20],\n                         'rf__max_leaf_nodes': [None, 5, 6, 7, 8, 9],\n                         'rf__min_samples_split': [2, 3, 4, 5, 6],\n                         'rf__n_estimators': [50, 100]},\n             pre_dispatch='2*n_jobs', refit=True, return_train_score=False,\n             scoring='accuracy', verbose=2)"
     },
     "metadata": {},
     "output_type": "execute_result",
     "execution_count": 45
    }
   ],
   "source": [
    "grid_rf.fit(X_train, y_train)\n"
   ],
   "metadata": {
    "collapsed": false,
    "pycharm": {
     "name": "#%%\n",
     "is_executing": false
    }
   }
  },
  {
   "cell_type": "code",
   "execution_count": 46,
   "outputs": [
    {
     "data": {
      "text/plain": "{'rf__class_weight': 'balanced',\n 'rf__max_depth': 13,\n 'rf__max_leaf_nodes': None,\n 'rf__min_samples_split': 4,\n 'rf__n_estimators': 50}"
     },
     "metadata": {},
     "output_type": "execute_result",
     "execution_count": 46
    }
   ],
   "source": [
    "grid_rf.best_params_"
   ],
   "metadata": {
    "collapsed": false,
    "pycharm": {
     "name": "#%%\n",
     "is_executing": false
    }
   }
  },
  {
   "cell_type": "code",
   "execution_count": 47,
   "outputs": [
    {
     "data": {
      "text/plain": "0.9263322884012539"
     },
     "metadata": {},
     "output_type": "execute_result",
     "execution_count": 47
    }
   ],
   "source": [
    "grid_rf.score(X_test, y_test)"
   ],
   "metadata": {
    "collapsed": false,
    "pycharm": {
     "name": "#%%\n",
     "is_executing": false
    }
   }
  },
  {
   "cell_type": "code",
   "execution_count": 48,
   "outputs": [],
   "source": [
    "y_pred_rf = grid_rf.predict(X_test)"
   ],
   "metadata": {
    "collapsed": false,
    "pycharm": {
     "name": "#%%\n",
     "is_executing": false
    }
   }
  },
  {
   "cell_type": "code",
   "execution_count": 49,
   "outputs": [
    {
     "name": "stdout",
     "text": [
      "              precision    recall  f1-score   support\n\n           1       0.95      0.97      0.96       497\n           2       0.79      0.70      0.75        88\n           3       0.92      0.91      0.91        53\n\n    accuracy                           0.93       638\n   macro avg       0.89      0.86      0.87       638\nweighted avg       0.92      0.93      0.92       638\n\n"
     ],
     "output_type": "stream"
    }
   ],
   "source": [
    "print(classification_report(y_test, y_pred_rf)) "
   ],
   "metadata": {
    "collapsed": false,
    "pycharm": {
     "name": "#%%\n",
     "is_executing": false
    }
   }
  },
  {
   "cell_type": "code",
   "execution_count": 50,
   "outputs": [
    {
     "name": "stdout",
     "text": [
      "[[481  14   2]\n [ 24  62   2]\n [  3   2  48]]\n"
     ],
     "output_type": "stream"
    }
   ],
   "source": [
    "print(confusion_matrix(y_test, y_pred_rf))\n",
    "cm = confusion_matrix(y_test, y_pred_rf)"
   ],
   "metadata": {
    "collapsed": false,
    "pycharm": {
     "name": "#%%\n",
     "is_executing": false
    }
   }
  },
  {
   "cell_type": "markdown",
   "source": [
    "## Creating a GradientBoostingClassifier\n",
    "__Score history:__\n",
    "\n",
    "|description | accuracy | marco avg | weighted avg |\n",
    "|------------| -------- | --------- | ------------ |\n",
    "| first try | 0.87 | 0.79, 0.67, 0.71 | 0.85, 0.87, 0.84 |\n",
    "| - | - | - | - |"
   ],
   "metadata": {
    "collapsed": false
   }
  },
  {
   "cell_type": "code",
   "execution_count": 51,
   "outputs": [],
   "source": [
    "from sklearn.ensemble import GradientBoostingClassifier\n"
   ],
   "metadata": {
    "collapsed": false,
    "pycharm": {
     "name": "#%%\n",
     "is_executing": false
    }
   }
  },
  {
   "cell_type": "code",
   "execution_count": 52,
   "outputs": [],
   "source": [
    "pipe_gbc = Pipeline([\n",
    "    ('gbc', GradientBoostingClassifier())\n",
    "])"
   ],
   "metadata": {
    "collapsed": false,
    "pycharm": {
     "name": "#%%\n",
     "is_executing": false
    }
   }
  },
  {
   "cell_type": "code",
   "execution_count": 53,
   "outputs": [],
   "source": [
    "params_gbc = {\n",
    "    'gbc__n_estimators': [100, 200],\n",
    "    'gbc__max_depth': [4, 5, 6, 7, 9],\n",
    "    'gbc__max_features': ['log2'],\n",
    "    'gbc__learning_rate': [0.05, 0.1, 0.15, 0.3],\n",
    "    'gbc__subsample': [0.8]\n",
    "}"
   ],
   "metadata": {
    "collapsed": false,
    "pycharm": {
     "name": "#%%\n",
     "is_executing": false
    }
   }
  },
  {
   "cell_type": "code",
   "execution_count": 54,
   "outputs": [],
   "source": [
    "grid_gbc = GridSearchCV(estimator=pipe_gbc,\n",
    "    param_grid=params_gbc,\n",
    "    cv=3,\n",
    "    scoring='f1_weighted',\n",
    "    verbose=2,\n",
    "    n_jobs=-1\n",
    ")\n"
   ],
   "metadata": {
    "collapsed": false,
    "pycharm": {
     "name": "#%%\n",
     "is_executing": false
    }
   }
  },
  {
   "cell_type": "code",
   "execution_count": 55,
   "outputs": [
    {
     "name": "stdout",
     "text": [
      "Fitting 3 folds for each of 40 candidates, totalling 120 fits\n"
     ],
     "output_type": "stream"
    },
    {
     "name": "stderr",
     "text": [
      "[Parallel(n_jobs=-1)]: Using backend LokyBackend with 4 concurrent workers.\n",
      "[Parallel(n_jobs=-1)]: Done  33 tasks      | elapsed:   27.2s\n",
      "[Parallel(n_jobs=-1)]: Done 120 out of 120 | elapsed:  1.2min finished\n"
     ],
     "output_type": "stream"
    },
    {
     "data": {
      "text/plain": "GridSearchCV(cv=3, error_score='raise-deprecating',\n             estimator=Pipeline(memory=None,\n                                steps=[('gbc',\n                                        GradientBoostingClassifier(criterion='friedman_mse',\n                                                                   init=None,\n                                                                   learning_rate=0.1,\n                                                                   loss='deviance',\n                                                                   max_depth=3,\n                                                                   max_features=None,\n                                                                   max_leaf_nodes=None,\n                                                                   min_impurity_decrease=0.0,\n                                                                   min_impurity_split=None,\n                                                                   min_samples_leaf=1,\n                                                                   min_samples_split=2,\n                                                                   min_weight_fraction_...\n                                                                   tol=0.0001,\n                                                                   validation_fraction=0.1,\n                                                                   verbose=0,\n                                                                   warm_start=False))],\n                                verbose=False),\n             iid='warn', n_jobs=-1,\n             param_grid={'gbc__learning_rate': [0.05, 0.1, 0.15, 0.3],\n                         'gbc__max_depth': [4, 5, 6, 7, 9],\n                         'gbc__max_features': ['log2'],\n                         'gbc__n_estimators': [100, 200],\n                         'gbc__subsample': [0.8]},\n             pre_dispatch='2*n_jobs', refit=True, return_train_score=False,\n             scoring='f1_weighted', verbose=2)"
     },
     "metadata": {},
     "output_type": "execute_result",
     "execution_count": 55
    }
   ],
   "source": [
    "grid_gbc.fit(X_train, y_train)"
   ],
   "metadata": {
    "collapsed": false,
    "pycharm": {
     "name": "#%%\n",
     "is_executing": false
    }
   }
  },
  {
   "cell_type": "code",
   "execution_count": 56,
   "outputs": [
    {
     "data": {
      "text/plain": "{'gbc__learning_rate': 0.3,\n 'gbc__max_depth': 4,\n 'gbc__max_features': 'log2',\n 'gbc__n_estimators': 200,\n 'gbc__subsample': 0.8}"
     },
     "metadata": {},
     "output_type": "execute_result",
     "execution_count": 56
    }
   ],
   "source": [
    "grid_gbc.best_params_"
   ],
   "metadata": {
    "collapsed": false,
    "pycharm": {
     "name": "#%%\n",
     "is_executing": false
    }
   }
  },
  {
   "cell_type": "code",
   "execution_count": 57,
   "outputs": [
    {
     "data": {
      "text/plain": "0.9280975132234807"
     },
     "metadata": {},
     "output_type": "execute_result",
     "execution_count": 57
    }
   ],
   "source": [
    "grid_gbc.score(X_test, y_test)"
   ],
   "metadata": {
    "collapsed": false,
    "pycharm": {
     "name": "#%%\n",
     "is_executing": false
    }
   }
  },
  {
   "cell_type": "code",
   "execution_count": 58,
   "outputs": [],
   "source": [
    "y_pred_gbc = grid_gbc.predict(X_test)"
   ],
   "metadata": {
    "collapsed": false,
    "pycharm": {
     "name": "#%%\n",
     "is_executing": false
    }
   }
  },
  {
   "cell_type": "code",
   "execution_count": 59,
   "outputs": [
    {
     "name": "stdout",
     "text": [
      "              precision    recall  f1-score   support\n\n           1       0.95      0.97      0.96       497\n           2       0.82      0.73      0.77        88\n           3       0.87      0.91      0.89        53\n\n    accuracy                           0.93       638\n   macro avg       0.88      0.87      0.87       638\nweighted avg       0.93      0.93      0.93       638\n\n"
     ],
     "output_type": "stream"
    }
   ],
   "source": [
    "print(classification_report(y_test, y_pred_gbc)) "
   ],
   "metadata": {
    "collapsed": false,
    "pycharm": {
     "name": "#%%\n",
     "is_executing": false
    }
   }
  },
  {
   "cell_type": "code",
   "execution_count": 60,
   "outputs": [
    {
     "name": "stdout",
     "text": [
      "[[481  12   4]\n [ 21  64   3]\n [  3   2  48]]\n"
     ],
     "output_type": "stream"
    }
   ],
   "source": [
    "print(confusion_matrix(y_test, y_pred_gbc))\n",
    "cm = confusion_matrix(y_test, y_pred_gbc)"
   ],
   "metadata": {
    "collapsed": false,
    "pycharm": {
     "name": "#%%\n",
     "is_executing": false
    }
   }
  },
  {
   "cell_type": "markdown",
   "source": [
    "## Creating MLP-Classifier\n",
    "\n"
   ],
   "metadata": {
    "collapsed": false,
    "pycharm": {
     "name": "#%% md\n"
    }
   }
  },
  {
   "cell_type": "code",
   "execution_count": 61,
   "outputs": [],
   "source": [
    "from sklearn.neural_network import MLPClassifier"
   ],
   "metadata": {
    "collapsed": false,
    "pycharm": {
     "name": "#%%\n",
     "is_executing": false
    }
   }
  },
  {
   "cell_type": "code",
   "execution_count": 62,
   "outputs": [],
   "source": [
    "mdl_mlp = MLPClassifier(hidden_layer_sizes=(100,), activation='relu', alpha=0.0001, \n",
    "\t\t\t\t\t\tbatch_size=400, learning_rate='constant', learning_rate_init=0.001, \n",
    "                        max_iter=300, tol=1e-6, verbose=True)\n"
   ],
   "metadata": {
    "collapsed": false,
    "pycharm": {
     "name": "#%%\n",
     "is_executing": false
    }
   }
  },
  {
   "cell_type": "code",
   "execution_count": 63,
   "outputs": [
    {
     "name": "stdout",
     "text": [
      "Iteration 1, loss = 27.09499050",
      "\nIteration 2, loss = 17.00647114\nIteration 3, loss = 9.86390690\nIteration 4, loss = 7.14346313\nIteration 5, loss = 4.28702814",
      "\nIteration 6, loss = 2.62498887\nIteration 7, loss = 2.79845284",
      "\n",
      "Iteration 8, loss = 1.66526997\n",
      "Iteration 9, loss = 1.88989043\nIteration 10, loss = 1.47798598\nIteration 11, loss = 1.38314660\nIteration 12, loss = 1.15963864\nIteration 13, loss = 1.10537012\nIteration 14, loss = 0.92014362\nIteration 15, loss = 0.89653714\nIteration 16, loss = 0.84394168",
      "\nIteration 17, loss = 0.78181621\nIteration 18, loss = 0.74087382\n",
      "Iteration 19, loss = 0.68425682",
      "\nIteration 20, loss = 0.63997406\nIteration 21, loss = 0.60800839\nIteration 22, loss = 0.57594403\nIteration 23, loss = 0.55127873\nIteration 24, loss = 0.52662290\nIteration 25, loss = 0.51425474\nIteration 26, loss = 0.49499667\nIteration 27, loss = 0.48224768\nIteration 28, loss = 0.46828438\nIteration 29, loss = 0.45257960\nIteration 30, loss = 0.43242838\n",
      "Iteration 31, loss = 0.42329184\nIteration 32, loss = 0.41095031\nIteration 33, loss = 0.40125084\nIteration 34, loss = 0.39408190\nIteration 35, loss = 0.39074205\nIteration 36, loss = 0.38363017\nIteration 37, loss = 0.37409229\nIteration 38, loss = 0.37251239\nIteration 39, loss = 0.36609598\nIteration 40, loss = 0.36075111\n",
      "Iteration 41, loss = 0.35563997\nIteration 42, loss = 0.35871601\nIteration 43, loss = 0.35195629\nIteration 44, loss = 0.35480301\nIteration 45, loss = 0.33943157\nIteration 46, loss = 0.34003172\nIteration 47, loss = 0.33557751\nIteration 48, loss = 0.33651212\nIteration 49, loss = 0.32874577\n",
      "Iteration 50, loss = 0.33748888\nIteration 51, loss = 0.33520626\nIteration 52, loss = 0.33348894\nIteration 53, loss = 0.33925192\nIteration 54, loss = 0.32090305\nIteration 55, loss = 0.32159085\nIteration 56, loss = 0.31796404\nIteration 57, loss = 0.31391338\nIteration 58, loss = 0.31717196\nIteration 59, loss = 0.32219781\n",
      "Iteration 60, loss = 0.32415826\nIteration 61, loss = 0.30794946\nIteration 62, loss = 0.30923460\nIteration 63, loss = 0.31009624\nIteration 64, loss = 0.30964853\nIteration 65, loss = 0.32688301\nIteration 66, loss = 0.32665648\nIteration 67, loss = 0.31528262\nIteration 68, loss = 0.31135179\nIteration 69, loss = 0.31277615\nIteration 70, loss = 0.31411435",
      "\nIteration 71, loss = 0.31309581\nIteration 72, loss = 0.30478084\n",
      "Iteration 73, loss = 0.29908297\nIteration 74, loss = 0.29554215\nIteration 75, loss = 0.29106442\nIteration 76, loss = 0.29261686\nIteration 77, loss = 0.28955285\nIteration 78, loss = 0.28968945\nIteration 79, loss = 0.29417367\nIteration 80, loss = 0.30647537\nIteration 81, loss = 0.29556417\nIteration 82, loss = 0.30000929\nIteration 83, loss = 0.28611128\nIteration 84, loss = 0.28908469\nIteration 85, loss = 0.28859685\nIteration 86, loss = 0.29263591",
      "\nIteration 87, loss = 0.28619409\nIteration 88, loss = 0.29221598\nIteration 89, loss = 0.28650930\nIteration 90, loss = 0.30338774\n",
      "Iteration 91, loss = 0.28897261\nIteration 92, loss = 0.27876122\nIteration 93, loss = 0.28047664\nIteration 94, loss = 0.28140235\nIteration 95, loss = 0.28467827\nIteration 96, loss = 0.30775880\nIteration 97, loss = 0.29559718\nIteration 98, loss = 0.30227563\nIteration 99, loss = 0.29196387\nIteration 100, loss = 0.30270835\nIteration 101, loss = 0.31758292\nIteration 102, loss = 0.33331491\nIteration 103, loss = 0.31960281\nTraining loss did not improve more than tol=0.000001 for 10 consecutive epochs. Stopping.\n"
     ],
     "output_type": "stream"
    },
    {
     "data": {
      "text/plain": "MLPClassifier(activation='relu', alpha=0.0001, batch_size=400, beta_1=0.9,\n              beta_2=0.999, early_stopping=False, epsilon=1e-08,\n              hidden_layer_sizes=(100,), learning_rate='constant',\n              learning_rate_init=0.001, max_iter=300, momentum=0.9,\n              n_iter_no_change=10, nesterovs_momentum=True, power_t=0.5,\n              random_state=None, shuffle=True, solver='adam', tol=1e-06,\n              validation_fraction=0.1, verbose=True, warm_start=False)"
     },
     "metadata": {},
     "output_type": "execute_result",
     "execution_count": 63
    }
   ],
   "source": [
    "mdl_mlp.fit(X_train, y_train)"
   ],
   "metadata": {
    "collapsed": false,
    "pycharm": {
     "name": "#%%\n",
     "is_executing": false
    }
   }
  },
  {
   "cell_type": "code",
   "execution_count": 64,
   "outputs": [
    {
     "data": {
      "text/plain": "0.8652037617554859"
     },
     "metadata": {},
     "output_type": "execute_result",
     "execution_count": 64
    }
   ],
   "source": [
    "mdl_mlp.score(X_test, y_test)"
   ],
   "metadata": {
    "collapsed": false,
    "pycharm": {
     "name": "#%%\n",
     "is_executing": false
    }
   }
  },
  {
   "cell_type": "code",
   "execution_count": 65,
   "outputs": [],
   "source": [
    "y_pred_mdl = mdl_mlp.predict(X_test)"
   ],
   "metadata": {
    "collapsed": false,
    "pycharm": {
     "name": "#%%\n",
     "is_executing": false
    }
   }
  },
  {
   "cell_type": "code",
   "execution_count": 66,
   "outputs": [
    {
     "name": "stdout",
     "text": [
      "              precision    recall  f1-score   support\n\n           1       0.88      0.98      0.93       497\n           2       0.64      0.28      0.39        88\n           3       0.85      0.75      0.80        53\n\n    accuracy                           0.87       638\n   macro avg       0.79      0.67      0.71       638\nweighted avg       0.85      0.87      0.84       638\n\n"
     ],
     "output_type": "stream"
    }
   ],
   "source": [
    "print(classification_report(y_test, y_pred_mdl)) "
   ],
   "metadata": {
    "collapsed": false,
    "pycharm": {
     "name": "#%%\n",
     "is_executing": false
    }
   }
  },
  {
   "cell_type": "code",
   "execution_count": 67,
   "outputs": [
    {
     "name": "stdout",
     "text": [
      "[[487   7   3]\n [ 59  25   4]\n [  6   7  40]]\n"
     ],
     "output_type": "stream"
    }
   ],
   "source": [
    "print(confusion_matrix(y_test, y_pred_mdl))\n",
    "cm = confusion_matrix(y_test, y_pred_mdl)\n",
    "\n"
   ],
   "metadata": {
    "collapsed": false,
    "pycharm": {
     "name": "#%%\n",
     "is_executing": false
    }
   }
  },
  {
   "cell_type": "code",
   "execution_count": null,
   "outputs": [],
   "source": [
    "\n"
   ],
   "metadata": {
    "collapsed": false,
    "pycharm": {
     "name": "#%%\n"
    }
   }
  }
 ],
 "metadata": {
  "kernelspec": {
   "display_name": "Python 3",
   "language": "python",
   "name": "python3"
  },
  "language_info": {
   "codemirror_mode": {
    "name": "ipython",
    "version": 2
   },
   "file_extension": ".py",
   "mimetype": "text/x-python",
   "name": "python",
   "nbconvert_exporter": "python",
   "pygments_lexer": "ipython2",
   "version": "2.7.6"
  },
  "pycharm": {
   "stem_cell": {
    "cell_type": "raw",
    "source": [],
    "metadata": {
     "collapsed": false
    }
   }
  }
 },
 "nbformat": 4,
 "nbformat_minor": 0
}