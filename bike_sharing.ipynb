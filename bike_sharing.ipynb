{
 "cells": [
  {
   "cell_type": "markdown",
   "metadata": {
    "collapsed": true,
    "pycharm": {
     "name": "#%% md\n"
    }
   },
   "source": [
    "# Chose 4 different regression techniques"
   ]
  },
  {
   "cell_type": "markdown",
   "source": [
    "## Read data\n",
    "Only `train` file relevant for training:\n",
    "`data/bike_sharing/bikeSharing.shuf.train.csv`\n",
    "\n",
    "`test` file doesn't contain labels:\n",
    "`data/bike_sharing/bikeSharing.shuf.test.csv`"
   ],
   "metadata": {
    "collapsed": false,
    "pycharm": {
     "name": "#%% md\n"
    }
   }
  },
  {
   "cell_type": "code",
   "execution_count": 2,
   "outputs": [],
   "source": [
    "import pandas as pd\n",
    "from sklearn.model_selection import train_test_split\n",
    "from sklearn.metrics import mean_squared_error as MSE"
   ],
   "metadata": {
    "collapsed": false,
    "pycharm": {
     "name": "#%%\n",
     "is_executing": false
    }
   }
  },
  {
   "cell_type": "code",
   "execution_count": 3,
   "outputs": [],
   "source": [
    "bike = pd.read_csv('data/bike_sharing/bikeSharing.shuf.train.csv')"
   ],
   "metadata": {
    "collapsed": false,
    "pycharm": {
     "name": "#%%\n",
     "is_executing": false
    }
   }
  },
  {
   "cell_type": "markdown",
   "source": [
    "### Check data\n",
    "`info()` method shows if there are missing values\n",
    "it shows that there aren't any missing values (non-null for every feature)"
   ],
   "metadata": {
    "collapsed": false,
    "pycharm": {
     "name": "#%% md\n"
    }
   }
  },
  {
   "cell_type": "code",
   "execution_count": 4,
   "outputs": [
    {
     "name": "stdout",
     "text": [
      "<class 'pandas.core.frame.DataFrame'>\nRangeIndex: 8690 entries, 0 to 8689\nData columns (total 15 columns):\nid            8690 non-null int64\ncnt           8690 non-null int64\ndteday        8690 non-null object\nseason        8690 non-null int64\nyr            8690 non-null int64\nmnth          8690 non-null int64\nhr            8690 non-null int64\nholiday       8690 non-null int64\nweekday       8690 non-null int64\nworkingday    8690 non-null int64\nweathersit    8690 non-null int64\ntemp          8690 non-null float64\natemp         8690 non-null float64\nhum           8690 non-null float64\nwindspeed     8690 non-null float64\ndtypes: float64(4), int64(10), object(1)\nmemory usage: 1018.5+ KB\n"
     ],
     "output_type": "stream"
    }
   ],
   "source": [
    "bike.info()"
   ],
   "metadata": {
    "collapsed": false,
    "pycharm": {
     "name": "#%%\n",
     "is_executing": false
    }
   }
  },
  {
   "cell_type": "markdown",
   "source": [
    "## Preprocessing (without scaling)\n",
    "Preprocessing is needed because data contains a string datetime object\n",
    "I have tried converting data to ordinal value (counting number) but converting data to `day of week` and\n",
    "`weekofyear` performed better.\n",
    "There were already time variables within the dataset (`yr`, `mnth`, ...). Since features shouldn't be correlated \n",
    "(sometimes), getting much information out of `dteday`isn't easily possible.  "
   ],
   "metadata": {
    "collapsed": false,
    "pycharm": {
     "name": "#%% md\n"
    }
   }
  },
  {
   "cell_type": "code",
   "execution_count": 5,
   "outputs": [],
   "source": [
    "# bike['dteday'] = pd.to_datetime(bike['dteday'], format=\"%Y/%m/%d\").apply(lambda x: x.toordinal())\n",
    "bike['weekday'] = pd.to_datetime(bike['dteday'], format=\"%Y/%m/%d\").apply(lambda x: x.dayofweek)\n",
    "bike['weekofyear'] = pd.to_datetime(bike['dteday'], format=\"%Y/%m/%d\").apply(lambda x: x.weekofyear)\n",
    "\n",
    "bike.drop('dteday', axis= 1, inplace=True)"
   ],
   "metadata": {
    "collapsed": false,
    "pycharm": {
     "name": "#%%\n",
     "is_executing": false
    }
   }
  },
  {
   "cell_type": "code",
   "execution_count": 6,
   "outputs": [
    {
     "name": "stdout",
     "text": [
      "<class 'pandas.core.frame.DataFrame'>\nRangeIndex: 8690 entries, 0 to 8689\nData columns (total 15 columns):\nid            8690 non-null int64\ncnt           8690 non-null int64\nseason        8690 non-null int64\nyr            8690 non-null int64\nmnth          8690 non-null int64\nhr            8690 non-null int64\nholiday       8690 non-null int64\nweekday       8690 non-null int64\nworkingday    8690 non-null int64\nweathersit    8690 non-null int64\ntemp          8690 non-null float64\natemp         8690 non-null float64\nhum           8690 non-null float64\nwindspeed     8690 non-null float64\nweekofyear    8690 non-null int64\ndtypes: float64(4), int64(11)\nmemory usage: 1018.5 KB\n"
     ],
     "output_type": "stream"
    }
   ],
   "source": [
    "bike.info()"
   ],
   "metadata": {
    "collapsed": false,
    "pycharm": {
     "name": "#%%\n",
     "is_executing": false
    }
   }
  },
  {
   "cell_type": "markdown",
   "source": [
    "## Creating feature and target arrays"
   ],
   "metadata": {
    "collapsed": false,
    "pycharm": {
     "name": "#%% md\n"
    }
   }
  },
  {
   "cell_type": "code",
   "execution_count": 7,
   "outputs": [],
   "source": [
    "X = bike.drop('cnt', axis = 1).values\n",
    "y = bike['cnt'].values"
   ],
   "metadata": {
    "collapsed": false,
    "pycharm": {
     "name": "#%%\n",
     "is_executing": false
    }
   }
  },
  {
   "cell_type": "markdown",
   "source": [
    "## Creating train and test data \n"
   ],
   "metadata": {
    "collapsed": false,
    "pycharm": {
     "name": "#%% md\n"
    }
   }
  },
  {
   "cell_type": "code",
   "execution_count": 8,
   "outputs": [],
   "source": [
    "X_train, X_test, y_train, y_test = train_test_split(X, y, test_size = 0.3, random_state = 42)"
   ],
   "metadata": {
    "collapsed": false,
    "pycharm": {
     "name": "#%%\n",
     "is_executing": false
    }
   }
  },
  {
   "cell_type": "markdown",
   "source": [
    "## Starting with a simple model to:\n",
    "+ get a sense of how challenging the problem is\n",
    "+ many more things might go wrong with complex models\n",
    "+ how much signal can we pull out using basic models"
   ],
   "metadata": {
    "collapsed": false,
    "pycharm": {
     "name": "#%% md\n"
    }
   }
  },
  {
   "cell_type": "markdown",
   "source": [
    "## Ridge regression\n",
    "__Score history:__\n",
    "- Test set RMSE of rf: 137.47 (ordinal date)\n",
    "- Test set RMSE of rf: 137.44 (dayofweek, ...)\n",
    "- Test set RMSE of rf: 136.08 (parameter tuning)"
   ],
   "metadata": {
    "collapsed": false,
    "pycharm": {
     "name": "#%% md\n"
    }
   }
  },
  {
   "cell_type": "markdown",
   "source": [
    "### Ridge parameters\n",
    "- __alpha:__\n",
    "    - regularization strenght: the higher the value, the stronger the regularization\n",
    "- __fit_intercept:__\n",
    "    - weather to calculate an intercept for this model (e. g. not needed if centered) \n",
    "- __normalize:__\n",
    "    - if `fit_intercept` and `normalize` are both `True` the regressor X will be normalized"
   ],
   "metadata": {
    "collapsed": false,
    "pycharm": {
     "name": "#%% md\n"
    }
   }
  },
  {
   "cell_type": "code",
   "execution_count": 23,
   "outputs": [],
   "source": [
    "from sklearn.linear_model import Ridge\n",
    "from sklearn.model_selection import GridSearchCV"
   ],
   "metadata": {
    "collapsed": false,
    "pycharm": {
     "name": "#%%\n",
     "is_executing": false
    }
   }
  },
  {
   "cell_type": "code",
   "execution_count": 54,
   "outputs": [],
   "source": [
    "# create parameter list for ridge regression\n",
    "params_ridge = {\n",
    "    'alpha': [0.3, 0.4, 0.5, 0.6, 0.7, 0.8, 0.9],\n",
    "    'normalize': [True, False],\n",
    "    'fit_intercept': [True, False]\n",
    "}\n",
    "\n",
    "ridge = Ridge()"
   ],
   "metadata": {
    "collapsed": false,
    "pycharm": {
     "name": "#%%\n",
     "is_executing": false
    }
   }
  },
  {
   "cell_type": "code",
   "execution_count": 55,
   "outputs": [],
   "source": [
    "# setup cross validation parameter grid search\n",
    "grid_ridge = GridSearchCV(estimator=ridge,\n",
    "    param_grid=params_ridge,\n",
    "    cv=3,\n",
    "    scoring='neg_mean_squared_error',\n",
    "    verbose=1,\n",
    "    n_jobs=-1)"
   ],
   "metadata": {
    "collapsed": false,
    "pycharm": {
     "name": "#%%\n",
     "is_executing": false
    }
   }
  },
  {
   "cell_type": "code",
   "execution_count": 56,
   "outputs": [
    {
     "name": "stdout",
     "text": [
      "Fitting 3 folds for each of 28 candidates, totalling 84 fits\n"
     ],
     "output_type": "stream"
    },
    {
     "name": "stderr",
     "text": [
      "[Parallel(n_jobs=-1)]: Using backend LokyBackend with 8 concurrent workers.\n",
      "[Parallel(n_jobs=-1)]: Done  84 out of  84 | elapsed:    0.2s finished\n"
     ],
     "output_type": "stream"
    },
    {
     "data": {
      "text/plain": "GridSearchCV(cv=3, error_score='raise-deprecating',\n             estimator=Ridge(alpha=1.0, copy_X=True, fit_intercept=True,\n                             max_iter=None, normalize=False, random_state=None,\n                             solver='auto', tol=0.001),\n             iid='warn', n_jobs=-1,\n             param_grid={'alpha': [0.3, 0.4, 0.5, 0.6, 0.7, 0.8, 0.9],\n                         'fit_intercept': [True, False],\n                         'normalize': [True, False]},\n             pre_dispatch='2*n_jobs', refit=True, return_train_score=False,\n             scoring='neg_mean_squared_error', verbose=1)"
     },
     "metadata": {},
     "output_type": "execute_result",
     "execution_count": 56
    }
   ],
   "source": [
    "# fitting model on training data\n",
    "grid_ridge.fit(X_train, y_train)"
   ],
   "metadata": {
    "collapsed": false,
    "pycharm": {
     "name": "#%%\n",
     "is_executing": false
    }
   }
  },
  {
   "cell_type": "code",
   "execution_count": 57,
   "outputs": [
    {
     "data": {
      "text/plain": "{'alpha': 0.9, 'fit_intercept': True, 'normalize': False}"
     },
     "metadata": {},
     "output_type": "execute_result",
     "execution_count": 57
    }
   ],
   "source": [
    "# extracting best parameters (can be used for finer hyper parameter tuning)\n",
    "grid_ridge.best_params_"
   ],
   "metadata": {
    "collapsed": false,
    "pycharm": {
     "name": "#%%\n",
     "is_executing": false
    }
   }
  },
  {
   "cell_type": "code",
   "execution_count": 58,
   "outputs": [
    {
     "name": "stdout",
     "text": [
      "Test set RMSE of rf: 136.08\n"
     ],
     "output_type": "stream"
    }
   ],
   "source": [
    "# predicting values and calculating the rmse-score\n",
    "y_pred_ridge = grid_ridge.predict(X_test)\n",
    "rmse_test_ridge = MSE(y_test, y_pred_ridge)**(1/2)\n",
    "print('Test set RMSE of rf: {:.2f}'.format(rmse_test_ridge))"
   ],
   "metadata": {
    "collapsed": false,
    "pycharm": {
     "name": "#%%\n",
     "is_executing": false
    }
   }
  },
  {
   "cell_type": "markdown",
   "source": [
    "## Lasso regression\n",
    "__Score history:__\n",
    "- Test set RMSE of rf: 136.00"
   ],
   "metadata": {
    "collapsed": false,
    "pycharm": {
     "name": "#%% md\n"
    }
   }
  },
  {
   "cell_type": "markdown",
   "source": [
    "### Lasso Parameters:\n",
    "- __alpha:__\n",
    "    - constant that multiplies the L1-Norm\n",
    "- __fit_intercept:__\n",
    "    - weather to calculate an intercept for this model (e. g. not needed if centered) \n",
    "- __normalize:__\n",
    "    - if `fit_intercept` and `normalize` are both `True` the regressor X will be normalized\n",
    "- __positive:__\n",
    "    - when `True` forces the coefficients to be positive"
   ],
   "metadata": {
    "collapsed": false,
    "pycharm": {
     "name": "#%% md\n"
    }
   }
  },
  {
   "cell_type": "code",
   "execution_count": 98,
   "outputs": [],
   "source": [
    "from sklearn.linear_model import Lasso"
   ],
   "metadata": {
    "collapsed": false,
    "pycharm": {
     "name": "#%%\n",
     "is_executing": false
    }
   }
  },
  {
   "cell_type": "code",
   "execution_count": 118,
   "outputs": [],
   "source": [
    "params_lasso = {\n",
    "    'alpha': [0.001, 0.005, 0.1, 0.2, 0.3, 0.4, 0.5, 0.6, 0.7, 0.8, 0.9, 1, 1.1, 1.2],\n",
    "    'normalize': [True, False],\n",
    "    'fit_intercept': [True, False],\n",
    "    'positive': [True, False] \n",
    "}\n",
    "\n",
    "lasso = Lasso()"
   ],
   "metadata": {
    "collapsed": false,
    "pycharm": {
     "name": "#%%\n",
     "is_executing": false
    }
   }
  },
  {
   "cell_type": "code",
   "execution_count": 119,
   "outputs": [],
   "source": [
    "grid_lasso = GridSearchCV(estimator=lasso,\n",
    "    param_grid=params_lasso,\n",
    "    cv=3,\n",
    "    scoring='neg_mean_squared_error',\n",
    "    verbose=1,\n",
    "    n_jobs=-1)"
   ],
   "metadata": {
    "collapsed": false,
    "pycharm": {
     "name": "#%%\n",
     "is_executing": false
    }
   }
  },
  {
   "cell_type": "code",
   "execution_count": 120,
   "outputs": [
    {
     "name": "stdout",
     "text": [
      "Fitting 3 folds for each of 112 candidates, totalling 336 fits\n"
     ],
     "output_type": "stream"
    },
    {
     "name": "stderr",
     "text": [
      "[Parallel(n_jobs=-1)]: Using backend LokyBackend with 8 concurrent workers.\n",
      "[Parallel(n_jobs=-1)]: Done  34 tasks      | elapsed:    2.1s\n",
      "[Parallel(n_jobs=-1)]: Done 336 out of 336 | elapsed:    3.6s finished\n"
     ],
     "output_type": "stream"
    },
    {
     "data": {
      "text/plain": "GridSearchCV(cv=3, error_score='raise-deprecating',\n             estimator=Lasso(alpha=1.0, copy_X=True, fit_intercept=True,\n                             max_iter=1000, normalize=False, positive=False,\n                             precompute=False, random_state=None,\n                             selection='cyclic', tol=0.0001, warm_start=False),\n             iid='warn', n_jobs=-1,\n             param_grid={'alpha': [0.001, 0.005, 0.1, 0.2, 0.3, 0.4, 0.5, 0.6,\n                                   0.7, 0.8, 0.9, 1, 1.1, 1.2],\n                         'fit_intercept': [True, False],\n                         'normalize': [True, False],\n                         'positive': [True, False]},\n             pre_dispatch='2*n_jobs', refit=True, return_train_score=False,\n             scoring='neg_mean_squared_error', verbose=1)"
     },
     "metadata": {},
     "output_type": "execute_result",
     "execution_count": 120
    }
   ],
   "source": [
    "grid_lasso.fit(X_train, y_train)"
   ],
   "metadata": {
    "collapsed": false,
    "pycharm": {
     "name": "#%%\n",
     "is_executing": false
    }
   }
  },
  {
   "cell_type": "code",
   "execution_count": 121,
   "outputs": [
    {
     "data": {
      "text/plain": "{'alpha': 0.005, 'fit_intercept': True, 'normalize': True, 'positive': False}"
     },
     "metadata": {},
     "output_type": "execute_result",
     "execution_count": 121
    }
   ],
   "source": [
    "grid_lasso.best_params_"
   ],
   "metadata": {
    "collapsed": false,
    "pycharm": {
     "name": "#%%\n",
     "is_executing": false
    }
   }
  },
  {
   "cell_type": "code",
   "execution_count": 122,
   "outputs": [
    {
     "name": "stdout",
     "text": [
      "Test set RMSE of rf: 136.00\n"
     ],
     "output_type": "stream"
    }
   ],
   "source": [
    "y_pred_lasso = grid_lasso.predict(X_test)\n",
    "rmse_test_lasso = MSE(y_test, y_pred_lasso)**(1/2)\n",
    "print('Test set RMSE of rf: {:.2f}'.format(rmse_test_lasso))"
   ],
   "metadata": {
    "collapsed": false,
    "pycharm": {
     "name": "#%%\n",
     "is_executing": false
    }
   }
  },
  {
   "cell_type": "markdown",
   "source": [
    "## Random Forest\n",
    "__Score history:__\n",
    "- Test set RMSE of rf: 112.39\n",
    "- Test set RMSE of rf: 107.32 (start parameter tuning)\n",
    "- Test set RMSE of rf: 106.62 (parameter tuning 2)\n",
    "- Test set RMSE of rf: 71.72 (pt 3)\n",
    "- Test set RMSE of rf: 70.43 (new date, higher estimators)\n",
    "- Test set RMSE of rf: 41.65 (pt 4)\n",
    "- Test set RMSE of rf: 41.53 (pt 5"
   ],
   "metadata": {
    "collapsed": false,
    "pycharm": {
     "name": "#%% md\n"
    }
   }
  },
  {
   "cell_type": "markdown",
   "source": [
    "### Random Forest parameters\n",
    "- __n_estimators:__\n",
    "    - number of trees in the forest\n",
    "- __max_depth:__\n",
    "    - maximum depth of the tree\n",
    "- __min_samples_split:__\n",
    "    - the min. number of samples required to split an internal node\n",
    "- __min_samples_leaf:__\n",
    "    - the minimum number of samples required to be at a leaf node\n",
    "- __min_weight_fraction_leaf:__\n",
    "    - the minimum weighted fraction of the sum total of weights\n",
    "- __max_features:__\n",
    "    - the number of features to consider when looking for the best split\n",
    "- __min_impurity_decrease:__\n",
    "    - A node will be split if this split induces a decrease of the impurity greater than or equal to this value."
   ],
   "metadata": {
    "collapsed": false,
    "pycharm": {
     "name": "#%% md\n"
    }
   }
  },
  {
   "cell_type": "code",
   "execution_count": 128,
   "outputs": [],
   "source": [
    "from sklearn.ensemble import RandomForestRegressor"
   ],
   "metadata": {
    "collapsed": false,
    "pycharm": {
     "name": "#%%\n",
     "is_executing": false
    }
   }
  },
  {
   "cell_type": "code",
   "execution_count": 137,
   "outputs": [],
   "source": [
    "rf = RandomForestRegressor(random_state=42)"
   ],
   "metadata": {
    "collapsed": false,
    "pycharm": {
     "name": "#%%\n",
     "is_executing": false
    }
   }
  },
  {
   "cell_type": "code",
   "execution_count": 138,
   "outputs": [
    {
     "name": "stdout",
     "text": [
      "{'bootstrap': True, 'criterion': 'mse', 'max_depth': None, 'max_features': 'auto', 'max_leaf_nodes': None, 'min_impurity_decrease': 0.0, 'min_impurity_split': None, 'min_samples_leaf': 1, 'min_samples_split': 2, 'min_weight_fraction_leaf': 0.0, 'n_estimators': 'warn', 'n_jobs': None, 'oob_score': False, 'random_state': 42, 'verbose': 0, 'warm_start': False}\n"
     ],
     "output_type": "stream"
    }
   ],
   "source": [
    "# take a look at the rf's parameters\n",
    "print(rf.get_params())"
   ],
   "metadata": {
    "collapsed": false,
    "pycharm": {
     "name": "#%%\n",
     "is_executing": false
    }
   }
  },
  {
   "cell_type": "code",
   "execution_count": 143,
   "outputs": [],
   "source": [
    "params_rf = {\n",
    "    'n_estimators': [2000],\n",
    "    'max_depth': [None, 20, 21, 22],\n",
    "    'min_samples_split': [2, 3, 4]\n",
    "}\n",
    "\n",
    "grid_rf = GridSearchCV(estimator=rf,\n",
    "    param_grid=params_rf,\n",
    "    cv=3,\n",
    "    scoring='neg_mean_squared_error',\n",
    "    verbose=1,\n",
    "    n_jobs=-1)"
   ],
   "metadata": {
    "collapsed": false,
    "pycharm": {
     "name": "#%%\n",
     "is_executing": false
    }
   }
  },
  {
   "cell_type": "code",
   "execution_count": 144,
   "outputs": [
    {
     "name": "stdout",
     "text": [
      "Fitting 3 folds for each of 12 candidates, totalling 36 fits\n"
     ],
     "output_type": "stream"
    },
    {
     "name": "stderr",
     "text": [
      "[Parallel(n_jobs=-1)]: Using backend LokyBackend with 8 concurrent workers.\n",
      "[Parallel(n_jobs=-1)]: Done  36 out of  36 | elapsed:  8.2min finished\n"
     ],
     "output_type": "stream"
    },
    {
     "data": {
      "text/plain": "GridSearchCV(cv=3, error_score='raise-deprecating',\n             estimator=RandomForestRegressor(bootstrap=True, criterion='mse',\n                                             max_depth=None,\n                                             max_features='auto',\n                                             max_leaf_nodes=None,\n                                             min_impurity_decrease=0.0,\n                                             min_impurity_split=None,\n                                             min_samples_leaf=1,\n                                             min_samples_split=2,\n                                             min_weight_fraction_leaf=0.0,\n                                             n_estimators='warn', n_jobs=None,\n                                             oob_score=False, random_state=42,\n                                             verbose=0, warm_start=False),\n             iid='warn', n_jobs=-1,\n             param_grid={'max_depth': [None, 20, 21, 22],\n                         'min_samples_split': [2, 3, 4],\n                         'n_estimators': [2000]},\n             pre_dispatch='2*n_jobs', refit=True, return_train_score=False,\n             scoring='neg_mean_squared_error', verbose=1)"
     },
     "metadata": {},
     "output_type": "execute_result",
     "execution_count": 144
    }
   ],
   "source": [
    "grid_rf.fit(X_train, y_train)\n"
   ],
   "metadata": {
    "collapsed": false,
    "pycharm": {
     "name": "#%%\n",
     "is_executing": false
    }
   }
  },
  {
   "cell_type": "code",
   "execution_count": 141,
   "outputs": [
    {
     "name": "stdout",
     "text": [
      "Best hyerparameters:\n {'max_depth': None, 'min_samples_split': 2, 'n_estimators': 1000}\n"
     ],
     "output_type": "stream"
    }
   ],
   "source": [
    "grid_rf.best_params_"
   ],
   "metadata": {
    "collapsed": false,
    "pycharm": {
     "name": "#%%\n",
     "is_executing": false
    }
   }
  },
  {
   "cell_type": "code",
   "execution_count": 142,
   "outputs": [
    {
     "name": "stdout",
     "text": [
      "Test set RMSE of rf: 41.53\n"
     ],
     "output_type": "stream"
    }
   ],
   "source": [
    "y_pred = grid_rf.predict(X_test)\n",
    "rmse_test = MSE(y_test, y_pred)**(1/2)\n",
    "print('Test set RMSE of rf: {:.2f}'.format(rmse_test))\n"
   ],
   "metadata": {
    "collapsed": false,
    "pycharm": {
     "name": "#%%\n",
     "is_executing": false
    }
   }
  },
  {
   "cell_type": "markdown",
   "source": [
    "## Creating SVM\n",
    "__Score history:__\n",
    "- Test set RMSE of rf: 143.46\n"
   ],
   "metadata": {
    "collapsed": false
   }
  },
  {
   "cell_type": "markdown",
   "source": [
    "### SVM parameters\n",
    "- __c:__\n",
    "    - penalty parameeter (higher => overfitting)\n",
    "- __shrinking:__\n",
    "    - weather to use the shrinking heuristic\n",
    "- __kernel:__\n",
    "    - specifies the kernel type"
   ],
   "metadata": {
    "collapsed": false,
    "pycharm": {
     "name": "#%% md\n"
    }
   }
  },
  {
   "cell_type": "code",
   "execution_count": 24,
   "outputs": [],
   "source": [
    "from sklearn.svm import SVR\n",
    "from sklearn.pipeline import make_pipeline\n",
    "from sklearn.preprocessing import RobustScaler"
   ],
   "metadata": {
    "collapsed": false,
    "pycharm": {
     "name": "#%%\n",
     "is_executing": false
    }
   }
  },
  {
   "cell_type": "code",
   "execution_count": 25,
   "outputs": [],
   "source": [
    "scaler = RobustScaler()\n",
    "svr = SVR()"
   ],
   "metadata": {
    "collapsed": false,
    "pycharm": {
     "name": "#%%\n",
     "is_executing": false
    }
   }
  },
  {
   "cell_type": "code",
   "execution_count": 26,
   "outputs": [
    {
     "data": {
      "text/plain": "{'C': 1.0,\n 'cache_size': 200,\n 'coef0': 0.0,\n 'degree': 3,\n 'epsilon': 0.1,\n 'gamma': 'auto_deprecated',\n 'kernel': 'rbf',\n 'max_iter': -1,\n 'shrinking': True,\n 'tol': 0.001,\n 'verbose': False}"
     },
     "metadata": {},
     "output_type": "execute_result",
     "execution_count": 26
    }
   ],
   "source": [
    "svr.get_params()"
   ],
   "metadata": {
    "collapsed": false,
    "pycharm": {
     "name": "#%%\n",
     "is_executing": false
    }
   }
  },
  {
   "cell_type": "code",
   "execution_count": 27,
   "outputs": [],
   "source": [
    "pipe = make_pipeline(scaler, svr)"
   ],
   "metadata": {
    "collapsed": false,
    "pycharm": {
     "name": "#%%\n",
     "is_executing": false
    }
   }
  },
  {
   "cell_type": "code",
   "execution_count": 29,
   "outputs": [],
   "source": [
    "params_svr = {'C': [1.0, 1.1, 1.2, 1.3, 1.4],\n",
    " 'svr__kernel': ['rbf', 'linear', 'poly', 'rbf', 'sigmoid'],\n",
    " 'svr__shrinking': [True, False]}\n",
    "\n",
    "grid_rf = GridSearchCV(estimator=pipe,\n",
    "    param_grid=params_svr,\n",
    "    cv=3,\n",
    "    scoring='neg_mean_squared_error',\n",
    "    verbose=1,\n",
    "    n_jobs=-1)"
   ],
   "metadata": {
    "collapsed": false,
    "pycharm": {
     "name": "#%%\n",
     "is_executing": false
    }
   }
  },
  {
   "cell_type": "code",
   "execution_count": 30,
   "outputs": [
    {
     "name": "stderr",
     "text": [
      "C:\\Users\\rapha\\Anaconda3\\envs\\pyCharm\\lib\\site-packages\\sklearn\\svm\\base.py:193: FutureWarning: The default value of gamma will change from 'auto' to 'scale' in version 0.22 to account better for unscaled features. Set gamma explicitly to 'auto' or 'scale' to avoid this warning.\n  \"avoid this warning.\", FutureWarning)\n"
     ],
     "output_type": "stream"
    },
    {
     "data": {
      "text/plain": "Pipeline(memory=None,\n         steps=[('robustscaler',\n                 RobustScaler(copy=True, quantile_range=(25.0, 75.0),\n                              with_centering=True, with_scaling=True)),\n                ('svr',\n                 SVR(C=1.0, cache_size=200, coef0=0.0, degree=3, epsilon=0.1,\n                     gamma='auto_deprecated', kernel='rbf', max_iter=-1,\n                     shrinking=True, tol=0.001, verbose=False))],\n         verbose=False)"
     },
     "metadata": {},
     "output_type": "execute_result",
     "execution_count": 30
    }
   ],
   "source": [
    "pipe.fit(X_train, y_train)"
   ],
   "metadata": {
    "collapsed": false,
    "pycharm": {
     "name": "#%%\n",
     "is_executing": false
    }
   }
  },
  {
   "cell_type": "code",
   "execution_count": 31,
   "outputs": [
    {
     "name": "stdout",
     "text": [
      "Test set RMSE of rf: 143.46\n"
     ],
     "output_type": "stream"
    }
   ],
   "source": [
    "y_pred_svr = pipe.predict(X_test)\n",
    "rmse_test_svr = MSE(y_test, y_pred_svr)**(1/2)\n",
    "print('Test set RMSE of rf: {:.2f}'.format(rmse_test_svr))\n"
   ],
   "metadata": {
    "collapsed": false,
    "pycharm": {
     "name": "#%%\n",
     "is_executing": false
    }
   }
  },
  {
   "cell_type": "markdown",
   "source": [
    "## Creating a GradientBoostingRegressor\n",
    "__Score history:__\n",
    "- Test set RMSE of rf: 65.32\n",
    "- Test set RMSE of rf: 44.17 (parameter tuning)"
   ],
   "metadata": {
    "collapsed": false,
    "pycharm": {
     "name": "#%% md\n"
    }
   }
  },
  {
   "cell_type": "code",
   "execution_count": 163,
   "outputs": [],
   "source": [
    "from sklearn.ensemble import GradientBoostingRegressor"
   ],
   "metadata": {
    "collapsed": false,
    "pycharm": {
     "name": "#%%\n",
     "is_executing": false
    }
   }
  },
  {
   "cell_type": "code",
   "execution_count": 170,
   "outputs": [],
   "source": [
    "gbt = GradientBoostingRegressor(random_state=42)\n"
   ],
   "metadata": {
    "collapsed": false,
    "pycharm": {
     "name": "#%%\n",
     "is_executing": false
    }
   }
  },
  {
   "cell_type": "code",
   "execution_count": 177,
   "outputs": [],
   "source": [
    "params_gbt = {\n",
    "'n_estimators': [200, 300, 400],\n",
    "'max_depth': [1, 2, 3, 4, 5, 6, 7],\n",
    "'max_features': ['log2'],\n",
    "'learning_rate': [0.05, 0.1, 0.15],\n",
    "'subsample': [0.8]\n",
    "    \n",
    "}\n",
    "# Instantiate 'grid_rf'\n",
    "grid_gbt = GridSearchCV(estimator=gbt,\n",
    "param_grid=params_gbt,\n",
    "cv=3,\n",
    "scoring='neg_mean_squared_error',\n",
    "verbose=1,\n",
    "n_jobs=-1)"
   ],
   "metadata": {
    "collapsed": false,
    "pycharm": {
     "name": "#%%\n",
     "is_executing": false
    }
   }
  },
  {
   "cell_type": "code",
   "execution_count": 178,
   "outputs": [
    {
     "name": "stdout",
     "text": [
      "Fitting 3 folds for each of 63 candidates, totalling 189 fits\n"
     ],
     "output_type": "stream"
    },
    {
     "name": "stderr",
     "text": [
      "[Parallel(n_jobs=-1)]: Using backend LokyBackend with 8 concurrent workers.\n",
      "[Parallel(n_jobs=-1)]: Done  34 tasks      | elapsed:    4.3s\n",
      "[Parallel(n_jobs=-1)]: Done 189 out of 189 | elapsed:   29.0s finished\n"
     ],
     "output_type": "stream"
    },
    {
     "data": {
      "text/plain": "GridSearchCV(cv=3, error_score='raise-deprecating',\n             estimator=GradientBoostingRegressor(alpha=0.9,\n                                                 criterion='friedman_mse',\n                                                 init=None, learning_rate=0.1,\n                                                 loss='ls', max_depth=3,\n                                                 max_features=None,\n                                                 max_leaf_nodes=None,\n                                                 min_impurity_decrease=0.0,\n                                                 min_impurity_split=None,\n                                                 min_samples_leaf=1,\n                                                 min_samples_split=2,\n                                                 min_weight_fraction_leaf=0.0,\n                                                 n_estimators=100,\n                                                 n_iter...\n                                                 random_state=42, subsample=1.0,\n                                                 tol=0.0001,\n                                                 validation_fraction=0.1,\n                                                 verbose=0, warm_start=False),\n             iid='warn', n_jobs=-1,\n             param_grid={'learning_rate': [0.05, 0.1, 0.15],\n                         'max_depth': [1, 2, 3, 4, 5, 6, 7],\n                         'max_features': ['log2'],\n                         'n_estimators': [200, 300, 400], 'subsample': [0.8]},\n             pre_dispatch='2*n_jobs', refit=True, return_train_score=False,\n             scoring='neg_mean_squared_error', verbose=1)"
     },
     "metadata": {},
     "output_type": "execute_result",
     "execution_count": 178
    }
   ],
   "source": [
    "grid_gbt.fit(X_train, y_train)"
   ],
   "metadata": {
    "collapsed": false,
    "pycharm": {
     "name": "#%%\n",
     "is_executing": false
    }
   }
  },
  {
   "cell_type": "code",
   "execution_count": 179,
   "outputs": [
    {
     "name": "stdout",
     "text": [
      "Best hyerparameters:\n {'learning_rate': 0.15, 'max_depth': 5, 'max_features': 'log2', 'n_estimators': 400, 'subsample': 0.8}\n"
     ],
     "output_type": "stream"
    }
   ],
   "source": [
    "grid_gbt.best_params_\n"
   ],
   "metadata": {
    "collapsed": false,
    "pycharm": {
     "name": "#%%\n",
     "is_executing": false
    }
   }
  },
  {
   "cell_type": "code",
   "execution_count": 182,
   "outputs": [
    {
     "name": "stdout",
     "text": [
      "Test set RMSE of rf: 44.17\n"
     ],
     "output_type": "stream"
    }
   ],
   "source": [
    "best_model = grid_gbt.best_estimator_\n",
    "y_pred = best_model.predict(X_test)\n",
    "rmse_test = MSE(y_test, y_pred)**(1/2)\n",
    "print('Test set RMSE of rf: {:.2f}'.format(rmse_test))"
   ],
   "metadata": {
    "collapsed": false,
    "pycharm": {
     "name": "#%%\n",
     "is_executing": false
    }
   }
  }
 ],
 "metadata": {
  "kernelspec": {
   "display_name": "Python 3",
   "language": "python",
   "name": "python3"
  },
  "language_info": {
   "codemirror_mode": {
    "name": "ipython",
    "version": 2
   },
   "file_extension": ".py",
   "mimetype": "text/x-python",
   "name": "python",
   "nbconvert_exporter": "python",
   "pygments_lexer": "ipython2",
   "version": "2.7.6"
  },
  "pycharm": {
   "stem_cell": {
    "cell_type": "raw",
    "source": [],
    "metadata": {
     "collapsed": false
    }
   }
  }
 },
 "nbformat": 4,
 "nbformat_minor": 0
}