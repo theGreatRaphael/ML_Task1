{
 "cells": [
  {
   "cell_type": "markdown",
   "metadata": {
    "collapsed": true,
    "pycharm": {
     "name": "#%% md\n"
    }
   },
   "source": [
    "# Chose 4 different regression techniques"
   ]
  },
  {
   "cell_type": "markdown",
   "metadata": {
    "pycharm": {
     "name": "#%% md\n"
    }
   },
   "source": [
    "## Read data\n",
    "Only `train` file relevant for training:\n",
    "`data/bike_sharing/bikeSharing.shuf.train.csv`\n",
    "\n",
    "`test` file doesn't contain labels:\n",
    "`data/bike_sharing/bikeSharing.shuf.test.csv`"
   ]
  },
  {
   "cell_type": "code",
   "execution_count": 46,
   "metadata": {
    "pycharm": {
     "is_executing": false,
     "name": "#%%\n"
    }
   },
   "outputs": [],
   "source": [
    "import pandas as pd\n",
    "from sklearn.model_selection import train_test_split\n",
    "from sklearn.metrics import mean_squared_error as MSE\n",
    "\n",
    "import matplotlib\n",
    "import matplotlib.pyplot as plt\n",
    "import seaborn as sns\n",
    "import numpy as np\n",
    "from sklearn import metrics"
   ]
  },
  {
   "cell_type": "markdown",
   "source": [
    "## Metrics function\n",
    "Function prints out different metrics of the predictions.\n",
    "- MAE\n",
    "- MAPE\n",
    "- RMSE\n",
    "- R2"
   ],
   "metadata": {
    "collapsed": false,
    "pycharm": {
     "name": "#%% md\n"
    }
   }
  },
  {
   "cell_type": "code",
   "execution_count": 47,
   "outputs": [],
   "source": [
    "def print_metrics(y_hat, y_test):\n",
    "    output = pd.DataFrame({'MAE': [round(np.mean(abs(y_hat-y_test)), 2)],\n",
    "                   'MAPE': [round(np.mean(abs(y_hat-y_test)/y_test), 4)],\n",
    "                   'RMSE': [round(np.sqrt(np.mean((y_test - y_hat)**2)), 2)],\n",
    "                   ' R2': [round(metrics.r2_score(y_test, y_hat),2)]\n",
    "                   })\n",
    "    return output"
   ],
   "metadata": {
    "collapsed": false,
    "pycharm": {
     "name": "#%%\n",
     "is_executing": false
    }
   }
  },
  {
   "cell_type": "code",
   "execution_count": 48,
   "metadata": {
    "pycharm": {
     "is_executing": false,
     "name": "#%%\n"
    }
   },
   "outputs": [],
   "source": [
    "bike = pd.read_csv('data/bike_sharing/bikeSharing.shuf.train.csv')"
   ]
  },
  {
   "cell_type": "markdown",
   "metadata": {
    "pycharm": {
     "name": "#%% md\n"
    }
   },
   "source": [
    "### Check data\n",
    "`info()` method shows if there are missing values\n",
    "it shows that there aren't any missing values (non-null for every feature)"
   ]
  },
  {
   "cell_type": "code",
   "execution_count": 49,
   "metadata": {
    "pycharm": {
     "is_executing": false,
     "name": "#%%\n"
    }
   },
   "outputs": [
    {
     "name": "stdout",
     "text": [
      "<class 'pandas.core.frame.DataFrame'>\nRangeIndex: 8690 entries, 0 to 8689\nData columns (total 15 columns):\nid            8690 non-null int64\ncnt           8690 non-null int64\ndteday        8690 non-null object\nseason        8690 non-null int64\nyr            8690 non-null int64\nmnth          8690 non-null int64\nhr            8690 non-null int64\nholiday       8690 non-null int64\nweekday       8690 non-null int64\nworkingday    8690 non-null int64\nweathersit    8690 non-null int64\ntemp          8690 non-null float64\natemp         8690 non-null float64\nhum           8690 non-null float64\nwindspeed     8690 non-null float64\ndtypes: float64(4), int64(10), object(1)\nmemory usage: 1018.5+ KB\n"
     ],
     "output_type": "stream"
    }
   ],
   "source": [
    "bike.info()"
   ]
  },
  {
   "cell_type": "markdown",
   "metadata": {
    "pycharm": {
     "name": "#%% md\n"
    }
   },
   "source": [
    "## Preprocessing (without scaling)\n",
    "Preprocessing is needed because data contains a string datetime object\n",
    "I have tried converting data to ordinal value (counting number) but converting data to `day of week` and\n",
    "`weekofyear` performed better.\n",
    "There were already time variables within the dataset (`yr`, `mnth`, ...). Since features shouldn't be correlated \n",
    "(sometimes), getting much information out of `dteday`isn't easily possible.  "
   ]
  },
  {
   "cell_type": "code",
   "execution_count": 50,
   "metadata": {
    "pycharm": {
     "is_executing": false,
     "name": "#%%\n"
    }
   },
   "outputs": [],
   "source": [
    "# bike['dteday'] = pd.to_datetime(bike['dteday'], format=\"%Y/%m/%d\").apply(lambda x: x.toordinal())\n",
    "bike['weekday'] = pd.to_datetime(bike['dteday'], format=\"%Y/%m/%d\").apply(lambda x: x.dayofweek)\n",
    "bike['weekofyear'] = pd.to_datetime(bike['dteday'], format=\"%Y/%m/%d\").apply(lambda x: x.weekofyear)\n",
    "\n",
    "bike.drop('dteday', axis= 1, inplace=True)\n"
   ]
  },
  {
   "cell_type": "code",
   "execution_count": 51,
   "metadata": {
    "pycharm": {
     "is_executing": false,
     "name": "#%%\n"
    }
   },
   "outputs": [
    {
     "name": "stdout",
     "text": [
      "<class 'pandas.core.frame.DataFrame'>\nRangeIndex: 8690 entries, 0 to 8689\nData columns (total 15 columns):\nid            8690 non-null int64\ncnt           8690 non-null int64\nseason        8690 non-null int64\nyr            8690 non-null int64\nmnth          8690 non-null int64\nhr            8690 non-null int64\nholiday       8690 non-null int64\nweekday       8690 non-null int64\nworkingday    8690 non-null int64\nweathersit    8690 non-null int64\ntemp          8690 non-null float64\natemp         8690 non-null float64\nhum           8690 non-null float64\nwindspeed     8690 non-null float64\nweekofyear    8690 non-null int64\ndtypes: float64(4), int64(11)\nmemory usage: 1018.5 KB\n"
     ],
     "output_type": "stream"
    }
   ],
   "source": [
    "bike.info()"
   ]
  },
  {
   "cell_type": "markdown",
   "metadata": {},
   "source": [
    "## Feature Pearson Correlation"
   ]
  },
  {
   "cell_type": "code",
   "execution_count": 52,
   "metadata": {
    "pycharm": {
     "is_executing": false
    }
   },
   "outputs": [
    {
     "data": {
      "text/plain": "<Figure size 864x864 with 2 Axes>",
      "image/png": "[encoded data removed]"
     },
     "metadata": {
      "needs_background": "light"
     },
     "output_type": "display_data"
    }
   ],
   "source": [
    "plt.figure(figsize=(12,12))\n",
    "cor = bike.corr()\n",
    "sns.heatmap(cor, annot=True, cmap=plt.cm.Reds)\n",
    "plt.show()"
   ]
  },
  {
   "cell_type": "markdown",
   "metadata": {
    "pycharm": {
     "name": "#%% md\n"
    }
   },
   "source": [
    "## Creating feature and target arrays"
   ]
  },
  {
   "cell_type": "markdown",
   "metadata": {},
   "source": [
    "### Icreasing performance for all techniques but RF by dropping workingday, temp (and mnth) "
   ]
  },
  {
   "cell_type": "code",
   "execution_count": 53,
   "metadata": {
    "pycharm": {
     "is_executing": false
    }
   },
   "outputs": [],
   "source": [
    "bike_dropped = bike.drop(['id', 'workingday', 'temp', 'mnth'], axis = 1)\n",
    "#bike_dropped = bike"
   ]
  },
  {
   "cell_type": "code",
   "execution_count": 54,
   "metadata": {
    "pycharm": {
     "is_executing": false,
     "name": "#%%\n"
    }
   },
   "outputs": [],
   "source": [
    "X = bike_dropped.drop('cnt', axis = 1).values\n",
    "y = bike_dropped['cnt'].values"
   ]
  },
  {
   "cell_type": "markdown",
   "metadata": {
    "pycharm": {
     "name": "#%% md\n"
    }
   },
   "source": [
    "## Creating train and test data \n"
   ]
  },
  {
   "cell_type": "code",
   "execution_count": 55,
   "metadata": {
    "pycharm": {
     "is_executing": false,
     "name": "#%%\n"
    }
   },
   "outputs": [],
   "source": [
    "X_train, X_test, y_train, y_test = train_test_split(X, y, test_size = 0.3, random_state = 42)"
   ]
  },
  {
   "cell_type": "markdown",
   "metadata": {
    "pycharm": {
     "name": "#%% md\n"
    }
   },
   "source": [
    "## Starting with a simple model to:\n",
    "+ get a sense of how challenging the problem is\n",
    "+ many more things might go wrong with complex models\n",
    "+ how much signal can we pull out using basic models"
   ]
  },
  {
   "cell_type": "markdown",
   "metadata": {
    "pycharm": {
     "name": "#%% md\n"
    }
   },
   "source": [
    "## Ridge regression\n",
    "__Score history:__\n",
    "- Test set RMSE of rf: 137.47 (ordinal date)\n",
    "- Test set RMSE of rf: 137.44 (dayofweek, ...)\n",
    "- Test set RMSE of rf: 136.08 (parameter tuning)\n",
    "- Test set RMSE of rf: 135.898 (remove workingday, temp(, mnth))"
   ]
  },
  {
   "cell_type": "markdown",
   "metadata": {
    "pycharm": {
     "name": "#%% md\n"
    }
   },
   "source": [
    "### Ridge parameters\n",
    "- __alpha:__\n",
    "    - regularization strenght: the higher the value, the stronger the regularization\n",
    "- __fit_intercept:__\n",
    "    - weather to calculate an intercept for this model (e. g. not needed if centered) \n",
    "- __normalize:__\n",
    "    - if `fit_intercept` and `normalize` are both `True` the regressor X will be normalized"
   ]
  },
  {
   "cell_type": "code",
   "execution_count": 56,
   "metadata": {
    "pycharm": {
     "is_executing": false,
     "name": "#%%\n"
    }
   },
   "outputs": [],
   "source": [
    "from sklearn.linear_model import Ridge\n",
    "from sklearn.model_selection import GridSearchCV"
   ]
  },
  {
   "cell_type": "code",
   "execution_count": 57,
   "metadata": {
    "pycharm": {
     "is_executing": false,
     "name": "#%%\n"
    }
   },
   "outputs": [],
   "source": [
    "# create parameter list for ridge regression\n",
    "params_ridge = {\n",
    "    'alpha':[0.3, 0.4, 0.5, 0.6, 0.7, 0.8, 0.9], \n",
    "    #[x/100. for x in range(0,100,1)],\n",
    "    'normalize': [True, False],\n",
    "    'fit_intercept': [True, False]\n",
    "}\n",
    "\n",
    "ridge = Ridge()"
   ]
  },
  {
   "cell_type": "code",
   "execution_count": 58,
   "metadata": {
    "pycharm": {
     "is_executing": false,
     "name": "#%%\n"
    }
   },
   "outputs": [],
   "source": [
    "# setup cross validation parameter grid search\n",
    "grid_ridge = GridSearchCV(estimator=ridge,\n",
    "    param_grid=params_ridge,\n",
    "    cv=3,\n",
    "    scoring='neg_mean_squared_error',\n",
    "    verbose=1,\n",
    "    n_jobs=-1)"
   ]
  },
  {
   "cell_type": "code",
   "execution_count": 59,
   "metadata": {
    "pycharm": {
     "is_executing": false,
     "name": "#%%\n"
    },
    "scrolled": false
   },
   "outputs": [
    {
     "name": "stdout",
     "text": [
      "Fitting 3 folds for each of 28 candidates, totalling 84 fits\n"
     ],
     "output_type": "stream"
    },
    {
     "name": "stderr",
     "text": [
      "[Parallel(n_jobs=-1)]: Using backend LokyBackend with 8 concurrent workers.\n",
      "[Parallel(n_jobs=-1)]: Done  34 tasks      | elapsed:    4.8s\n[Parallel(n_jobs=-1)]: Done  84 out of  84 | elapsed:    4.9s finished\n"
     ],
     "output_type": "stream"
    },
    {
     "data": {
      "text/plain": "GridSearchCV(cv=3, error_score='raise-deprecating',\n             estimator=Ridge(alpha=1.0, copy_X=True, fit_intercept=True,\n                             max_iter=None, normalize=False, random_state=None,\n                             solver='auto', tol=0.001),\n             iid='warn', n_jobs=-1,\n             param_grid={'alpha': [0.3, 0.4, 0.5, 0.6, 0.7, 0.8, 0.9],\n                         'fit_intercept': [True, False],\n                         'normalize': [True, False]},\n             pre_dispatch='2*n_jobs', refit=True, return_train_score=False,\n             scoring='neg_mean_squared_error', verbose=1)"
     },
     "metadata": {},
     "output_type": "execute_result",
     "execution_count": 59
    }
   ],
   "source": [
    "# fitting model on training data\n",
    "grid_ridge.fit(X_train, y_train)"
   ]
  },
  {
   "cell_type": "code",
   "execution_count": 60,
   "metadata": {
    "pycharm": {
     "is_executing": false,
     "name": "#%%\n"
    }
   },
   "outputs": [
    {
     "data": {
      "text/plain": "{'alpha': 0.5, 'fit_intercept': True, 'normalize': False}"
     },
     "metadata": {},
     "output_type": "execute_result",
     "execution_count": 60
    }
   ],
   "source": [
    "# extracting best parameters (can be used for finer hyper parameter tuning)\n",
    "grid_ridge.best_params_"
   ]
  },
  {
   "cell_type": "code",
   "execution_count": 61,
   "metadata": {
    "pycharm": {
     "is_executing": false,
     "name": "#%%\n"
    }
   },
   "outputs": [
    {
     "name": "stdout",
     "text": [
      "Test set RMSE of rf: 135.90\n"
     ],
     "output_type": "stream"
    }
   ],
   "source": [
    "# predicting values and calculating the rmse-score\n",
    "y_pred_ridge = grid_ridge.predict(X_test)\n",
    "rmse_test_lasso = MSE(y_test, y_pred_ridge)**(1/2)\n",
    "print('Test set RMSE of rf: {:.2f}'.format(rmse_test_lasso))"
   ]
  },
  {
   "cell_type": "code",
   "execution_count": 62,
   "outputs": [
    {
     "data": {
      "text/plain": "      MAE    MAPE   RMSE    R2\n0  102.56  3.2412  135.9  0.39",
      "text/html": "<div>\n<style scoped>\n    .dataframe tbody tr th:only-of-type {\n        vertical-align: middle;\n    }\n\n    .dataframe tbody tr th {\n        vertical-align: top;\n    }\n\n    .dataframe thead th {\n        text-align: right;\n    }\n</style>\n<table border=\"1\" class=\"dataframe\">\n  <thead>\n    <tr style=\"text-align: right;\">\n      <th></th>\n      <th>MAE</th>\n      <th>MAPE</th>\n      <th>RMSE</th>\n      <th>R2</th>\n    </tr>\n  </thead>\n  <tbody>\n    <tr>\n      <td>0</td>\n      <td>102.56</td>\n      <td>3.2412</td>\n      <td>135.9</td>\n      <td>0.39</td>\n    </tr>\n  </tbody>\n</table>\n</div>"
     },
     "metadata": {},
     "output_type": "execute_result",
     "execution_count": 62
    }
   ],
   "source": [
    "print_metrics(y_pred_ridge, y_test)"
   ],
   "metadata": {
    "collapsed": false,
    "pycharm": {
     "name": "#%%\n",
     "is_executing": false
    }
   }
  },
  {
   "cell_type": "markdown",
   "metadata": {
    "pycharm": {
     "name": "#%% md\n"
    }
   },
   "source": [
    "## Lasso regression\n",
    "__Score history:__\n",
    "- Test set RMSE of rf: 136.00\n",
    "- Test set RMSE of rf: 135.90 (remove workingday, temp(, mnth))"
   ]
  },
  {
   "cell_type": "markdown",
   "metadata": {
    "pycharm": {
     "name": "#%% md\n"
    }
   },
   "source": [
    "### Lasso Parameters:\n",
    "- __alpha:__\n",
    "    - constant that multiplies the L1-Norm\n",
    "- __fit_intercept:__\n",
    "    - weather to calculate an intercept for this model (e. g. not needed if centered) \n",
    "- __normalize:__\n",
    "    - if `fit_intercept` and `normalize` are both `True` the regressor X will be normalized\n",
    "- __positive:__\n",
    "    - when `True` forces the coefficients to be positive"
   ]
  },
  {
   "cell_type": "code",
   "execution_count": 63,
   "metadata": {
    "pycharm": {
     "is_executing": false,
     "name": "#%%\n"
    }
   },
   "outputs": [],
   "source": [
    "from sklearn.linear_model import Lasso"
   ]
  },
  {
   "cell_type": "code",
   "execution_count": 64,
   "metadata": {
    "pycharm": {
     "is_executing": false,
     "name": "#%%\n"
    }
   },
   "outputs": [],
   "source": [
    "params_lasso = {\n",
    "    'alpha': [0.001, 0.005, 0.1, 0.2, 0.3, 0.4, 0.5, 0.6, 0.7, 0.8, 0.9, 1, 1.1, 1.2],\n",
    "    'normalize': [True, False],\n",
    "    'fit_intercept': [True, False],\n",
    "    'positive': [True, False] \n",
    "}\n",
    "\n",
    "lasso = Lasso()"
   ]
  },
  {
   "cell_type": "code",
   "execution_count": 65,
   "metadata": {
    "pycharm": {
     "is_executing": false,
     "name": "#%%\n"
    }
   },
   "outputs": [],
   "source": [
    "grid_lasso = GridSearchCV(estimator=lasso,\n",
    "    param_grid=params_lasso,\n",
    "    cv=3,\n",
    "    scoring='neg_mean_squared_error',\n",
    "    verbose=1,\n",
    "    n_jobs=-1)"
   ]
  },
  {
   "cell_type": "code",
   "execution_count": 66,
   "metadata": {
    "pycharm": {
     "is_executing": false,
     "name": "#%%\n"
    }
   },
   "outputs": [
    {
     "name": "stdout",
     "text": [
      "Fitting 3 folds for each of 112 candidates, totalling 336 fits\n"
     ],
     "output_type": "stream"
    },
    {
     "name": "stderr",
     "text": [
      "[Parallel(n_jobs=-1)]: Using backend LokyBackend with 8 concurrent workers.\n",
      "[Parallel(n_jobs=-1)]: Done  34 tasks      | elapsed:    2.7s\n",
      "[Parallel(n_jobs=-1)]: Done 336 out of 336 | elapsed:    3.3s finished\n"
     ],
     "output_type": "stream"
    },
    {
     "data": {
      "text/plain": "GridSearchCV(cv=3, error_score='raise-deprecating',\n             estimator=Lasso(alpha=1.0, copy_X=True, fit_intercept=True,\n                             max_iter=1000, normalize=False, positive=False,\n                             precompute=False, random_state=None,\n                             selection='cyclic', tol=0.0001, warm_start=False),\n             iid='warn', n_jobs=-1,\n             param_grid={'alpha': [0.001, 0.005, 0.1, 0.2, 0.3, 0.4, 0.5, 0.6,\n                                   0.7, 0.8, 0.9, 1, 1.1, 1.2],\n                         'fit_intercept': [True, False],\n                         'normalize': [True, False],\n                         'positive': [True, False]},\n             pre_dispatch='2*n_jobs', refit=True, return_train_score=False,\n             scoring='neg_mean_squared_error', verbose=1)"
     },
     "metadata": {},
     "output_type": "execute_result",
     "execution_count": 66
    }
   ],
   "source": [
    "grid_lasso.fit(X_train, y_train)"
   ]
  },
  {
   "cell_type": "code",
   "execution_count": 67,
   "metadata": {
    "pycharm": {
     "is_executing": false,
     "name": "#%%\n"
    }
   },
   "outputs": [
    {
     "data": {
      "text/plain": "{'alpha': 0.001, 'fit_intercept': True, 'normalize': False, 'positive': False}"
     },
     "metadata": {},
     "output_type": "execute_result",
     "execution_count": 67
    }
   ],
   "source": [
    "grid_lasso.best_params_"
   ]
  },
  {
   "cell_type": "code",
   "execution_count": 68,
   "metadata": {
    "pycharm": {
     "is_executing": false,
     "name": "#%%\n"
    }
   },
   "outputs": [
    {
     "name": "stdout",
     "text": [
      "Test set RMSE of rf: 135.90\n"
     ],
     "output_type": "stream"
    }
   ],
   "source": [
    "y_pred_lasso = grid_lasso.predict(X_test)\n",
    "rmse_test_lasso = MSE(y_test, y_pred_lasso)**(1/2)\n",
    "print('Test set RMSE of rf: {:.2f}'.format(rmse_test_lasso))"
   ]
  },
  {
   "cell_type": "code",
   "execution_count": 69,
   "outputs": [
    {
     "data": {
      "text/plain": "      MAE    MAPE   RMSE    R2\n0  102.57  3.2418  135.9  0.39",
      "text/html": "<div>\n<style scoped>\n    .dataframe tbody tr th:only-of-type {\n        vertical-align: middle;\n    }\n\n    .dataframe tbody tr th {\n        vertical-align: top;\n    }\n\n    .dataframe thead th {\n        text-align: right;\n    }\n</style>\n<table border=\"1\" class=\"dataframe\">\n  <thead>\n    <tr style=\"text-align: right;\">\n      <th></th>\n      <th>MAE</th>\n      <th>MAPE</th>\n      <th>RMSE</th>\n      <th>R2</th>\n    </tr>\n  </thead>\n  <tbody>\n    <tr>\n      <td>0</td>\n      <td>102.57</td>\n      <td>3.2418</td>\n      <td>135.9</td>\n      <td>0.39</td>\n    </tr>\n  </tbody>\n</table>\n</div>"
     },
     "metadata": {},
     "output_type": "execute_result",
     "execution_count": 69
    }
   ],
   "source": [
    "print_metrics(y_pred_lasso, y_test)"
   ],
   "metadata": {
    "collapsed": false,
    "pycharm": {
     "name": "#%%\n",
     "is_executing": false
    }
   }
  },
  {
   "cell_type": "markdown",
   "metadata": {
    "pycharm": {
     "name": "#%% md\n"
    }
   },
   "source": [
    "## Random Forest\n",
    "__Score history:__\n",
    "- Test set RMSE of rf: 112.39\n",
    "- Test set RMSE of rf: 107.32 (start parameter tuning)\n",
    "- Test set RMSE of rf: 106.62 (parameter tuning 2)\n",
    "- Test set RMSE of rf: 71.72 (pt 3)\n",
    "- Test set RMSE of rf: 70.43 (new date, higher estimators)\n",
    "- Test set RMSE of rf: 41.65 (pt 4)\n",
    "- Test set RMSE of rf: 41.53 (pt 5"
   ]
  },
  {
   "cell_type": "markdown",
   "metadata": {
    "pycharm": {
     "name": "#%% md\n"
    }
   },
   "source": [
    "### Random Forest parameters\n",
    "- __n_estimators:__\n",
    "    - number of trees in the forest\n",
    "- __max_depth:__\n",
    "    - maximum depth of the tree\n",
    "- __min_samples_split:__\n",
    "    - the min. number of samples required to split an internal node\n",
    "- __min_samples_leaf:__\n",
    "    - the minimum number of samples required to be at a leaf node\n",
    "- __min_weight_fraction_leaf:__\n",
    "    - the minimum weighted fraction of the sum total of weights\n",
    "- __max_features:__\n",
    "    - the number of features to consider when looking for the best split\n",
    "- __min_impurity_decrease:__\n",
    "    - A node will be split if this split induces a decrease of the impurity greater than or equal to this value."
   ]
  },
  {
   "cell_type": "code",
   "execution_count": 70,
   "metadata": {
    "pycharm": {
     "is_executing": false,
     "name": "#%%\n"
    }
   },
   "outputs": [],
   "source": [
    "from sklearn.ensemble import RandomForestRegressor"
   ]
  },
  {
   "cell_type": "code",
   "execution_count": 71,
   "metadata": {
    "pycharm": {
     "is_executing": false,
     "name": "#%%\n"
    }
   },
   "outputs": [],
   "source": [
    "rf = RandomForestRegressor(random_state=42)"
   ]
  },
  {
   "cell_type": "code",
   "execution_count": 72,
   "metadata": {
    "pycharm": {
     "is_executing": false,
     "name": "#%%\n"
    }
   },
   "outputs": [
    {
     "name": "stdout",
     "text": [
      "{'bootstrap': True, 'criterion': 'mse', 'max_depth': None, 'max_features': 'auto', 'max_leaf_nodes': None, 'min_impurity_decrease': 0.0, 'min_impurity_split': None, 'min_samples_leaf': 1, 'min_samples_split': 2, 'min_weight_fraction_leaf': 0.0, 'n_estimators': 'warn', 'n_jobs': None, 'oob_score': False, 'random_state': 42, 'verbose': 0, 'warm_start': False}\n"
     ],
     "output_type": "stream"
    }
   ],
   "source": [
    "# take a look at the rf's parameters\n",
    "print(rf.get_params())"
   ]
  },
  {
   "cell_type": "code",
   "execution_count": 73,
   "metadata": {
    "pycharm": {
     "is_executing": false,
     "name": "#%%\n"
    }
   },
   "outputs": [],
   "source": [
    "params_rf = {\n",
    "    'n_estimators': [100],\n",
    "    'max_depth': [None, 20, 21, 22],\n",
    "    'min_samples_split': [2, 3, 4]\n",
    "}\n",
    "\n",
    "grid_rf = GridSearchCV(estimator=rf,\n",
    "    param_grid=params_rf,\n",
    "    cv=3,\n",
    "    scoring='neg_mean_squared_error',\n",
    "    verbose=1,\n",
    "    n_jobs=-1)"
   ]
  },
  {
   "cell_type": "code",
   "execution_count": 74,
   "metadata": {
    "pycharm": {
     "is_executing": false,
     "name": "#%%\n"
    }
   },
   "outputs": [
    {
     "name": "stdout",
     "text": [
      "Fitting 3 folds for each of 12 candidates, totalling 36 fits\n"
     ],
     "output_type": "stream"
    },
    {
     "name": "stderr",
     "text": [
      "[Parallel(n_jobs=-1)]: Using backend LokyBackend with 8 concurrent workers.\n",
      "[Parallel(n_jobs=-1)]: Done  36 out of  36 | elapsed:   14.7s finished\n"
     ],
     "output_type": "stream"
    },
    {
     "data": {
      "text/plain": "GridSearchCV(cv=3, error_score='raise-deprecating',\n             estimator=RandomForestRegressor(bootstrap=True, criterion='mse',\n                                             max_depth=None,\n                                             max_features='auto',\n                                             max_leaf_nodes=None,\n                                             min_impurity_decrease=0.0,\n                                             min_impurity_split=None,\n                                             min_samples_leaf=1,\n                                             min_samples_split=2,\n                                             min_weight_fraction_leaf=0.0,\n                                             n_estimators='warn', n_jobs=None,\n                                             oob_score=False, random_state=42,\n                                             verbose=0, warm_start=False),\n             iid='warn', n_jobs=-1,\n             param_grid={'max_depth': [None, 20, 21, 22],\n                         'min_samples_split': [2, 3, 4],\n                         'n_estimators': [100]},\n             pre_dispatch='2*n_jobs', refit=True, return_train_score=False,\n             scoring='neg_mean_squared_error', verbose=1)"
     },
     "metadata": {},
     "output_type": "execute_result",
     "execution_count": 74
    }
   ],
   "source": [
    "grid_rf.fit(X_train, y_train)\n"
   ]
  },
  {
   "cell_type": "code",
   "execution_count": 75,
   "metadata": {
    "pycharm": {
     "is_executing": false,
     "name": "#%%\n"
    }
   },
   "outputs": [
    {
     "data": {
      "text/plain": "{'max_depth': 22, 'min_samples_split': 3, 'n_estimators': 100}"
     },
     "metadata": {},
     "output_type": "execute_result",
     "execution_count": 75
    }
   ],
   "source": [
    "grid_rf.best_params_"
   ]
  },
  {
   "cell_type": "code",
   "execution_count": 76,
   "metadata": {
    "pycharm": {
     "is_executing": false,
     "name": "#%%\n"
    }
   },
   "outputs": [
    {
     "name": "stdout",
     "text": [
      "Test set RMSE of rf: 45.38\n"
     ],
     "output_type": "stream"
    }
   ],
   "source": [
    "y_pred = grid_rf.predict(X_test)\n",
    "rmse_test = MSE(y_test, y_pred)**(1/2)\n",
    "print('Test set RMSE of rf: {:.2f}'.format(rmse_test))\n"
   ]
  },
  {
   "cell_type": "code",
   "execution_count": 77,
   "outputs": [
    {
     "data": {
      "text/plain": "     MAE    MAPE   RMSE    R2\n0  27.84  0.3716  45.38  0.93",
      "text/html": "<div>\n<style scoped>\n    .dataframe tbody tr th:only-of-type {\n        vertical-align: middle;\n    }\n\n    .dataframe tbody tr th {\n        vertical-align: top;\n    }\n\n    .dataframe thead th {\n        text-align: right;\n    }\n</style>\n<table border=\"1\" class=\"dataframe\">\n  <thead>\n    <tr style=\"text-align: right;\">\n      <th></th>\n      <th>MAE</th>\n      <th>MAPE</th>\n      <th>RMSE</th>\n      <th>R2</th>\n    </tr>\n  </thead>\n  <tbody>\n    <tr>\n      <td>0</td>\n      <td>27.84</td>\n      <td>0.3716</td>\n      <td>45.38</td>\n      <td>0.93</td>\n    </tr>\n  </tbody>\n</table>\n</div>"
     },
     "metadata": {},
     "output_type": "execute_result",
     "execution_count": 77
    }
   ],
   "source": [
    "print_metrics(y_pred, y_test)"
   ],
   "metadata": {
    "collapsed": false,
    "pycharm": {
     "name": "#%%\n",
     "is_executing": false
    }
   }
  },
  {
   "cell_type": "markdown",
   "metadata": {},
   "source": [
    "## Creating SVM\n",
    "__Score history:__\n",
    "- Test set RMSE of rf: 143.46\n",
    "- Test set RMSE of rf: 140.58(remove workingday, temp(, mnth))"
   ]
  },
  {
   "cell_type": "markdown",
   "metadata": {
    "pycharm": {
     "name": "#%% md\n"
    }
   },
   "source": [
    "### SVM parameters\n",
    "- __c:__\n",
    "    - penalty parameeter (higher => overfitting)\n",
    "- __shrinking:__\n",
    "    - weather to use the shrinking heuristic\n",
    "- __kernel:__\n",
    "    - specifies the kernel type"
   ]
  },
  {
   "cell_type": "code",
   "execution_count": 78,
   "metadata": {
    "pycharm": {
     "is_executing": false,
     "name": "#%%\n"
    }
   },
   "outputs": [],
   "source": [
    "from sklearn.svm import SVR\n",
    "from sklearn.pipeline import make_pipeline\n",
    "from sklearn.preprocessing import RobustScaler"
   ]
  },
  {
   "cell_type": "code",
   "execution_count": 79,
   "metadata": {
    "pycharm": {
     "is_executing": false,
     "name": "#%%\n"
    }
   },
   "outputs": [],
   "source": [
    "scaler = RobustScaler()\n",
    "svr = SVR()"
   ]
  },
  {
   "cell_type": "code",
   "execution_count": 80,
   "metadata": {
    "pycharm": {
     "is_executing": false,
     "name": "#%%\n"
    }
   },
   "outputs": [
    {
     "data": {
      "text/plain": "{'C': 1.0,\n 'cache_size': 200,\n 'coef0': 0.0,\n 'degree': 3,\n 'epsilon': 0.1,\n 'gamma': 'auto_deprecated',\n 'kernel': 'rbf',\n 'max_iter': -1,\n 'shrinking': True,\n 'tol': 0.001,\n 'verbose': False}"
     },
     "metadata": {},
     "output_type": "execute_result",
     "execution_count": 80
    }
   ],
   "source": [
    "svr.get_params()"
   ]
  },
  {
   "cell_type": "code",
   "execution_count": 81,
   "metadata": {
    "pycharm": {
     "is_executing": false,
     "name": "#%%\n"
    }
   },
   "outputs": [],
   "source": [
    "pipe = make_pipeline(scaler, svr)"
   ]
  },
  {
   "cell_type": "code",
   "execution_count": 82,
   "metadata": {
    "pycharm": {
     "is_executing": false,
     "name": "#%%\n"
    }
   },
   "outputs": [],
   "source": [
    "params_svr = {'svr__C': [1.0, 1.1, 1.2, 1.3, 1.4],\n",
    " 'svr__kernel': ['rbf', 'linear', 'poly', 'rbf', 'sigmoid'],\n",
    " 'svr__shrinking': [True, False]}\n",
    "\n",
    "grid_svr = GridSearchCV(estimator=pipe,\n",
    "    param_grid=params_svr,\n",
    "    cv=3,\n",
    "    scoring='neg_mean_squared_error',\n",
    "    verbose=1,\n",
    "    n_jobs=-1)"
   ]
  },
  {
   "cell_type": "code",
   "execution_count": 83,
   "metadata": {
    "pycharm": {
     "is_executing": false,
     "name": "#%%\n"
    },
    "scrolled": true
   },
   "outputs": [
    {
     "name": "stdout",
     "text": [
      "Fitting 3 folds for each of 50 candidates, totalling 150 fits\n"
     ],
     "output_type": "stream"
    },
    {
     "name": "stderr",
     "text": [
      "[Parallel(n_jobs=-1)]: Using backend LokyBackend with 8 concurrent workers.\n",
      "[Parallel(n_jobs=-1)]: Done  34 tasks      | elapsed:   10.9s\n",
      "[Parallel(n_jobs=-1)]: Done 150 out of 150 | elapsed:   37.4s finished\n"
     ],
     "output_type": "stream"
    },
    {
     "data": {
      "text/plain": "GridSearchCV(cv=3, error_score='raise-deprecating',\n             estimator=Pipeline(memory=None,\n                                steps=[('robustscaler',\n                                        RobustScaler(copy=True,\n                                                     quantile_range=(25.0,\n                                                                     75.0),\n                                                     with_centering=True,\n                                                     with_scaling=True)),\n                                       ('svr',\n                                        SVR(C=1.0, cache_size=200, coef0=0.0,\n                                            degree=3, epsilon=0.1,\n                                            gamma='auto_deprecated',\n                                            kernel='rbf', max_iter=-1,\n                                            shrinking=True, tol=0.001,\n                                            verbose=False))],\n                                verbose=False),\n             iid='warn', n_jobs=-1,\n             param_grid={'svr__C': [1.0, 1.1, 1.2, 1.3, 1.4],\n                         'svr__kernel': ['rbf', 'linear', 'poly', 'rbf',\n                                         'sigmoid'],\n                         'svr__shrinking': [True, False]},\n             pre_dispatch='2*n_jobs', refit=True, return_train_score=False,\n             scoring='neg_mean_squared_error', verbose=1)"
     },
     "metadata": {},
     "output_type": "execute_result",
     "execution_count": 83
    }
   ],
   "source": [
    "grid_svr.fit(X_train, y_train)"
   ]
  },
  {
   "cell_type": "code",
   "execution_count": 84,
   "metadata": {
    "pycharm": {
     "is_executing": false,
     "name": "#%%\n"
    }
   },
   "outputs": [
    {
     "name": "stdout",
     "text": [
      "Test set RMSE of rf: 140.58\n"
     ],
     "output_type": "stream"
    }
   ],
   "source": [
    "y_pred_svr = grid_svr.predict(X_test)\n",
    "rmse_test_svr = MSE(y_test, y_pred_svr)**(1/2)\n",
    "print('Test set RMSE of rf: {:.2f}'.format(rmse_test_svr))\n"
   ]
  },
  {
   "cell_type": "code",
   "execution_count": 85,
   "outputs": [
    {
     "data": {
      "text/plain": "     MAE    MAPE    RMSE    R2\n0  96.78  2.3632  140.58  0.34",
      "text/html": "<div>\n<style scoped>\n    .dataframe tbody tr th:only-of-type {\n        vertical-align: middle;\n    }\n\n    .dataframe tbody tr th {\n        vertical-align: top;\n    }\n\n    .dataframe thead th {\n        text-align: right;\n    }\n</style>\n<table border=\"1\" class=\"dataframe\">\n  <thead>\n    <tr style=\"text-align: right;\">\n      <th></th>\n      <th>MAE</th>\n      <th>MAPE</th>\n      <th>RMSE</th>\n      <th>R2</th>\n    </tr>\n  </thead>\n  <tbody>\n    <tr>\n      <td>0</td>\n      <td>96.78</td>\n      <td>2.3632</td>\n      <td>140.58</td>\n      <td>0.34</td>\n    </tr>\n  </tbody>\n</table>\n</div>"
     },
     "metadata": {},
     "output_type": "execute_result",
     "execution_count": 85
    }
   ],
   "source": [
    "print_metrics(y_pred_svr, y_test)"
   ],
   "metadata": {
    "collapsed": false,
    "pycharm": {
     "name": "#%%\n",
     "is_executing": false
    }
   }
  },
  {
   "cell_type": "markdown",
   "metadata": {
    "pycharm": {
     "name": "#%% md\n"
    }
   },
   "source": [
    "## Creating a GradientBoostingRegressor\n",
    "__Score history:__\n",
    "- Test set RMSE of rf: 65.32\n",
    "- Test set RMSE of rf: 44.17 (parameter tuning)\n",
    "- Test set RMSE of rf: 40.93 (remove workingday, temp(, mnth))"
   ]
  },
  {
   "cell_type": "code",
   "execution_count": 86,
   "metadata": {
    "pycharm": {
     "is_executing": false,
     "name": "#%%\n"
    }
   },
   "outputs": [],
   "source": [
    "from sklearn.ensemble import GradientBoostingRegressor"
   ]
  },
  {
   "cell_type": "code",
   "execution_count": 87,
   "metadata": {
    "pycharm": {
     "is_executing": false,
     "name": "#%%\n"
    }
   },
   "outputs": [],
   "source": [
    "gbt = GradientBoostingRegressor(random_state=42)\n"
   ]
  },
  {
   "cell_type": "code",
   "execution_count": 88,
   "metadata": {
    "pycharm": {
     "is_executing": false,
     "name": "#%%\n"
    }
   },
   "outputs": [],
   "source": [
    "params_gbt = {\n",
    "'n_estimators': [400, 1000],\n",
    "'max_depth': [1, 2, 3, 4, 5, 6, 7],\n",
    "'max_features': ['log2'],\n",
    "'learning_rate': [0.05, 0.1, 0.15],\n",
    "'subsample': [0.8]\n",
    "    \n",
    "}\n",
    "# Instantiate 'grid_rf'\n",
    "grid_gbt = GridSearchCV(estimator=gbt,\n",
    "param_grid=params_gbt,\n",
    "cv=3,\n",
    "scoring='neg_mean_squared_error',\n",
    "verbose=1,\n",
    "n_jobs=-1)"
   ]
  },
  {
   "cell_type": "code",
   "execution_count": 89,
   "metadata": {
    "pycharm": {
     "is_executing": false,
     "name": "#%%\n"
    }
   },
   "outputs": [
    {
     "name": "stdout",
     "text": [
      "Fitting 3 folds for each of 42 candidates, totalling 126 fits\n"
     ],
     "output_type": "stream"
    },
    {
     "name": "stderr",
     "text": [
      "[Parallel(n_jobs=-1)]: Using backend LokyBackend with 8 concurrent workers.\n",
      "[Parallel(n_jobs=-1)]: Done  34 tasks      | elapsed:   14.4s\n",
      "[Parallel(n_jobs=-1)]: Done 126 out of 126 | elapsed:   51.6s finished\n"
     ],
     "output_type": "stream"
    },
    {
     "data": {
      "text/plain": "GridSearchCV(cv=3, error_score='raise-deprecating',\n             estimator=GradientBoostingRegressor(alpha=0.9,\n                                                 criterion='friedman_mse',\n                                                 init=None, learning_rate=0.1,\n                                                 loss='ls', max_depth=3,\n                                                 max_features=None,\n                                                 max_leaf_nodes=None,\n                                                 min_impurity_decrease=0.0,\n                                                 min_impurity_split=None,\n                                                 min_samples_leaf=1,\n                                                 min_samples_split=2,\n                                                 min_weight_fraction_leaf=0.0,\n                                                 n_estimators=100,\n                                                 n_iter...\n                                                 random_state=42, subsample=1.0,\n                                                 tol=0.0001,\n                                                 validation_fraction=0.1,\n                                                 verbose=0, warm_start=False),\n             iid='warn', n_jobs=-1,\n             param_grid={'learning_rate': [0.05, 0.1, 0.15],\n                         'max_depth': [1, 2, 3, 4, 5, 6, 7],\n                         'max_features': ['log2'], 'n_estimators': [400, 1000],\n                         'subsample': [0.8]},\n             pre_dispatch='2*n_jobs', refit=True, return_train_score=False,\n             scoring='neg_mean_squared_error', verbose=1)"
     },
     "metadata": {},
     "output_type": "execute_result",
     "execution_count": 89
    }
   ],
   "source": [
    "grid_gbt.fit(X_train, y_train)"
   ]
  },
  {
   "cell_type": "code",
   "execution_count": 90,
   "metadata": {
    "pycharm": {
     "is_executing": false,
     "name": "#%%\n"
    }
   },
   "outputs": [
    {
     "data": {
      "text/plain": "{'learning_rate': 0.05,\n 'max_depth': 6,\n 'max_features': 'log2',\n 'n_estimators': 1000,\n 'subsample': 0.8}"
     },
     "metadata": {},
     "output_type": "execute_result",
     "execution_count": 90
    }
   ],
   "source": [
    "grid_gbt.best_params_"
   ]
  },
  {
   "cell_type": "code",
   "execution_count": 93,
   "metadata": {
    "pycharm": {
     "is_executing": false,
     "name": "#%%\n"
    }
   },
   "outputs": [
    {
     "name": "stdout",
     "text": [
      "Test set RMSE of rf: 39.85\n"
     ],
     "output_type": "stream"
    }
   ],
   "source": [
    "best_model = grid_gbt.best_estimator_\n",
    "y_pred = best_model.predict(X_test)\n",
    "rmse_test = MSE(y_test, y_pred)**(1/2)\n",
    "print('Test set RMSE of rf: {:.2f}'.format(rmse_test))"
   ]
  },
  {
   "cell_type": "code",
   "execution_count": 94,
   "outputs": [
    {
     "data": {
      "text/plain": "    MAE    MAPE   RMSE    R2\n0  26.1  0.4919  39.85  0.95",
      "text/html": "<div>\n<style scoped>\n    .dataframe tbody tr th:only-of-type {\n        vertical-align: middle;\n    }\n\n    .dataframe tbody tr th {\n        vertical-align: top;\n    }\n\n    .dataframe thead th {\n        text-align: right;\n    }\n</style>\n<table border=\"1\" class=\"dataframe\">\n  <thead>\n    <tr style=\"text-align: right;\">\n      <th></th>\n      <th>MAE</th>\n      <th>MAPE</th>\n      <th>RMSE</th>\n      <th>R2</th>\n    </tr>\n  </thead>\n  <tbody>\n    <tr>\n      <td>0</td>\n      <td>26.1</td>\n      <td>0.4919</td>\n      <td>39.85</td>\n      <td>0.95</td>\n    </tr>\n  </tbody>\n</table>\n</div>"
     },
     "metadata": {},
     "output_type": "execute_result",
     "execution_count": 94
    }
   ],
   "source": [
    "print_metrics(y_pred, y_test)\n"
   ],
   "metadata": {
    "collapsed": false,
    "pycharm": {
     "name": "#%%\n",
     "is_executing": false
    }
   }
  }
 ],
 "metadata": {
  "kernelspec": {
   "display_name": "Python 3",
   "language": "python",
   "name": "python3"
  },
  "language_info": {
   "codemirror_mode": {
    "name": "ipython",
    "version": 3
   },
   "file_extension": ".py",
   "mimetype": "text/x-python",
   "name": "python",
   "nbconvert_exporter": "python",
   "pygments_lexer": "ipython3",
   "version": "3.7.4"
  },
  "pycharm": {
   "stem_cell": {
    "cell_type": "raw",
    "source": [],
    "metadata": {
     "collapsed": false
    }
   }
  }
 },
 "nbformat": 4,
 "nbformat_minor": 1
}