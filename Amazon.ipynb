{
 "cells": [
  {
   "cell_type": "markdown",
   "source": [
    "# Chose 3 different classification techniques"
   ],
   "metadata": {
    "collapsed": false
   }
  },
  {
   "cell_type": "markdown",
   "source": [
    "## Read data\n",
    "Only `learn` file relevant for training:\n",
    "`data/amazon/amazon_review_ID.shuf.lrn.csv`"
   ],
   "metadata": {
    "collapsed": false
   }
  },
  {
   "cell_type": "code",
   "execution_count": 3,
   "outputs": [],
   "source": [
    "import pandas as pd\n",
    "from sklearn.model_selection import train_test_split\n",
    "\n",
    "import matplotlib.pyplot as plt\n",
    "import seaborn as sns\n",
    "import numpy as np\n"
   ],
   "metadata": {
    "collapsed": false,
    "pycharm": {
     "name": "#%%\n",
     "is_executing": false
    }
   }
  },
  {
   "cell_type": "code",
   "execution_count": 4,
   "outputs": [],
   "source": [
    "amazon = pd.read_csv('data/amazon/amazon_review_ID.shuf.lrn.csv')"
   ],
   "metadata": {
    "collapsed": false,
    "pycharm": {
     "name": "#%%\n",
     "is_executing": false
    }
   }
  },
  {
   "cell_type": "markdown",
   "source": [
    "### Check data\n",
    "`info()` method shows if there are missing values\n",
    "it shows that there aren't any missing values (non-null for every feature)"
   ],
   "metadata": {
    "collapsed": false
   }
  },
  {
   "cell_type": "code",
   "execution_count": 5,
   "outputs": [
    {
     "name": "stdout",
     "text": [
      "<class 'pandas.core.frame.DataFrame'>\nRangeIndex: 750 entries, 0 to 749\nColumns: 10002 entries, ID to Class\ndtypes: int64(10001), object(1)\nmemory usage: 57.2+ MB\n"
     ],
     "output_type": "stream"
    }
   ],
   "source": [
    "amazon.info()"
   ],
   "metadata": {
    "collapsed": false,
    "pycharm": {
     "name": "#%%\n",
     "is_executing": false
    }
   }
  },
  {
   "cell_type": "code",
   "execution_count": 6,
   "outputs": [
    {
     "name": "stdout",
     "text": [
      "['Chell' 'Engineer' 'Grove' 'Davisson' 'Wilson' 'Brody' 'Lovitt' 'Vision'\n 'Morrison' 'Nigam' 'Johnson' 'Koenig' 'Mitchell' 'Ashbacher' 'McKee'\n 'Robert' 'Calvinnme' 'Goonan' 'Peterson' 'Vernon' 'Merritt' 'Riley'\n 'Walters' 'Agresti' 'Lee' 'Kolln' 'Lawyeraau' 'Shea' 'Power' 'Chachra'\n 'Harp' 'Chandler' 'Auken' 'Neal' 'Mark' 'Cholette' 'Blankenship' 'Janson'\n 'Hayes' 'Taylor' 'Sherwin' 'Bukowsky' 'Corn' 'Dent' 'Messick'\n 'Mahlers2nd' 'CFH' 'Cutey' 'Comdet' 'Brown']\n"
     ],
     "output_type": "stream"
    }
   ],
   "source": [
    "print(amazon['Class'].unique())"
   ],
   "metadata": {
    "collapsed": false,
    "pycharm": {
     "name": "#%%\n",
     "is_executing": false
    }
   }
  },
  {
   "cell_type": "markdown",
   "source": [
    "### Having a look at the Class column\n",
    "Seems to be not too unbalanced so try out only using a labelEncoder\n",
    "\n"
   ],
   "metadata": {
    "collapsed": false,
    "pycharm": {
     "name": "#%% md\n"
    }
   }
  },
  {
   "cell_type": "code",
   "execution_count": 7,
   "outputs": [
    {
     "data": {
      "text/plain": "(array([77., 74., 70., 76., 81., 78., 78., 80., 69., 67.]),\n array([ 0. ,  4.9,  9.8, 14.7, 19.6, 24.5, 29.4, 34.3, 39.2, 44.1, 49. ]),\n <a list of 10 Patch objects>)"
     },
     "metadata": {},
     "output_type": "execute_result",
     "execution_count": 7
    },
    {
     "data": {
      "text/plain": "<Figure size 432x288 with 1 Axes>",
      "image/png": "[encoded data removed]"
     },
     "metadata": {
      "needs_background": "light"
     },
     "output_type": "display_data"
    }
   ],
   "source": [
    "plt.hist(amazon['Class'])"
   ],
   "metadata": {
    "collapsed": false,
    "pycharm": {
     "name": "#%%\n",
     "is_executing": false
    }
   }
  },
  {
   "cell_type": "code",
   "execution_count": 9,
   "outputs": [],
   "source": [
    "from sklearn.preprocessing import LabelEncoder"
   ],
   "metadata": {
    "collapsed": false,
    "pycharm": {
     "name": "#%%\n",
     "is_executing": false
    }
   }
  },
  {
   "cell_type": "code",
   "execution_count": 10,
   "outputs": [],
   "source": [
    "encoder = LabelEncoder()\n",
    "encoder.fit(amazon['Class'])\n",
    "\n",
    "amazon['Class'] = encoder.transform(amazon['Class'])"
   ],
   "metadata": {
    "collapsed": false,
    "pycharm": {
     "name": "#%%\n",
     "is_executing": false
    }
   }
  },
  {
   "cell_type": "markdown",
   "source": [
    "## Creating train and test data \n",
    "Using a stratified approach to ensure all the classes are in the training data."
   ],
   "metadata": {
    "collapsed": false
   }
  },
  {
   "cell_type": "code",
   "execution_count": 11,
   "outputs": [],
   "source": [
    "X = amazon.drop('Class', axis = 1).values\n",
    "y = amazon['Class'].values\n"
   ],
   "metadata": {
    "collapsed": false,
    "pycharm": {
     "name": "#%%\n",
     "is_executing": false
    }
   }
  },
  {
   "cell_type": "code",
   "execution_count": 12,
   "outputs": [],
   "source": [
    "X_train, X_test, y_train, y_test = train_test_split(X, y, test_size = 0.3, random_state = 42, stratify=y)\n"
   ],
   "metadata": {
    "collapsed": false,
    "pycharm": {
     "name": "#%%\n",
     "is_executing": false
    }
   }
  },
  {
   "cell_type": "markdown",
   "source": [
    "## Starting with a simple model to:\n",
    "+ get a sense of how challenging the problem is\n",
    "+ many more things might go wrong with complex models\n",
    "+ how much signal can we pull out using basic models"
   ],
   "metadata": {
    "collapsed": false
   }
  },
  {
   "cell_type": "markdown",
   "source": [
    "## Logistic Regression\n",
    "__Score history:__  \n",
    "\n",
    "|description | accuracy | marco avg | weighted avg |\n",
    "|------------| -------- | --------- | ------------ |\n",
    "| first try | 0.55 | 0.56, 0.54, 0.53 | 0.57, 0.55, 0.54 |\n",
    "| with robustScaler | 0.64 | 0.70, 0.63, 0.63 | 0.68, 0.64, 0.62 |\n",
    "| - | - | - | - |\n"
   ],
   "metadata": {
    "collapsed": false
   }
  },
  {
   "cell_type": "markdown",
   "source": [
    "### Logistic Regression parameters\n",
    "TODO"
   ],
   "metadata": {
    "collapsed": false
   }
  },
  {
   "cell_type": "code",
   "execution_count": 15,
   "outputs": [],
   "source": [
    "from sklearn.linear_model.logistic import LogisticRegression\n",
    "from sklearn.model_selection import GridSearchCV\n",
    "from sklearn.pipeline import Pipeline\n",
    "from sklearn.preprocessing import RobustScaler\n",
    "from sklearn.metrics import classification_report, confusion_matrix  "
   ],
   "metadata": {
    "collapsed": false,
    "pycharm": {
     "name": "#%%\n",
     "is_executing": false
    }
   }
  },
  {
   "cell_type": "code",
   "execution_count": 16,
   "outputs": [],
   "source": [
    "pipe_logreg = Pipeline([\n",
    "    ('scaler', RobustScaler()),\n",
    "    ('logreg', LogisticRegression())\n",
    "])"
   ],
   "metadata": {
    "collapsed": false,
    "pycharm": {
     "name": "#%%\n",
     "is_executing": false
    }
   }
  },
  {
   "cell_type": "code",
   "execution_count": 26,
   "outputs": [],
   "source": [
    "# create parameter list for ridge regression\n",
    "params_logreg = {\n",
    "    'logreg__C':[0.5, 0.6, 0.7, 1.1],\n",
    "    'logreg__class_weight': ['balanced']\n",
    "}"
   ],
   "metadata": {
    "collapsed": false,
    "pycharm": {
     "name": "#%%\n",
     "is_executing": false
    }
   }
  },
  {
   "cell_type": "code",
   "execution_count": 34,
   "outputs": [],
   "source": [
    "# setup cross validation parameter grid search\n",
    "grid_logreg = GridSearchCV(estimator=pipe_logreg,\n",
    "    param_grid=params_logreg,\n",
    "    cv=3,\n",
    "    scoring='f1_weighted',\n",
    "    verbose=2,\n",
    "    n_jobs=-1)"
   ],
   "metadata": {
    "collapsed": false,
    "pycharm": {
     "name": "#%%\n",
     "is_executing": false
    }
   }
  },
  {
   "cell_type": "code",
   "execution_count": 35,
   "outputs": [
    {
     "name": "stdout",
     "text": [
      "Fitting 3 folds for each of 4 candidates, totalling 12 fits\n"
     ],
     "output_type": "stream"
    },
    {
     "name": "stderr",
     "text": [
      "[Parallel(n_jobs=-1)]: Using backend LokyBackend with 8 concurrent workers.\n",
      "[Parallel(n_jobs=-1)]: Done   4 out of  12 | elapsed:   20.7s remaining:   41.5s\n",
      "[Parallel(n_jobs=-1)]: Done  12 out of  12 | elapsed:   32.5s finished\nC:\\Users\\rapha\\Anaconda3\\envs\\3_classification\\lib\\site-packages\\sklearn\\model_selection\\_search.py:814: DeprecationWarning: The default of the `iid` parameter will change from True to False in version 0.22 and will be removed in 0.24. This will change numeric results when test-set sizes are unequal.\n  DeprecationWarning)\n",
      "C:\\Users\\rapha\\Anaconda3\\envs\\3_classification\\lib\\site-packages\\sklearn\\linear_model\\logistic.py:432: FutureWarning: Default solver will be changed to 'lbfgs' in 0.22. Specify a solver to silence this warning.\n  FutureWarning)\nC:\\Users\\rapha\\Anaconda3\\envs\\3_classification\\lib\\site-packages\\sklearn\\linear_model\\logistic.py:469: FutureWarning: Default multi_class will be changed to 'auto' in 0.22. Specify the multi_class option to silence this warning.\n  \"this warning.\", FutureWarning)\n"
     ],
     "output_type": "stream"
    },
    {
     "data": {
      "text/plain": "GridSearchCV(cv=3, error_score='raise-deprecating',\n             estimator=Pipeline(memory=None,\n                                steps=[('scaler',\n                                        RobustScaler(copy=True,\n                                                     quantile_range=(25.0,\n                                                                     75.0),\n                                                     with_centering=True,\n                                                     with_scaling=True)),\n                                       ('logreg',\n                                        LogisticRegression(C=1.0,\n                                                           class_weight=None,\n                                                           dual=False,\n                                                           fit_intercept=True,\n                                                           intercept_scaling=1,\n                                                           l1_ratio=None,\n                                                           max_iter=100,\n                                                           multi_class='warn',\n                                                           n_jobs=None,\n                                                           penalty='l2',\n                                                           random_state=None,\n                                                           solver='warn',\n                                                           tol=0.0001,\n                                                           verbose=0,\n                                                           warm_start=False))],\n                                verbose=False),\n             iid='warn', n_jobs=-1,\n             param_grid={'logreg__C': [0.5, 0.6, 0.7, 1.1],\n                         'logreg__class_weight': ['balanced']},\n             pre_dispatch='2*n_jobs', refit=True, return_train_score=False,\n             scoring='f1_weighted', verbose=2)"
     },
     "metadata": {},
     "output_type": "execute_result",
     "execution_count": 35
    }
   ],
   "source": [
    "# fitting model on training data\n",
    "grid_logreg.fit(X_train, y_train)"
   ],
   "metadata": {
    "collapsed": false,
    "pycharm": {
     "name": "#%%\n",
     "is_executing": false
    }
   }
  },
  {
   "cell_type": "code",
   "execution_count": 36,
   "outputs": [
    {
     "data": {
      "text/plain": "{'logreg__C': 0.7, 'logreg__class_weight': 'balanced'}"
     },
     "metadata": {},
     "output_type": "execute_result",
     "execution_count": 36
    }
   ],
   "source": [
    "# extracting best parameters (can be used for finer hyper parameter tuning)\n",
    "grid_logreg.best_params_"
   ],
   "metadata": {
    "collapsed": false,
    "pycharm": {
     "name": "#%%\n",
     "is_executing": false
    }
   }
  },
  {
   "cell_type": "code",
   "execution_count": 37,
   "outputs": [
    {
     "data": {
      "text/plain": "0.6241966519510379"
     },
     "metadata": {},
     "output_type": "execute_result",
     "execution_count": 37
    }
   ],
   "source": [
    "grid_logreg.score(X_test, y_test) \n"
   ],
   "metadata": {
    "collapsed": false,
    "pycharm": {
     "name": "#%%\n",
     "is_executing": false
    }
   }
  },
  {
   "cell_type": "code",
   "execution_count": 38,
   "outputs": [],
   "source": [
    "y_pred = grid_logreg.predict(X_test)"
   ],
   "metadata": {
    "collapsed": false,
    "pycharm": {
     "name": "#%%\n",
     "is_executing": false
    }
   }
  },
  {
   "cell_type": "code",
   "execution_count": 39,
   "outputs": [
    {
     "name": "stdout",
     "text": [
      "              precision    recall  f1-score   support\n\n           0       0.33      0.40      0.36         5\n           1       0.50      0.60      0.55         5\n           2       0.50      0.80      0.62         5\n           3       1.00      0.50      0.67         4\n           4       1.00      0.67      0.80         3\n           5       1.00      0.67      0.80         3\n           6       0.60      0.75      0.67         4\n           7       1.00      0.50      0.67         2\n           8       1.00      0.20      0.33         5\n           9       0.67      1.00      0.80         6\n          10       0.80      1.00      0.89         4\n          11       0.46      1.00      0.63         6\n          12       1.00      0.40      0.57         5\n          13       0.33      0.20      0.25         5\n          14       1.00      0.75      0.86         4\n          15       1.00      1.00      1.00         5\n          16       0.50      0.60      0.55         5\n          17       1.00      0.50      0.67         4\n          18       0.75      0.75      0.75         4\n          19       0.67      1.00      0.80         4\n          20       1.00      0.80      0.89         5\n          21       1.00      0.20      0.33         5\n          22       0.50      0.67      0.57         6\n          23       0.75      0.60      0.67         5\n          24       1.00      0.67      0.80         3\n          25       0.50      0.50      0.50         4\n          26       0.60      0.60      0.60         5\n          27       0.50      0.50      0.50         4\n          28       0.33      0.40      0.36         5\n          29       0.60      0.50      0.55         6\n          30       0.56      1.00      0.71         5\n          31       0.40      0.40      0.40         5\n          32       0.57      0.80      0.67         5\n          33       0.83      1.00      0.91         5\n          34       0.67      0.50      0.57         4\n          35       1.00      0.75      0.86         4\n          36       0.71      1.00      0.83         5\n          37       1.00      0.80      0.89         5\n          38       0.67      0.40      0.50         5\n          39       0.67      0.80      0.73         5\n          40       1.00      0.50      0.67         4\n          41       0.40      0.40      0.40         5\n          42       0.67      0.80      0.73         5\n          43       0.50      0.20      0.29         5\n          44       0.67      1.00      0.80         4\n          45       0.67      0.50      0.57         4\n          46       0.40      0.50      0.44         4\n          47       0.00      0.00      0.00         3\n          48       1.00      0.75      0.86         4\n          49       0.50      0.67      0.57         3\n\n    accuracy                           0.64       225\n   macro avg       0.70      0.63      0.63       225\nweighted avg       0.68      0.64      0.62       225\n\n"
     ],
     "output_type": "stream"
    }
   ],
   "source": [
    "print(classification_report(y_test, y_pred)) "
   ],
   "metadata": {
    "collapsed": false,
    "pycharm": {
     "name": "#%%\n",
     "is_executing": false
    }
   }
  },
  {
   "cell_type": "code",
   "execution_count": 33,
   "outputs": [
    {
     "name": "stdout",
     "text": [
      "[[2 0 0 ... 0 0 0]\n [0 3 0 ... 0 0 0]\n [0 0 4 ... 0 0 0]\n ...\n [0 0 0 ... 0 0 0]\n [0 0 0 ... 0 3 0]\n [0 0 0 ... 0 0 2]]\n"
     ],
     "output_type": "stream"
    }
   ],
   "source": [
    "print(confusion_matrix(y_test, y_pred))\n",
    "cm = confusion_matrix(y_test, y_pred)"
   ],
   "metadata": {
    "collapsed": false,
    "pycharm": {
     "name": "#%%\n",
     "is_executing": false
    }
   }
  },
  {
   "cell_type": "markdown",
   "source": [
    "## KNN-Classifier\n",
    "__Score history:__\n",
    "\n"
   ],
   "metadata": {
    "collapsed": false
   }
  },
  {
   "cell_type": "markdown",
   "source": [
    "### KNN Parameters:"
   ],
   "metadata": {
    "collapsed": false
   }
  },
  {
   "cell_type": "code",
   "execution_count": 41,
   "outputs": [],
   "source": [
    "from sklearn.neighbors import KNeighborsClassifier  \n",
    "from sklearn.preprocessing import MinMaxScaler\n"
   ],
   "metadata": {
    "collapsed": false,
    "pycharm": {
     "name": "#%%\n",
     "is_executing": false
    }
   }
  },
  {
   "cell_type": "code",
   "execution_count": 42,
   "outputs": [],
   "source": [
    "pipe_knn = Pipeline([\n",
    "    ('scaler', MinMaxScaler()),\n",
    "    ('knn', KNeighborsClassifier())\n",
    "])"
   ],
   "metadata": {
    "collapsed": false,
    "pycharm": {
     "name": "#%%\n",
     "is_executing": false
    }
   }
  },
  {
   "cell_type": "code",
   "execution_count": 43,
   "outputs": [],
   "source": [
    "params_knn = {\n",
    "    'knn__n_neighbors': [3, 5, 7, 9] \n",
    "}\n"
   ],
   "metadata": {
    "collapsed": false,
    "pycharm": {
     "name": "#%%\n",
     "is_executing": false
    }
   }
  },
  {
   "cell_type": "code",
   "execution_count": 44,
   "outputs": [],
   "source": [
    "grid_knn = GridSearchCV(estimator=pipe_knn,\n",
    "    param_grid=params_knn,\n",
    "    cv=3,\n",
    "    scoring='f1_weighted',\n",
    "    verbose=2,\n",
    "    n_jobs=-1)"
   ],
   "metadata": {
    "collapsed": false,
    "pycharm": {
     "name": "#%%\n",
     "is_executing": false
    }
   }
  },
  {
   "cell_type": "code",
   "execution_count": 45,
   "outputs": [
    {
     "name": "stdout",
     "text": [
      "Fitting 3 folds for each of 4 candidates, totalling 12 fits\n"
     ],
     "output_type": "stream"
    },
    {
     "name": "stderr",
     "text": [
      "[Parallel(n_jobs=-1)]: Using backend LokyBackend with 8 concurrent workers.\n",
      "[Parallel(n_jobs=-1)]: Done   4 out of  12 | elapsed:    6.0s remaining:   12.1s\n",
      "[Parallel(n_jobs=-1)]: Done  12 out of  12 | elapsed:    8.7s finished\nC:\\Users\\rapha\\Anaconda3\\envs\\3_classification\\lib\\site-packages\\sklearn\\model_selection\\_search.py:814: DeprecationWarning: The default of the `iid` parameter will change from True to False in version 0.22 and will be removed in 0.24. This will change numeric results when test-set sizes are unequal.\n  DeprecationWarning)\n"
     ],
     "output_type": "stream"
    },
    {
     "data": {
      "text/plain": "GridSearchCV(cv=3, error_score='raise-deprecating',\n             estimator=Pipeline(memory=None,\n                                steps=[('scaler',\n                                        MinMaxScaler(copy=True,\n                                                     feature_range=(0, 1))),\n                                       ('knn',\n                                        KNeighborsClassifier(algorithm='auto',\n                                                             leaf_size=30,\n                                                             metric='minkowski',\n                                                             metric_params=None,\n                                                             n_jobs=None,\n                                                             n_neighbors=5, p=2,\n                                                             weights='uniform'))],\n                                verbose=False),\n             iid='warn', n_jobs=-1,\n             param_grid={'knn__n_neighbors': [3, 5, 7, 9]},\n             pre_dispatch='2*n_jobs', refit=True, return_train_score=False,\n             scoring='f1_weighted', verbose=2)"
     },
     "metadata": {},
     "output_type": "execute_result",
     "execution_count": 45
    }
   ],
   "source": [
    "grid_knn.fit(X_train, y_train)"
   ],
   "metadata": {
    "collapsed": false,
    "pycharm": {
     "name": "#%%\n",
     "is_executing": false
    }
   }
  },
  {
   "cell_type": "code",
   "execution_count": 46,
   "outputs": [
    {
     "data": {
      "text/plain": "{'knn__n_neighbors': 5}"
     },
     "metadata": {},
     "output_type": "execute_result",
     "execution_count": 46
    }
   ],
   "source": [
    "grid_knn.best_params_"
   ],
   "metadata": {
    "collapsed": false,
    "pycharm": {
     "name": "#%%\n",
     "is_executing": false
    }
   }
  },
  {
   "cell_type": "code",
   "execution_count": 47,
   "outputs": [
    {
     "name": "stderr",
     "text": [
      "C:\\Users\\rapha\\Anaconda3\\envs\\3_classification\\lib\\site-packages\\sklearn\\metrics\\classification.py:1437: UndefinedMetricWarning: F-score is ill-defined and being set to 0.0 in labels with no predicted samples.\n  'precision', 'predicted', average, warn_for)\n"
     ],
     "output_type": "stream"
    },
    {
     "data": {
      "text/plain": "0.036510841373586476"
     },
     "metadata": {},
     "output_type": "execute_result",
     "execution_count": 47
    }
   ],
   "source": [
    "grid_knn.score(X_test, y_test) "
   ],
   "metadata": {
    "collapsed": false,
    "pycharm": {
     "name": "#%%\n",
     "is_executing": false
    }
   }
  },
  {
   "cell_type": "code",
   "execution_count": 48,
   "outputs": [],
   "source": [
    "y_pred_knn = grid_knn.predict(X_test)"
   ],
   "metadata": {
    "collapsed": false,
    "pycharm": {
     "name": "#%%\n",
     "is_executing": false
    }
   }
  },
  {
   "cell_type": "code",
   "execution_count": 49,
   "outputs": [
    {
     "name": "stdout",
     "text": [
      "              precision    recall  f1-score   support\n\n           0       0.00      0.00      0.00         5\n           1       0.25      0.20      0.22         5\n           2       0.07      0.60      0.12         5\n           3       0.00      0.00      0.00         4\n           4       0.00      0.00      0.00         3\n           5       0.00      0.00      0.00         3\n           6       0.00      0.00      0.00         4\n           7       0.00      0.00      0.00         2\n           8       0.00      0.00      0.00         5\n           9       0.04      1.00      0.07         6\n          10       0.00      0.00      0.00         4\n          11       1.00      0.17      0.29         6\n          12       0.00      0.00      0.00         5\n          13       0.00      0.00      0.00         5\n          14       0.00      0.00      0.00         4\n          15       0.00      0.00      0.00         5\n          16       0.00      0.00      0.00         5\n          17       0.00      0.00      0.00         4\n          18       0.00      0.00      0.00         4\n          19       0.00      0.00      0.00         4\n          20       0.00      0.00      0.00         5\n          21       0.00      0.00      0.00         5\n          22       0.00      0.00      0.00         6\n          23       0.00      0.00      0.00         5\n          24       0.00      0.00      0.00         3\n          25       0.00      0.00      0.00         4\n          26       0.00      0.00      0.00         5\n          27       0.00      0.00      0.00         4\n          28       0.00      0.00      0.00         5\n          29       0.00      0.00      0.00         6\n          30       0.00      0.00      0.00         5\n          31       0.00      0.00      0.00         5\n          32       0.25      0.20      0.22         5\n          33       0.00      0.00      0.00         5\n          34       0.00      0.00      0.00         4\n          35       0.00      0.00      0.00         4\n          36       0.00      0.00      0.00         5\n          37       0.00      0.00      0.00         5\n          38       0.00      0.00      0.00         5\n          39       1.00      0.20      0.33         5\n          40       0.00      0.00      0.00         4\n          41       0.00      0.00      0.00         5\n          42       0.00      0.00      0.00         5\n          43       0.00      0.00      0.00         5\n          44       1.00      0.25      0.40         4\n          45       0.00      0.00      0.00         4\n          46       0.00      0.00      0.00         4\n          47       0.00      0.00      0.00         3\n          48       0.00      0.00      0.00         4\n          49       0.00      0.00      0.00         3\n\n    accuracy                           0.06       225\n   macro avg       0.07      0.05      0.03       225\nweighted avg       0.08      0.06      0.04       225\n\n"
     ],
     "output_type": "stream"
    },
    {
     "name": "stderr",
     "text": [
      "C:\\Users\\rapha\\Anaconda3\\envs\\3_classification\\lib\\site-packages\\sklearn\\metrics\\classification.py:1437: UndefinedMetricWarning: Precision and F-score are ill-defined and being set to 0.0 in labels with no predicted samples.\n  'precision', 'predicted', average, warn_for)\n"
     ],
     "output_type": "stream"
    }
   ],
   "source": [
    "print(classification_report(y_test, y_pred_knn)) "
   ],
   "metadata": {
    "collapsed": false,
    "pycharm": {
     "name": "#%%\n",
     "is_executing": false
    }
   }
  },
  {
   "cell_type": "code",
   "execution_count": null,
   "outputs": [],
   "source": [
    "print(confusion_matrix(y_test, y_pred_knn))\n",
    "cm = confusion_matrix(y_test, y_pred_knn)\n"
   ],
   "metadata": {
    "collapsed": false,
    "pycharm": {
     "name": "#%%\n"
    }
   }
  },
  {
   "cell_type": "markdown",
   "source": [
    "## Random Forest\n",
    "__Score history:__"
   ],
   "metadata": {
    "collapsed": false
   }
  },
  {
   "cell_type": "markdown",
   "source": [
    "### Random Forest parameters\n",
    "- __n_estimators:__\n",
    "    - number of trees in the forest\n",
    "- __max_depth:__\n",
    "    - maximum depth of the tree\n",
    "- __min_samples_split:__\n",
    "    - the min. number of samples required to split an internal node\n",
    "- __min_samples_leaf:__\n",
    "    - the minimum number of samples required to be at a leaf node\n",
    "- __min_weight_fraction_leaf:__\n",
    "    - the minimum weighted fraction of the sum total of weights\n",
    "- __max_features:__\n",
    "    - the number of features to consider when looking for the best split\n",
    "- __min_impurity_decrease:__\n",
    "    - A node will be split if this split induces a decrease of the impurity greater than or equal to this value."
   ],
   "metadata": {
    "collapsed": false
   }
  },
  {
   "cell_type": "code",
   "execution_count": 50,
   "outputs": [],
   "source": [
    "from sklearn.ensemble import RandomForestClassifier"
   ],
   "metadata": {
    "collapsed": false,
    "pycharm": {
     "name": "#%%\n",
     "is_executing": false
    }
   }
  },
  {
   "cell_type": "code",
   "execution_count": 53,
   "outputs": [],
   "source": [
    "pipe_rf = Pipeline([\n",
    "    ('rf', RandomForestClassifier())\n",
    "])"
   ],
   "metadata": {
    "collapsed": false,
    "pycharm": {
     "name": "#%%\n",
     "is_executing": false
    }
   }
  },
  {
   "cell_type": "code",
   "execution_count": 56,
   "outputs": [],
   "source": [
    "params_rf = {\n",
    "    'rf__n_estimators': [100, 200],\n",
    "    'rf__max_depth': [None, 5, 10, 20, 21, 22],\n",
    "    'rf__min_samples_split': [2, 3, 4]\n",
    "}\n"
   ],
   "metadata": {
    "collapsed": false,
    "pycharm": {
     "name": "#%%\n",
     "is_executing": false
    }
   }
  },
  {
   "cell_type": "code",
   "execution_count": 57,
   "outputs": [],
   "source": [
    "grid_rf = GridSearchCV(estimator=pipe_rf,\n",
    "    param_grid=params_rf,\n",
    "    cv=3,\n",
    "    scoring='f1_weighted',\n",
    "    verbose=2,\n",
    "    n_jobs=-1)\n"
   ],
   "metadata": {
    "collapsed": false,
    "pycharm": {
     "name": "#%%\n",
     "is_executing": false
    }
   }
  },
  {
   "cell_type": "code",
   "execution_count": 58,
   "outputs": [
    {
     "name": "stdout",
     "text": [
      "Fitting 3 folds for each of 36 candidates, totalling 108 fits\n"
     ],
     "output_type": "stream"
    },
    {
     "name": "stderr",
     "text": [
      "[Parallel(n_jobs=-1)]: Using backend LokyBackend with 8 concurrent workers.\n",
      "[Parallel(n_jobs=-1)]: Done  25 tasks      | elapsed:   17.5s\n",
      "[Parallel(n_jobs=-1)]: Done 108 out of 108 | elapsed:   57.0s finished\nC:\\Users\\rapha\\Anaconda3\\envs\\3_classification\\lib\\site-packages\\sklearn\\model_selection\\_search.py:814: DeprecationWarning: The default of the `iid` parameter will change from True to False in version 0.22 and will be removed in 0.24. This will change numeric results when test-set sizes are unequal.\n  DeprecationWarning)\n"
     ],
     "output_type": "stream"
    },
    {
     "data": {
      "text/plain": "GridSearchCV(cv=3, error_score='raise-deprecating',\n             estimator=Pipeline(memory=None,\n                                steps=[('rf',\n                                        RandomForestClassifier(bootstrap=True,\n                                                               class_weight=None,\n                                                               criterion='gini',\n                                                               max_depth=None,\n                                                               max_features='auto',\n                                                               max_leaf_nodes=None,\n                                                               min_impurity_decrease=0.0,\n                                                               min_impurity_split=None,\n                                                               min_samples_leaf=1,\n                                                               min_samples_split=2,\n                                                               min_weight_fraction_leaf=0.0,\n                                                               n_estimators='warn',\n                                                               n_jobs=None,\n                                                               oob_score=False,\n                                                               random_state=None,\n                                                               verbose=0,\n                                                               warm_start=False))],\n                                verbose=False),\n             iid='warn', n_jobs=-1,\n             param_grid={'rf__max_depth': [None, 5, 10, 20, 21, 22],\n                         'rf__min_samples_split': [2, 3, 4],\n                         'rf__n_estimators': [100, 200]},\n             pre_dispatch='2*n_jobs', refit=True, return_train_score=False,\n             scoring='f1_weighted', verbose=2)"
     },
     "metadata": {},
     "output_type": "execute_result",
     "execution_count": 58
    }
   ],
   "source": [
    "grid_rf.fit(X_train, y_train)\n"
   ],
   "metadata": {
    "collapsed": false,
    "pycharm": {
     "name": "#%%\n",
     "is_executing": false
    }
   }
  },
  {
   "cell_type": "code",
   "execution_count": 59,
   "outputs": [
    {
     "data": {
      "text/plain": "{'rf__max_depth': 20, 'rf__min_samples_split': 3, 'rf__n_estimators': 200}"
     },
     "metadata": {},
     "output_type": "execute_result",
     "execution_count": 59
    }
   ],
   "source": [
    "grid_rf.best_params_"
   ],
   "metadata": {
    "collapsed": false,
    "pycharm": {
     "name": "#%%\n",
     "is_executing": false
    }
   }
  },
  {
   "cell_type": "code",
   "execution_count": 61,
   "outputs": [
    {
     "name": "stderr",
     "text": [
      "C:\\Users\\rapha\\Anaconda3\\envs\\3_classification\\lib\\site-packages\\sklearn\\metrics\\classification.py:1437: UndefinedMetricWarning: F-score is ill-defined and being set to 0.0 in labels with no predicted samples.\n  'precision', 'predicted', average, warn_for)\n"
     ],
     "output_type": "stream"
    },
    {
     "data": {
      "text/plain": "0.5710308649421136"
     },
     "metadata": {},
     "output_type": "execute_result",
     "execution_count": 61
    }
   ],
   "source": [
    "grid_rf.score(X_test, y_test)"
   ],
   "metadata": {
    "collapsed": false,
    "pycharm": {
     "name": "#%%\n",
     "is_executing": false
    }
   }
  },
  {
   "cell_type": "code",
   "execution_count": 62,
   "outputs": [],
   "source": [
    "y_pred_rf = grid_rf.predict(X_test)"
   ],
   "metadata": {
    "collapsed": false,
    "pycharm": {
     "name": "#%%\n",
     "is_executing": false
    }
   }
  },
  {
   "cell_type": "code",
   "execution_count": null,
   "outputs": [],
   "source": [
    "print(classification_report(y_test, y_pred_rf)) "
   ],
   "metadata": {
    "collapsed": false,
    "pycharm": {
     "name": "#%%\n"
    }
   }
  },
  {
   "cell_type": "code",
   "execution_count": null,
   "outputs": [],
   "source": [
    "print(confusion_matrix(y_test, y_pred_rf))\n",
    "cm = confusion_matrix(y_test, y_pred_rf)"
   ],
   "metadata": {
    "collapsed": false,
    "pycharm": {
     "name": "#%%\n"
    }
   }
  },
  {
   "cell_type": "markdown",
   "source": [
    "## Creating a GradientBoostingClassifier\n",
    "__Score history:__"
   ],
   "metadata": {
    "collapsed": false
   }
  },
  {
   "cell_type": "code",
   "execution_count": 71,
   "outputs": [],
   "source": [
    "from sklearn.ensemble import GradientBoostingClassifier\n"
   ],
   "metadata": {
    "collapsed": false,
    "pycharm": {
     "name": "#%%\n",
     "is_executing": false
    }
   }
  },
  {
   "cell_type": "code",
   "execution_count": 72,
   "outputs": [],
   "source": [
    "pipe_gbc = Pipeline([\n",
    "    ('gbc', GradientBoostingClassifier())\n",
    "])"
   ],
   "metadata": {
    "collapsed": false,
    "pycharm": {
     "name": "#%%\n",
     "is_executing": false
    }
   }
  },
  {
   "cell_type": "code",
   "execution_count": 73,
   "outputs": [],
   "source": [
    "params_gbc = {\n",
    "    'gbc__n_estimators': [200],\n",
    "    'gbc__max_depth': [4, 5, 6, 7],\n",
    "    'gbc__max_features': ['log2'],\n",
    "    'gbc__learning_rate': [0.05, 0.1, 0.15, 0.3],\n",
    "    'gbc__subsample': [0.8]\n",
    "}"
   ],
   "metadata": {
    "collapsed": false,
    "pycharm": {
     "name": "#%%\n",
     "is_executing": false
    }
   }
  },
  {
   "cell_type": "code",
   "execution_count": 74,
   "outputs": [],
   "source": [
    "grid_gbc = GridSearchCV(estimator=pipe_gbc,\n",
    "    param_grid=params_gbc,\n",
    "    cv=3,\n",
    "    scoring='f1_weighted',\n",
    "    verbose=2,\n",
    "    n_jobs=-1\n",
    ")\n"
   ],
   "metadata": {
    "collapsed": false,
    "pycharm": {
     "name": "#%%\n",
     "is_executing": false
    }
   }
  },
  {
   "cell_type": "code",
   "execution_count": 75,
   "outputs": [
    {
     "name": "stdout",
     "text": [
      "Fitting 3 folds for each of 32 candidates, totalling 96 fits\n"
     ],
     "output_type": "stream"
    },
    {
     "name": "stderr",
     "text": [
      "[Parallel(n_jobs=-1)]: Using backend LokyBackend with 8 concurrent workers.\n",
      "[Parallel(n_jobs=-1)]: Done  25 tasks      | elapsed:  1.6min\n",
      "[Parallel(n_jobs=-1)]: Done  96 out of  96 | elapsed:  5.2min finished\nC:\\Users\\rapha\\Anaconda3\\envs\\3_classification\\lib\\site-packages\\sklearn\\model_selection\\_search.py:814: DeprecationWarning: The default of the `iid` parameter will change from True to False in version 0.22 and will be removed in 0.24. This will change numeric results when test-set sizes are unequal.\n  DeprecationWarning)\n"
     ],
     "output_type": "stream"
    },
    {
     "data": {
      "text/plain": "GridSearchCV(cv=3, error_score='raise-deprecating',\n             estimator=Pipeline(memory=None,\n                                steps=[('gbc',\n                                        GradientBoostingClassifier(criterion='friedman_mse',\n                                                                   init=None,\n                                                                   learning_rate=0.1,\n                                                                   loss='deviance',\n                                                                   max_depth=3,\n                                                                   max_features=None,\n                                                                   max_leaf_nodes=None,\n                                                                   min_impurity_decrease=0.0,\n                                                                   min_impurity_split=None,\n                                                                   min_samples_leaf=1,\n                                                                   min_samples_split=2,\n                                                                   min_weight_fraction_...\n                                                                   tol=0.0001,\n                                                                   validation_fraction=0.1,\n                                                                   verbose=0,\n                                                                   warm_start=False))],\n                                verbose=False),\n             iid='warn', n_jobs=-1,\n             param_grid={'gbc__learning_rate': [0.05, 0.1, 0.15, 0.3],\n                         'gbc__max_depth': [5, 6, 7, 10],\n                         'gbc__max_features': ['log2'],\n                         'gbc__n_estimators': [100, 200],\n                         'gbc__subsample': [0.8]},\n             pre_dispatch='2*n_jobs', refit=True, return_train_score=False,\n             scoring='f1_weighted', verbose=2)"
     },
     "metadata": {},
     "output_type": "execute_result",
     "execution_count": 75
    }
   ],
   "source": [
    "grid_gbc.fit(X_train, y_train)"
   ],
   "metadata": {
    "collapsed": false,
    "pycharm": {
     "name": "#%%\n",
     "is_executing": false
    }
   }
  },
  {
   "cell_type": "code",
   "execution_count": 77,
   "outputs": [
    {
     "data": {
      "text/plain": "{'gbc__learning_rate': 0.05,\n 'gbc__max_depth': 5,\n 'gbc__max_features': 'log2',\n 'gbc__n_estimators': 200,\n 'gbc__subsample': 0.8}"
     },
     "metadata": {},
     "output_type": "execute_result",
     "execution_count": 77
    }
   ],
   "source": [
    "grid_gbc.best_params_"
   ],
   "metadata": {
    "collapsed": false,
    "pycharm": {
     "name": "#%%\n",
     "is_executing": false
    }
   }
  },
  {
   "cell_type": "code",
   "execution_count": 78,
   "outputs": [
    {
     "name": "stderr",
     "text": [
      "C:\\Users\\rapha\\Anaconda3\\envs\\3_classification\\lib\\site-packages\\sklearn\\metrics\\classification.py:1437: UndefinedMetricWarning: F-score is ill-defined and being set to 0.0 in labels with no predicted samples.\n  'precision', 'predicted', average, warn_for)\n"
     ],
     "output_type": "stream"
    },
    {
     "data": {
      "text/plain": "0.1824628282698458"
     },
     "metadata": {},
     "output_type": "execute_result",
     "execution_count": 78
    }
   ],
   "source": [
    "grid_gbc.score(X_test, y_test)"
   ],
   "metadata": {
    "collapsed": false,
    "pycharm": {
     "name": "#%%\n",
     "is_executing": false
    }
   }
  },
  {
   "cell_type": "code",
   "execution_count": 79,
   "outputs": [],
   "source": [
    "y_pred_gbc = grid_gbc.predict(X_test)"
   ],
   "metadata": {
    "collapsed": false,
    "pycharm": {
     "name": "#%%\n",
     "is_executing": false
    }
   }
  },
  {
   "cell_type": "code",
   "execution_count": 81,
   "outputs": [
    {
     "name": "stdout",
     "text": [
      "              precision    recall  f1-score   support\n\n           0       0.12      0.20      0.15         5\n           1       0.00      0.00      0.00         5\n           2       0.23      0.60      0.33         5\n           3       0.00      0.00      0.00         4\n           4       0.00      0.00      0.00         3\n           5       0.50      0.33      0.40         3\n           6       0.00      0.00      0.00         4\n           7       0.00      0.00      0.00         2\n           8       0.11      0.20      0.14         5\n           9       0.50      1.00      0.67         6\n          10       0.00      0.00      0.00         4\n          11       0.15      0.33      0.21         6\n          12       0.00      0.00      0.00         5\n          13       0.00      0.00      0.00         5\n          14       0.00      0.00      0.00         4\n          15       1.00      0.60      0.75         5\n          16       0.25      0.40      0.31         5\n          17       0.00      0.00      0.00         4\n          18       0.14      0.25      0.18         4\n          19       0.00      0.00      0.00         4\n          20       0.50      0.20      0.29         5\n          21       0.00      0.00      0.00         5\n          22       0.00      0.00      0.00         6\n          23       0.00      0.00      0.00         5\n          24       0.00      0.00      0.00         3\n          25       0.00      0.00      0.00         4\n          26       0.14      0.20      0.17         5\n          27       0.20      0.25      0.22         4\n          28       0.25      0.20      0.22         5\n          29       0.14      0.17      0.15         6\n          30       0.50      0.40      0.44         5\n          31       0.00      0.00      0.00         5\n          32       0.25      0.20      0.22         5\n          33       0.80      0.80      0.80         5\n          34       0.50      0.25      0.33         4\n          35       0.00      0.00      0.00         4\n          36       0.60      0.60      0.60         5\n          37       0.14      0.20      0.17         5\n          38       0.14      0.20      0.17         5\n          39       0.27      0.60      0.37         5\n          40       0.33      0.25      0.29         4\n          41       0.20      0.20      0.20         5\n          42       0.25      0.20      0.22         5\n          43       0.00      0.00      0.00         5\n          44       0.40      0.50      0.44         4\n          45       0.00      0.00      0.00         4\n          46       0.00      0.00      0.00         4\n          47       0.00      0.00      0.00         3\n          48       0.00      0.00      0.00         4\n          49       0.00      0.00      0.00         3\n\n    accuracy                           0.20       225\n   macro avg       0.17      0.19      0.17       225\nweighted avg       0.18      0.20      0.18       225\n\n"
     ],
     "output_type": "stream"
    }
   ],
   "source": [
    "print(classification_report(y_test, y_pred_gbc)) "
   ],
   "metadata": {
    "collapsed": false,
    "pycharm": {
     "name": "#%%\n",
     "is_executing": false
    }
   }
  },
  {
   "cell_type": "code",
   "execution_count": 82,
   "outputs": [
    {
     "name": "stdout",
     "text": [
      "[[1 0 1 ... 0 0 0]\n [1 0 0 ... 0 0 0]\n [0 0 3 ... 0 0 0]\n ...\n [0 1 0 ... 0 0 0]\n [0 0 0 ... 0 0 0]\n [0 0 0 ... 0 0 0]]\n"
     ],
     "output_type": "stream"
    }
   ],
   "source": [
    "print(confusion_matrix(y_test, y_pred_gbc))\n",
    "cm = confusion_matrix(y_test, y_pred_gbc)\n",
    "\n",
    "\n"
   ],
   "metadata": {
    "collapsed": false,
    "pycharm": {
     "name": "#%%\n",
     "is_executing": false
    }
   }
  },
  {
   "cell_type": "markdown",
   "source": [
    "## Creating MLP-Classifier\n",
    "\n"
   ],
   "metadata": {
    "collapsed": false,
    "pycharm": {
     "name": "#%% md\n"
    }
   }
  },
  {
   "cell_type": "code",
   "execution_count": 83,
   "outputs": [],
   "source": [
    "from sklearn.neural_network import MLPClassifier"
   ],
   "metadata": {
    "collapsed": false,
    "pycharm": {
     "name": "#%%\n",
     "is_executing": false
    }
   }
  },
  {
   "cell_type": "code",
   "execution_count": 89,
   "outputs": [],
   "source": [
    "mdl_mlp = MLPClassifier(hidden_layer_sizes=(50, 50), activation='relu', alpha=0.0001, \n",
    "\t\t\t\t\t\tbatch_size=20, learning_rate='invscaling', learning_rate_init=0.001, verbose=True)\n"
   ],
   "metadata": {
    "collapsed": false,
    "pycharm": {
     "name": "#%%\n",
     "is_executing": false
    }
   }
  },
  {
   "cell_type": "code",
   "execution_count": 90,
   "outputs": [
    {
     "name": "stdout",
     "text": [
      "Iteration 1, loss = 4.66029775\n",
      "Iteration 2, loss = 3.82170619\n",
      "Iteration 3, loss = 3.52457844\n",
      "Iteration 4, loss = 3.10559927\n",
      "Iteration 5, loss = 2.42779156\n",
      "Iteration 6, loss = 1.76433185\n",
      "Iteration 7, loss = 1.12818540\n",
      "Iteration 8, loss = 0.67660549\n",
      "Iteration 9, loss = 0.34961302\n",
      "Iteration 10, loss = 0.19817959\n",
      "Iteration 11, loss = 0.12827695\n",
      "Iteration 12, loss = 0.08194513\n",
      "Iteration 13, loss = 0.05595143\n",
      "Iteration 14, loss = 0.04394356\n",
      "Iteration 15, loss = 0.03457355\n",
      "Iteration 16, loss = 0.02791353\n",
      "Iteration 17, loss = 0.02375397\n",
      "Iteration 18, loss = 0.02043554\n",
      "Iteration 19, loss = 0.01783804\n",
      "Iteration 20, loss = 0.01543666\n",
      "Iteration 21, loss = 0.01364024\n",
      "Iteration 22, loss = 0.01214293\n",
      "Iteration 23, loss = 0.01095939\n",
      "Iteration 24, loss = 0.00995971\n",
      "Iteration 25, loss = 0.00891591\n",
      "Iteration 26, loss = 0.00815973\n",
      "Iteration 27, loss = 0.00751202\n",
      "Iteration 28, loss = 0.00694199\n",
      "Iteration 29, loss = 0.00644585\n",
      "Iteration 30, loss = 0.00602058\n",
      "Iteration 31, loss = 0.00561595\n",
      "Iteration 32, loss = 0.00529619\n",
      "Iteration 33, loss = 0.00499407\n",
      "Iteration 34, loss = 0.00469353\n",
      "Iteration 35, loss = 0.00446694\n",
      "Iteration 36, loss = 0.00424259\n",
      "Iteration 37, loss = 0.00402769\n",
      "Iteration 38, loss = 0.00385475\n",
      "Iteration 39, loss = 0.00368814\n",
      "Iteration 40, loss = 0.00351715\n",
      "Iteration 41, loss = 0.00340101\n",
      "Iteration 42, loss = 0.00325700\n",
      "Iteration 43, loss = 0.00313302\n",
      "Iteration 44, loss = 0.00301811\n",
      "Iteration 45, loss = 0.00292121\n",
      "Iteration 46, loss = 0.00282791\n",
      "Iteration 47, loss = 0.00273450\n",
      "Iteration 48, loss = 0.00264792\n",
      "Iteration 49, loss = 0.00257361\n",
      "Iteration 50, loss = 0.00250729\n",
      "Iteration 51, loss = 0.00243390\n",
      "Iteration 52, loss = 0.00237332\n",
      "Iteration 53, loss = 0.00231395\n",
      "Iteration 54, loss = 0.00225697\n",
      "Iteration 55, loss = 0.00220426\nTraining loss did not improve more than tol=0.000100 for 10 consecutive epochs. Stopping.\n"
     ],
     "output_type": "stream"
    },
    {
     "data": {
      "text/plain": "MLPClassifier(activation='relu', alpha=0.0001, batch_size=20, beta_1=0.9,\n              beta_2=0.999, early_stopping=False, epsilon=1e-08,\n              hidden_layer_sizes=(50, 50), learning_rate='invscaling',\n              learning_rate_init=0.001, max_iter=200, momentum=0.9,\n              n_iter_no_change=10, nesterovs_momentum=True, power_t=0.5,\n              random_state=None, shuffle=True, solver='adam', tol=0.0001,\n              validation_fraction=0.1, verbose=True, warm_start=False)"
     },
     "metadata": {},
     "output_type": "execute_result",
     "execution_count": 90
    }
   ],
   "source": [
    "mdl_mlp.fit(X_train, y_train)"
   ],
   "metadata": {
    "collapsed": false,
    "pycharm": {
     "name": "#%%\n",
     "is_executing": false
    }
   }
  },
  {
   "cell_type": "code",
   "execution_count": 91,
   "outputs": [
    {
     "data": {
      "text/plain": "0.35555555555555557"
     },
     "metadata": {},
     "output_type": "execute_result",
     "execution_count": 91
    }
   ],
   "source": [
    "mdl_mlp.score(X_test, y_test)"
   ],
   "metadata": {
    "collapsed": false,
    "pycharm": {
     "name": "#%%\n",
     "is_executing": false
    }
   }
  },
  {
   "cell_type": "code",
   "execution_count": 92,
   "outputs": [],
   "source": [
    "y_pred_mdl = mdl_mlp.predict(X_test)"
   ],
   "metadata": {
    "collapsed": false,
    "pycharm": {
     "name": "#%%\n",
     "is_executing": false
    }
   }
  },
  {
   "cell_type": "code",
   "execution_count": 93,
   "outputs": [
    {
     "name": "stdout",
     "text": [
      "              precision    recall  f1-score   support\n\n           0       0.67      0.40      0.50         5\n           1       0.71      1.00      0.83         5\n           2       0.31      0.80      0.44         5\n           3       0.00      0.00      0.00         4\n           4       0.00      0.00      0.00         3\n           5       0.40      0.67      0.50         3\n           6       0.00      0.00      0.00         4\n           7       0.00      0.00      0.00         2\n           8       0.00      0.00      0.00         5\n           9       0.71      0.83      0.77         6\n          10       0.75      0.75      0.75         4\n          11       0.75      0.50      0.60         6\n          12       0.20      0.20      0.20         5\n          13       0.67      0.40      0.50         5\n          14       0.00      0.00      0.00         4\n          15       0.67      0.80      0.73         5\n          16       0.20      0.20      0.20         5\n          17       0.50      0.25      0.33         4\n          18       1.00      0.50      0.67         4\n          19       0.00      0.00      0.00         4\n          20       0.33      0.20      0.25         5\n          21       0.00      0.00      0.00         5\n          22       0.21      0.50      0.30         6\n          23       0.50      0.40      0.44         5\n          24       0.00      0.00      0.00         3\n          25       0.20      0.25      0.22         4\n          26       0.80      0.80      0.80         5\n          27       1.00      0.50      0.67         4\n          28       0.16      0.60      0.25         5\n          29       0.33      0.17      0.22         6\n          30       0.12      0.20      0.15         5\n          31       0.00      0.00      0.00         5\n          32       0.25      0.20      0.22         5\n          33       1.00      0.80      0.89         5\n          34       0.25      0.50      0.33         4\n          35       0.33      0.50      0.40         4\n          36       0.38      0.60      0.46         5\n          37       1.00      0.40      0.57         5\n          38       0.25      0.20      0.22         5\n          39       0.33      0.40      0.36         5\n          40       0.50      0.50      0.50         4\n          41       0.25      0.20      0.22         5\n          42       0.25      0.20      0.22         5\n          43       0.20      0.20      0.20         5\n          44       0.33      0.50      0.40         4\n          45       0.40      0.50      0.44         4\n          46       0.25      0.25      0.25         4\n          47       0.00      0.00      0.00         3\n          48       0.00      0.00      0.00         4\n          49       0.00      0.00      0.00         3\n\n    accuracy                           0.36       225\n   macro avg       0.34      0.34      0.32       225\nweighted avg       0.36      0.36      0.34       225\n\n"
     ],
     "output_type": "stream"
    },
    {
     "name": "stderr",
     "text": [
      "C:\\Users\\rapha\\Anaconda3\\envs\\3_classification\\lib\\site-packages\\sklearn\\metrics\\classification.py:1437: UndefinedMetricWarning: Precision and F-score are ill-defined and being set to 0.0 in labels with no predicted samples.\n  'precision', 'predicted', average, warn_for)\n"
     ],
     "output_type": "stream"
    }
   ],
   "source": [
    "print(classification_report(y_test, y_pred_mdl)) "
   ],
   "metadata": {
    "collapsed": false,
    "pycharm": {
     "name": "#%%\n",
     "is_executing": false
    }
   }
  },
  {
   "cell_type": "code",
   "execution_count": 94,
   "outputs": [
    {
     "name": "stdout",
     "text": [
      "[[2 0 0 ... 0 0 0]\n [0 5 0 ... 0 0 0]\n [0 0 4 ... 0 0 0]\n ...\n [0 0 0 ... 0 0 0]\n [0 0 0 ... 0 0 0]\n [0 0 0 ... 0 0 0]]\n"
     ],
     "output_type": "stream"
    }
   ],
   "source": [
    "print(confusion_matrix(y_test, y_pred_mdl))\n",
    "cm = confusion_matrix(y_test, y_pred_mdl)\n",
    "\n",
    "\n"
   ],
   "metadata": {
    "collapsed": false,
    "pycharm": {
     "name": "#%%\n",
     "is_executing": false
    }
   }
  }
 ],
 "metadata": {
  "kernelspec": {
   "display_name": "Python 3",
   "language": "python",
   "name": "python3"
  },
  "language_info": {
   "codemirror_mode": {
    "name": "ipython",
    "version": 2
   },
   "file_extension": ".py",
   "mimetype": "text/x-python",
   "name": "python",
   "nbconvert_exporter": "python",
   "pygments_lexer": "ipython2",
   "version": "2.7.6"
  },
  "pycharm": {
   "stem_cell": {
    "cell_type": "raw",
    "source": [],
    "metadata": {
     "collapsed": false
    }
   }
  }
 },
 "nbformat": 4,
 "nbformat_minor": 0
}